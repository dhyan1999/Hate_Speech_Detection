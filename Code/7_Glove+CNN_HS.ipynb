{
  "nbformat": 4,
  "nbformat_minor": 0,
  "metadata": {
    "colab": {
      "name": "6_Glove+CNN_HS.ipynb",
      "provenance": []
    },
    "kernelspec": {
      "name": "python3",
      "display_name": "Python 3"
    },
    "language_info": {
      "name": "python"
    }
  },
  "cells": [
    {
      "cell_type": "markdown",
      "source": [
        "## Importing Libraries"
      ],
      "metadata": {
        "id": "TOkLeK0nap8N"
      }
    },
    {
      "cell_type": "code",
      "execution_count": null,
      "metadata": {
        "id": "Dk5-fdtnPZ_K"
      },
      "outputs": [],
      "source": [
        "import pandas as pd\n",
        "import numpy as np\n",
        "import matplotlib.pyplot as plt\n",
        "import nltk\n",
        "from nltk.corpus import stopwords\n",
        "from nltk.tokenize import word_tokenize\n",
        "import keras\n",
        "from keras.models import Sequential\n",
        "from keras.initializers import Constant\n",
        "from keras.preprocessing.text import Tokenizer\n",
        "from keras.preprocessing.sequence import pad_sequences\n",
        "from tensorflow.keras.optimizers import Adam\n",
        "from keras.layers.convolutional import Conv2D\n",
        "from keras.layers.convolutional import MaxPooling2D\n",
        "from keras.layers import BatchNormalization\n",
        "from keras.callbacks import ReduceLROnPlateau,CSVLogger\n",
        "from tqdm.notebook import tqdm\n",
        "import tensorflow as tf\n",
        "from tensorflow.keras.layers import LSTM\n",
        "from tensorflow.keras.layers import Dense, Dropout, Activation,Flatten,Embedding,Conv1D, GlobalMaxPooling1D \n",
        "from sklearn.model_selection import train_test_split\n",
        "from sklearn.metrics import accuracy_score, f1_score, confusion_matrix,classification_report\n",
        "import shutil"
      ]
    },
    {
      "cell_type": "code",
      "source": [
        "df = pd.read_csv(\"/content/Final_hate.csv\")\n",
        "df"
      ],
      "metadata": {
        "colab": {
          "base_uri": "https://localhost:8080/",
          "height": 424
        },
        "id": "AnL37ECHQbKq",
        "outputId": "5da75cfb-4046-403e-d717-b55ba1e8e794"
      },
      "execution_count": null,
      "outputs": [
        {
          "output_type": "execute_result",
          "data": {
            "text/plain": [
              "        Unnamed: 0                                               Text  label\n",
              "0                0  RT @MailOnline: The Nazi death gas so horrific...      0\n",
              "1                1  Carlos Correa had gyalchester as his walkup mu...      0\n",
              "2                2  \"THE FORCE AWAKENS: A Bad Lip Reading\" (Featur...      0\n",
              "3                3  RT @HeeeyMonica: Papaya has to be the worst fr...      0\n",
              "4                4  @Pineaqples @DenialEsports btw I watched where...      0\n",
              "...            ...                                                ...    ...\n",
              "103216      103216  you's a muthaf***in lie &#8220;@LifeAsKing: @2...      0\n",
              "103217      103217  you've gone and broke the wrong heart baby, an...      0\n",
              "103218      103218  young buck wanna eat!!.. dat nigguh like I ain...      0\n",
              "103219      103219              youu got wild bitches tellin you lies      0\n",
              "103220      103220  ~~Ruffled | Ntac Eileen Dahlia - Beautiful col...      0\n",
              "\n",
              "[103221 rows x 3 columns]"
            ],
            "text/html": [
              "\n",
              "  <div id=\"df-72bf5b2c-f1b5-4abc-a49f-207328e6dca9\">\n",
              "    <div class=\"colab-df-container\">\n",
              "      <div>\n",
              "<style scoped>\n",
              "    .dataframe tbody tr th:only-of-type {\n",
              "        vertical-align: middle;\n",
              "    }\n",
              "\n",
              "    .dataframe tbody tr th {\n",
              "        vertical-align: top;\n",
              "    }\n",
              "\n",
              "    .dataframe thead th {\n",
              "        text-align: right;\n",
              "    }\n",
              "</style>\n",
              "<table border=\"1\" class=\"dataframe\">\n",
              "  <thead>\n",
              "    <tr style=\"text-align: right;\">\n",
              "      <th></th>\n",
              "      <th>Unnamed: 0</th>\n",
              "      <th>Text</th>\n",
              "      <th>label</th>\n",
              "    </tr>\n",
              "  </thead>\n",
              "  <tbody>\n",
              "    <tr>\n",
              "      <th>0</th>\n",
              "      <td>0</td>\n",
              "      <td>RT @MailOnline: The Nazi death gas so horrific...</td>\n",
              "      <td>0</td>\n",
              "    </tr>\n",
              "    <tr>\n",
              "      <th>1</th>\n",
              "      <td>1</td>\n",
              "      <td>Carlos Correa had gyalchester as his walkup mu...</td>\n",
              "      <td>0</td>\n",
              "    </tr>\n",
              "    <tr>\n",
              "      <th>2</th>\n",
              "      <td>2</td>\n",
              "      <td>\"THE FORCE AWAKENS: A Bad Lip Reading\" (Featur...</td>\n",
              "      <td>0</td>\n",
              "    </tr>\n",
              "    <tr>\n",
              "      <th>3</th>\n",
              "      <td>3</td>\n",
              "      <td>RT @HeeeyMonica: Papaya has to be the worst fr...</td>\n",
              "      <td>0</td>\n",
              "    </tr>\n",
              "    <tr>\n",
              "      <th>4</th>\n",
              "      <td>4</td>\n",
              "      <td>@Pineaqples @DenialEsports btw I watched where...</td>\n",
              "      <td>0</td>\n",
              "    </tr>\n",
              "    <tr>\n",
              "      <th>...</th>\n",
              "      <td>...</td>\n",
              "      <td>...</td>\n",
              "      <td>...</td>\n",
              "    </tr>\n",
              "    <tr>\n",
              "      <th>103216</th>\n",
              "      <td>103216</td>\n",
              "      <td>you's a muthaf***in lie &amp;#8220;@LifeAsKing: @2...</td>\n",
              "      <td>0</td>\n",
              "    </tr>\n",
              "    <tr>\n",
              "      <th>103217</th>\n",
              "      <td>103217</td>\n",
              "      <td>you've gone and broke the wrong heart baby, an...</td>\n",
              "      <td>0</td>\n",
              "    </tr>\n",
              "    <tr>\n",
              "      <th>103218</th>\n",
              "      <td>103218</td>\n",
              "      <td>young buck wanna eat!!.. dat nigguh like I ain...</td>\n",
              "      <td>0</td>\n",
              "    </tr>\n",
              "    <tr>\n",
              "      <th>103219</th>\n",
              "      <td>103219</td>\n",
              "      <td>youu got wild bitches tellin you lies</td>\n",
              "      <td>0</td>\n",
              "    </tr>\n",
              "    <tr>\n",
              "      <th>103220</th>\n",
              "      <td>103220</td>\n",
              "      <td>~~Ruffled | Ntac Eileen Dahlia - Beautiful col...</td>\n",
              "      <td>0</td>\n",
              "    </tr>\n",
              "  </tbody>\n",
              "</table>\n",
              "<p>103221 rows × 3 columns</p>\n",
              "</div>\n",
              "      <button class=\"colab-df-convert\" onclick=\"convertToInteractive('df-72bf5b2c-f1b5-4abc-a49f-207328e6dca9')\"\n",
              "              title=\"Convert this dataframe to an interactive table.\"\n",
              "              style=\"display:none;\">\n",
              "        \n",
              "  <svg xmlns=\"http://www.w3.org/2000/svg\" height=\"24px\"viewBox=\"0 0 24 24\"\n",
              "       width=\"24px\">\n",
              "    <path d=\"M0 0h24v24H0V0z\" fill=\"none\"/>\n",
              "    <path d=\"M18.56 5.44l.94 2.06.94-2.06 2.06-.94-2.06-.94-.94-2.06-.94 2.06-2.06.94zm-11 1L8.5 8.5l.94-2.06 2.06-.94-2.06-.94L8.5 2.5l-.94 2.06-2.06.94zm10 10l.94 2.06.94-2.06 2.06-.94-2.06-.94-.94-2.06-.94 2.06-2.06.94z\"/><path d=\"M17.41 7.96l-1.37-1.37c-.4-.4-.92-.59-1.43-.59-.52 0-1.04.2-1.43.59L10.3 9.45l-7.72 7.72c-.78.78-.78 2.05 0 2.83L4 21.41c.39.39.9.59 1.41.59.51 0 1.02-.2 1.41-.59l7.78-7.78 2.81-2.81c.8-.78.8-2.07 0-2.86zM5.41 20L4 18.59l7.72-7.72 1.47 1.35L5.41 20z\"/>\n",
              "  </svg>\n",
              "      </button>\n",
              "      \n",
              "  <style>\n",
              "    .colab-df-container {\n",
              "      display:flex;\n",
              "      flex-wrap:wrap;\n",
              "      gap: 12px;\n",
              "    }\n",
              "\n",
              "    .colab-df-convert {\n",
              "      background-color: #E8F0FE;\n",
              "      border: none;\n",
              "      border-radius: 50%;\n",
              "      cursor: pointer;\n",
              "      display: none;\n",
              "      fill: #1967D2;\n",
              "      height: 32px;\n",
              "      padding: 0 0 0 0;\n",
              "      width: 32px;\n",
              "    }\n",
              "\n",
              "    .colab-df-convert:hover {\n",
              "      background-color: #E2EBFA;\n",
              "      box-shadow: 0px 1px 2px rgba(60, 64, 67, 0.3), 0px 1px 3px 1px rgba(60, 64, 67, 0.15);\n",
              "      fill: #174EA6;\n",
              "    }\n",
              "\n",
              "    [theme=dark] .colab-df-convert {\n",
              "      background-color: #3B4455;\n",
              "      fill: #D2E3FC;\n",
              "    }\n",
              "\n",
              "    [theme=dark] .colab-df-convert:hover {\n",
              "      background-color: #434B5C;\n",
              "      box-shadow: 0px 1px 3px 1px rgba(0, 0, 0, 0.15);\n",
              "      filter: drop-shadow(0px 1px 2px rgba(0, 0, 0, 0.3));\n",
              "      fill: #FFFFFF;\n",
              "    }\n",
              "  </style>\n",
              "\n",
              "      <script>\n",
              "        const buttonEl =\n",
              "          document.querySelector('#df-72bf5b2c-f1b5-4abc-a49f-207328e6dca9 button.colab-df-convert');\n",
              "        buttonEl.style.display =\n",
              "          google.colab.kernel.accessAllowed ? 'block' : 'none';\n",
              "\n",
              "        async function convertToInteractive(key) {\n",
              "          const element = document.querySelector('#df-72bf5b2c-f1b5-4abc-a49f-207328e6dca9');\n",
              "          const dataTable =\n",
              "            await google.colab.kernel.invokeFunction('convertToInteractive',\n",
              "                                                     [key], {});\n",
              "          if (!dataTable) return;\n",
              "\n",
              "          const docLinkHtml = 'Like what you see? Visit the ' +\n",
              "            '<a target=\"_blank\" href=https://colab.research.google.com/notebooks/data_table.ipynb>data table notebook</a>'\n",
              "            + ' to learn more about interactive tables.';\n",
              "          element.innerHTML = '';\n",
              "          dataTable['output_type'] = 'display_data';\n",
              "          await google.colab.output.renderOutput(dataTable, element);\n",
              "          const docLink = document.createElement('div');\n",
              "          docLink.innerHTML = docLinkHtml;\n",
              "          element.appendChild(docLink);\n",
              "        }\n",
              "      </script>\n",
              "    </div>\n",
              "  </div>\n",
              "  "
            ]
          },
          "metadata": {},
          "execution_count": 3
        }
      ]
    },
    {
      "cell_type": "code",
      "source": [
        "c = df.columns\n",
        "c"
      ],
      "metadata": {
        "colab": {
          "base_uri": "https://localhost:8080/"
        },
        "id": "uDfci7cWQrEz",
        "outputId": "edac29d7-2da5-4be0-84ec-74e6525591f7"
      },
      "execution_count": null,
      "outputs": [
        {
          "output_type": "execute_result",
          "data": {
            "text/plain": [
              "Index(['Unnamed: 0', 'Text', 'label'], dtype='object')"
            ]
          },
          "metadata": {},
          "execution_count": 4
        }
      ]
    },
    {
      "cell_type": "code",
      "source": [
        "hate, non_hate = np.bincount(df['label'])\n",
        "total = hate + non_hate\n",
        "print('Examples:\\n    Total: {}\\n    hate: {} ({:.2f}% of total)\\n'.format(\n",
        "    total, hate, 100 * hate / total))\n",
        "print('Examples:\\n    Total: {}\\n    non_hate: {} ({:.2f}% of total)\\n'.format(\n",
        "    total, non_hate, 100 * non_hate / total))"
      ],
      "metadata": {
        "colab": {
          "base_uri": "https://localhost:8080/"
        },
        "id": "5No-YX59cgK1",
        "outputId": "22b7f5eb-7e68-48ad-eff8-b4a6b28ea331"
      },
      "execution_count": null,
      "outputs": [
        {
          "output_type": "stream",
          "name": "stdout",
          "text": [
            "Examples:\n",
            "    Total: 103221\n",
            "    hate: 90823 (87.99% of total)\n",
            "\n",
            "Examples:\n",
            "    Total: 103221\n",
            "    non_hate: 12398 (12.01% of total)\n",
            "\n"
          ]
        }
      ]
    },
    {
      "cell_type": "code",
      "source": [
        "df = df.fillna('')"
      ],
      "metadata": {
        "id": "L9wCReSOQuoL"
      },
      "execution_count": null,
      "outputs": []
    },
    {
      "cell_type": "code",
      "source": [
        "x= df['Text']\n",
        "y=df['label']"
      ],
      "metadata": {
        "id": "J2IAHjPL0-Pz"
      },
      "execution_count": null,
      "outputs": []
    },
    {
      "cell_type": "code",
      "source": [
        "texts = x\n",
        "target = y"
      ],
      "metadata": {
        "id": "jS4w9ZflLteh"
      },
      "execution_count": null,
      "outputs": []
    },
    {
      "cell_type": "code",
      "source": [
        "nltk.download('punkt')"
      ],
      "metadata": {
        "colab": {
          "base_uri": "https://localhost:8080/"
        },
        "id": "JMABOhYcRwyb",
        "outputId": "c2379b3e-8603-4c7d-c261-b66e4cb20cb2"
      },
      "execution_count": null,
      "outputs": [
        {
          "output_type": "stream",
          "name": "stdout",
          "text": [
            "[nltk_data] Downloading package punkt to /root/nltk_data...\n",
            "[nltk_data]   Unzipping tokenizers/punkt.zip.\n"
          ]
        },
        {
          "output_type": "execute_result",
          "data": {
            "text/plain": [
              "True"
            ]
          },
          "metadata": {},
          "execution_count": 9
        }
      ]
    },
    {
      "cell_type": "code",
      "source": [
        "#Downloading the Glove embedding file\n",
        "!wget http://nlp.stanford.edu/data/glove.6B.zip"
      ],
      "metadata": {
        "colab": {
          "base_uri": "https://localhost:8080/"
        },
        "id": "PMae_wYAX_zQ",
        "outputId": "f826a159-700a-4d30-914e-f36893f64bd1"
      },
      "execution_count": null,
      "outputs": [
        {
          "output_type": "stream",
          "name": "stdout",
          "text": [
            "--2022-06-09 02:38:05--  http://nlp.stanford.edu/data/glove.6B.zip\n",
            "Resolving nlp.stanford.edu (nlp.stanford.edu)... 171.64.67.140\n",
            "Connecting to nlp.stanford.edu (nlp.stanford.edu)|171.64.67.140|:80... connected.\n",
            "HTTP request sent, awaiting response... 302 Found\n",
            "Location: https://nlp.stanford.edu/data/glove.6B.zip [following]\n",
            "--2022-06-09 02:38:06--  https://nlp.stanford.edu/data/glove.6B.zip\n",
            "Connecting to nlp.stanford.edu (nlp.stanford.edu)|171.64.67.140|:443... connected.\n",
            "HTTP request sent, awaiting response... 301 Moved Permanently\n",
            "Location: http://downloads.cs.stanford.edu/nlp/data/glove.6B.zip [following]\n",
            "--2022-06-09 02:38:06--  http://downloads.cs.stanford.edu/nlp/data/glove.6B.zip\n",
            "Resolving downloads.cs.stanford.edu (downloads.cs.stanford.edu)... 171.64.64.22\n",
            "Connecting to downloads.cs.stanford.edu (downloads.cs.stanford.edu)|171.64.64.22|:80... connected.\n",
            "HTTP request sent, awaiting response... 200 OK\n",
            "Length: 862182613 (822M) [application/zip]\n",
            "Saving to: ‘glove.6B.zip’\n",
            "\n",
            "glove.6B.zip        100%[===================>] 822.24M  5.03MB/s    in 2m 40s  \n",
            "\n",
            "2022-06-09 02:40:46 (5.13 MB/s) - ‘glove.6B.zip’ saved [862182613/862182613]\n",
            "\n"
          ]
        }
      ]
    },
    {
      "cell_type": "code",
      "source": [
        "#unzipping\n",
        "!unzip glove*.zip"
      ],
      "metadata": {
        "colab": {
          "base_uri": "https://localhost:8080/"
        },
        "id": "phZOMh36eOVP",
        "outputId": "9e65b8a7-5e58-4fbe-bda7-383186183793"
      },
      "execution_count": null,
      "outputs": [
        {
          "output_type": "stream",
          "name": "stdout",
          "text": [
            "Archive:  glove.6B.zip\n",
            "  inflating: glove.6B.50d.txt        \n",
            "  inflating: glove.6B.100d.txt       \n",
            "  inflating: glove.6B.200d.txt       \n",
            "  inflating: glove.6B.300d.txt       \n"
          ]
        }
      ]
    },
    {
      "cell_type": "code",
      "source": [
        "#Get the exact path of where the embedding vectors are extracted using\n",
        "!ls\n",
        "!pwd"
      ],
      "metadata": {
        "colab": {
          "base_uri": "https://localhost:8080/"
        },
        "id": "RqhsASZFeRax",
        "outputId": "4043af95-be56-46ec-b257-ce9ab94bd165"
      },
      "execution_count": null,
      "outputs": [
        {
          "output_type": "stream",
          "name": "stdout",
          "text": [
            "BERTContextual_30percHSnew.csv\tglove.6B.200d.txt  glove.6B.zip\n",
            "Final_hate.csv\t\t\tglove.6B.300d.txt  sample_data\n",
            "glove.6B.100d.txt\t\tglove.6B.50d.txt\n",
            "/content\n"
          ]
        }
      ]
    },
    {
      "cell_type": "code",
      "source": [
        "word_tokenizer = Tokenizer()\n",
        "word_tokenizer.fit_on_texts(texts)\n",
        "#defining vocabulary length\n",
        "vocab_length = len(word_tokenizer.word_index) + 1\n",
        "\n",
        "def embed(text_data): \n",
        "    return word_tokenizer.texts_to_sequences(text_data)\n",
        "\n",
        "longest_train = max(texts, key=lambda sentence: len(word_tokenize(sentence)))\n",
        "length_long_sentence = len(word_tokenize(longest_train))\n",
        "\n",
        "#padding_data\n",
        "train_padded_sentences = pad_sequences(\n",
        "    embed(texts), \n",
        "    length_long_sentence, \n",
        "    padding='post'\n",
        ")\n",
        "\n",
        "embeddings_dictionary = dict()\n",
        "embedding_dim = 100\n",
        "\n",
        "# Loading GloVe-100D embedding_file\n",
        "with open('/content/glove.6B.100d.txt') as fp:\n",
        "    for line in fp.readlines():\n",
        "        records = line.split()\n",
        "        word = records[0]\n",
        "        vector_dimensions = np.asarray(records[1:], dtype='float32')\n",
        "        embeddings_dictionary[word] = vector_dimensions\n",
        "\n",
        "# Loading embedding_vectors of words which comes in Glove files other will be equated to 0\n",
        "#defining embedding matrix shape\n",
        "embedding_matrix = np.zeros((vocab_length, embedding_dim))\n",
        "#creating embedding matrix\n",
        "for word, index in word_tokenizer.word_index.items(): \n",
        "    embedding_vector = embeddings_dictionary.get(word)\n",
        "    if embedding_vector is not None:\n",
        "        embedding_matrix[index] = embedding_vector"
      ],
      "metadata": {
        "id": "-548OfkdRPEP"
      },
      "execution_count": null,
      "outputs": []
    },
    {
      "cell_type": "markdown",
      "source": [
        "## Train Test Split"
      ],
      "metadata": {
        "id": "UiaJ2oA9avyZ"
      }
    },
    {
      "cell_type": "code",
      "source": [
        "#set aside 20% of train and test data for evaluation\n",
        "X_train, X_val, y_train, y_val = train_test_split(train_padded_sentences, target, test_size=0.2, shuffle = True, random_state = 8)\n",
        "\n",
        "\n",
        "print(\"X_train shape: {}\".format(X_train.shape))\n",
        "print(\"X_val shape: {}\".format(X_val.shape))\n",
        "print(\"y_train shape: {}\".format(y_train.shape))\n",
        "print(\"y_val shape: {}\".format(y_val.shape))\n",
        "\n",
        "\n",
        "print(\"========================\")\n",
        "\n",
        "# Use the same function above for the validation set\n",
        "X_train, X_test, y_train, y_test = train_test_split(X_train, y_train, test_size=0.25, random_state= 8) # 0.25 x 0.8 = 0.2\n",
        "\n",
        "\n",
        "print(\"X_train shape: {}\".format(X_train.shape))\n",
        "print(\"y_train shape: {}\".format(y_train.shape))\n",
        "print(\"X_test shape: {}\".format(X_test.shape))\n",
        "print(\"y_test shape: {}\".format(y_test.shape))\n",
        "\n",
        "\n"
      ],
      "metadata": {
        "colab": {
          "base_uri": "https://localhost:8080/"
        },
        "id": "q13Hi4AiQ7lh",
        "outputId": "94a9a789-9702-4855-965f-bc80822c4c31"
      },
      "execution_count": null,
      "outputs": [
        {
          "output_type": "stream",
          "name": "stdout",
          "text": [
            "X_train shape: (82576, 1209)\n",
            "X_val shape: (20645, 1209)\n",
            "y_train shape: (82576,)\n",
            "y_val shape: (20645,)\n",
            "========================\n",
            "X_train shape: (61932, 1209)\n",
            "y_train shape: (61932,)\n",
            "X_test shape: (20644, 1209)\n",
            "y_test shape: (20644,)\n"
          ]
        }
      ]
    },
    {
      "cell_type": "code",
      "source": [
        "reduce_lr = ReduceLROnPlateau(\n",
        "    monitor = 'val_loss', \n",
        "    factor = 0.2, \n",
        "    verbose = 1, \n",
        "    patience = 5,                        \n",
        "    min_lr = 0.001\n",
        ")\n",
        "epoch_count=20\n",
        "batch_size= 128"
      ],
      "metadata": {
        "id": "LfiD4znrZY2t"
      },
      "execution_count": null,
      "outputs": []
    },
    {
      "cell_type": "code",
      "source": [
        "#defining_class_weight for each class\n",
        "weight_class1 = (1 / hate)*(total)/2.0 \n",
        "weight_class2 = (1 / non_hate)*(total)/2.0\n",
        "class_weight = {1: weight_class1, 0: weight_class2}"
      ],
      "metadata": {
        "id": "66TA8aylaivq"
      },
      "execution_count": null,
      "outputs": []
    },
    {
      "cell_type": "code",
      "source": [
        "class_weight"
      ],
      "metadata": {
        "colab": {
          "base_uri": "https://localhost:8080/"
        },
        "id": "kQXGf82K1dA-",
        "outputId": "643ffafb-1a30-4bef-fa9f-44432727674b"
      },
      "execution_count": null,
      "outputs": [
        {
          "output_type": "execute_result",
          "data": {
            "text/plain": [
              "{0: 4.162808517502823, 1: 0.5682536361934752}"
            ]
          },
          "metadata": {},
          "execution_count": 18
        }
      ]
    },
    {
      "cell_type": "code",
      "source": [
        "pip install tensorflow-addons"
      ],
      "metadata": {
        "colab": {
          "base_uri": "https://localhost:8080/"
        },
        "id": "0GJxPS4zXv67",
        "outputId": "a8050e52-b548-4f56-e5e1-86cc5ea92da9"
      },
      "execution_count": null,
      "outputs": [
        {
          "output_type": "stream",
          "name": "stdout",
          "text": [
            "Looking in indexes: https://pypi.org/simple, https://us-python.pkg.dev/colab-wheels/public/simple/\n",
            "Collecting tensorflow-addons\n",
            "  Downloading tensorflow_addons-0.17.0-cp37-cp37m-manylinux_2_17_x86_64.manylinux2014_x86_64.whl (1.1 MB)\n",
            "\u001b[K     |████████████████████████████████| 1.1 MB 28.9 MB/s \n",
            "\u001b[?25hRequirement already satisfied: typeguard>=2.7 in /usr/local/lib/python3.7/dist-packages (from tensorflow-addons) (2.7.1)\n",
            "Requirement already satisfied: packaging in /usr/local/lib/python3.7/dist-packages (from tensorflow-addons) (21.3)\n",
            "Requirement already satisfied: pyparsing!=3.0.5,>=2.0.2 in /usr/local/lib/python3.7/dist-packages (from packaging->tensorflow-addons) (3.0.9)\n",
            "Installing collected packages: tensorflow-addons\n",
            "Successfully installed tensorflow-addons-0.17.0\n"
          ]
        }
      ]
    },
    {
      "cell_type": "markdown",
      "source": [
        "## MODEL"
      ],
      "metadata": {
        "id": "N2Dt9UOna2YR"
      }
    },
    {
      "cell_type": "code",
      "source": [
        "import tensorflow_addons as tfa"
      ],
      "metadata": {
        "id": "rW4q3DmlX3k7"
      },
      "execution_count": null,
      "outputs": []
    },
    {
      "cell_type": "code",
      "source": [
        "import keras.backend as K\n",
        "def get_f1(y_true, y_pred): #taken from old keras source code\n",
        "    true_positives = K.sum(K.round(K.clip(y_true * y_pred, 0, 1)))\n",
        "    possible_positives = K.sum(K.round(K.clip(y_true, 0, 1)))\n",
        "    predicted_positives = K.sum(K.round(K.clip(y_pred, 0, 1)))\n",
        "    precision = true_positives / (predicted_positives + K.epsilon())\n",
        "    recall = true_positives / (possible_positives + K.epsilon())\n",
        "    f1_val = 2*(precision*recall)/(precision+recall+K.epsilon())\n",
        "    return f1_val"
      ],
      "metadata": {
        "id": "Bg50CHwSX92P"
      },
      "execution_count": null,
      "outputs": []
    },
    {
      "cell_type": "code",
      "source": [
        "METRICS = [\n",
        "      tf.keras.metrics.BinaryAccuracy(name='accuracy'),\n",
        "      tf.keras.metrics.Precision(name='precision'),\n",
        "      tf.keras.metrics.Recall(name='recall'),get_f1\n",
        "]"
      ],
      "metadata": {
        "id": "O574x94eYFaX"
      },
      "execution_count": null,
      "outputs": []
    },
    {
      "cell_type": "code",
      "source": [
        "def CNN():\n",
        "    model = Sequential()\n",
        "    #adding embedding layer\n",
        "    model.add(Embedding(\n",
        "        input_dim=embedding_matrix.shape[0], \n",
        "        output_dim=embedding_matrix.shape[1], \n",
        "        weights = [embedding_matrix], \n",
        "        input_length=length_long_sentence))\n",
        "    # 2 CNN layer\n",
        "    model.add(Conv1D(32,2,padding='valid', activation='relu')) #cnn_layer_1\n",
        "    model.add(Conv1D(64,2,padding='valid',activation='relu')) #cnn_layer_2\n",
        "    model.add(GlobalMaxPooling1D()) #globalmaxpooling_layer\n",
        "    model.add(Dense(256, activation='relu')) #dense_layer\n",
        "    model.add(Dropout(0.1)) #dropout_layer\n",
        "    model.add(Dense(1, activation = 'softmax')) #classification layer\n",
        "    #model.compile(loss = tf.keras.losses.binary_crossentropy, optimizer = 'adam', metrics = METRICS)\n",
        "    model.compile(optimizer='adam',\n",
        "              loss='binary_crossentropy',\n",
        "              metrics=METRICS)\n",
        "    return model\n",
        "    "
      ],
      "metadata": {
        "id": "vEsH9QmqRFfP"
      },
      "execution_count": null,
      "outputs": []
    },
    {
      "cell_type": "code",
      "source": [
        "#builiding CNN model\n",
        "model2=CNN()\n",
        " \n",
        "#running mode\n",
        "history2 = model2.fit(\n",
        "    X_train, \n",
        "    y_train, \n",
        "    epochs = epoch_count,\n",
        "    batch_size = batch_size,\n",
        "    validation_data = (X_val, y_val),\n",
        "    verbose = 1,\n",
        "    callbacks = [reduce_lr],\n",
        "    class_weight = class_weight\n",
        ")"
      ],
      "metadata": {
        "colab": {
          "base_uri": "https://localhost:8080/"
        },
        "id": "aGr7X5qrhKez",
        "outputId": "104fa26d-d6cc-4ac2-bf44-4163e9c5b4b6"
      },
      "execution_count": null,
      "outputs": [
        {
          "output_type": "stream",
          "name": "stdout",
          "text": [
            "Epoch 1/20\n",
            "484/484 [==============================] - 276s 568ms/step - loss: 0.2899 - accuracy: 0.1193 - precision: 0.1193 - recall: 1.0000 - get_f1: 0.2121 - val_loss: 0.2978 - val_accuracy: 0.1228 - val_precision: 0.1228 - val_recall: 1.0000 - val_get_f1: 0.2173 - lr: 0.0010\n",
            "Epoch 2/20\n",
            "484/484 [==============================] - 272s 562ms/step - loss: 0.1985 - accuracy: 0.1193 - precision: 0.1193 - recall: 1.0000 - get_f1: 0.2121 - val_loss: 0.2671 - val_accuracy: 0.1228 - val_precision: 0.1228 - val_recall: 1.0000 - val_get_f1: 0.2173 - lr: 0.0010\n",
            "Epoch 3/20\n",
            "484/484 [==============================] - 276s 571ms/step - loss: 0.1359 - accuracy: 0.1193 - precision: 0.1193 - recall: 1.0000 - get_f1: 0.2122 - val_loss: 0.2680 - val_accuracy: 0.1228 - val_precision: 0.1228 - val_recall: 1.0000 - val_get_f1: 0.2173 - lr: 0.0010\n",
            "Epoch 4/20\n",
            "484/484 [==============================] - 275s 569ms/step - loss: 0.0779 - accuracy: 0.1193 - precision: 0.1193 - recall: 1.0000 - get_f1: 0.2120 - val_loss: 0.3219 - val_accuracy: 0.1228 - val_precision: 0.1228 - val_recall: 1.0000 - val_get_f1: 0.2173 - lr: 0.0010\n",
            "Epoch 5/20\n",
            "484/484 [==============================] - 271s 560ms/step - loss: 0.0407 - accuracy: 0.1193 - precision: 0.1193 - recall: 1.0000 - get_f1: 0.2122 - val_loss: 0.4133 - val_accuracy: 0.1228 - val_precision: 0.1228 - val_recall: 1.0000 - val_get_f1: 0.2173 - lr: 0.0010\n",
            "Epoch 6/20\n",
            "484/484 [==============================] - 271s 561ms/step - loss: 0.0257 - accuracy: 0.1193 - precision: 0.1193 - recall: 1.0000 - get_f1: 0.2119 - val_loss: 0.5354 - val_accuracy: 0.1228 - val_precision: 0.1228 - val_recall: 1.0000 - val_get_f1: 0.2173 - lr: 0.0010\n",
            "Epoch 7/20\n",
            "484/484 [==============================] - 272s 562ms/step - loss: 0.0190 - accuracy: 0.1193 - precision: 0.1193 - recall: 1.0000 - get_f1: 0.2121 - val_loss: 0.5104 - val_accuracy: 0.1228 - val_precision: 0.1228 - val_recall: 1.0000 - val_get_f1: 0.2173 - lr: 0.0010\n",
            "Epoch 8/20\n",
            "484/484 [==============================] - 270s 557ms/step - loss: 0.0170 - accuracy: 0.1193 - precision: 0.1193 - recall: 1.0000 - get_f1: 0.2120 - val_loss: 0.5758 - val_accuracy: 0.1228 - val_precision: 0.1228 - val_recall: 1.0000 - val_get_f1: 0.2173 - lr: 0.0010\n",
            "Epoch 9/20\n",
            "484/484 [==============================] - 272s 561ms/step - loss: 0.0126 - accuracy: 0.1193 - precision: 0.1193 - recall: 1.0000 - get_f1: 0.2121 - val_loss: 0.4915 - val_accuracy: 0.1228 - val_precision: 0.1228 - val_recall: 1.0000 - val_get_f1: 0.2173 - lr: 0.0010\n",
            "Epoch 10/20\n",
            "484/484 [==============================] - 272s 561ms/step - loss: 0.0109 - accuracy: 0.1193 - precision: 0.1193 - recall: 1.0000 - get_f1: 0.2120 - val_loss: 0.5563 - val_accuracy: 0.1228 - val_precision: 0.1228 - val_recall: 1.0000 - val_get_f1: 0.2173 - lr: 0.0010\n",
            "Epoch 11/20\n",
            "484/484 [==============================] - 272s 562ms/step - loss: 0.0104 - accuracy: 0.1193 - precision: 0.1193 - recall: 1.0000 - get_f1: 0.2120 - val_loss: 0.5189 - val_accuracy: 0.1228 - val_precision: 0.1228 - val_recall: 1.0000 - val_get_f1: 0.2173 - lr: 0.0010\n",
            "Epoch 12/20\n",
            "484/484 [==============================] - 272s 562ms/step - loss: 0.0101 - accuracy: 0.1193 - precision: 0.1193 - recall: 1.0000 - get_f1: 0.2120 - val_loss: 0.5319 - val_accuracy: 0.1228 - val_precision: 0.1228 - val_recall: 1.0000 - val_get_f1: 0.2173 - lr: 0.0010\n",
            "Epoch 13/20\n",
            "484/484 [==============================] - 271s 559ms/step - loss: 0.0083 - accuracy: 0.1193 - precision: 0.1193 - recall: 1.0000 - get_f1: 0.2120 - val_loss: 0.6155 - val_accuracy: 0.1228 - val_precision: 0.1228 - val_recall: 1.0000 - val_get_f1: 0.2173 - lr: 0.0010\n",
            "Epoch 14/20\n",
            "484/484 [==============================] - 271s 560ms/step - loss: 0.0076 - accuracy: 0.1193 - precision: 0.1193 - recall: 1.0000 - get_f1: 0.2120 - val_loss: 0.5650 - val_accuracy: 0.1228 - val_precision: 0.1228 - val_recall: 1.0000 - val_get_f1: 0.2173 - lr: 0.0010\n",
            "Epoch 15/20\n",
            "484/484 [==============================] - 270s 557ms/step - loss: 0.0069 - accuracy: 0.1193 - precision: 0.1193 - recall: 1.0000 - get_f1: 0.2121 - val_loss: 0.6529 - val_accuracy: 0.1228 - val_precision: 0.1228 - val_recall: 1.0000 - val_get_f1: 0.2173 - lr: 0.0010\n",
            "Epoch 16/20\n",
            "484/484 [==============================] - 271s 560ms/step - loss: 0.0081 - accuracy: 0.1193 - precision: 0.1193 - recall: 1.0000 - get_f1: 0.2122 - val_loss: 0.5918 - val_accuracy: 0.1228 - val_precision: 0.1228 - val_recall: 1.0000 - val_get_f1: 0.2173 - lr: 0.0010\n",
            "Epoch 17/20\n",
            "484/484 [==============================] - 271s 561ms/step - loss: 0.0097 - accuracy: 0.1193 - precision: 0.1193 - recall: 1.0000 - get_f1: 0.2121 - val_loss: 0.6737 - val_accuracy: 0.1228 - val_precision: 0.1228 - val_recall: 1.0000 - val_get_f1: 0.2173 - lr: 0.0010\n",
            "Epoch 18/20\n",
            "484/484 [==============================] - 271s 559ms/step - loss: 0.0057 - accuracy: 0.1193 - precision: 0.1193 - recall: 1.0000 - get_f1: 0.2120 - val_loss: 0.6439 - val_accuracy: 0.1228 - val_precision: 0.1228 - val_recall: 1.0000 - val_get_f1: 0.2173 - lr: 0.0010\n",
            "Epoch 19/20\n",
            "484/484 [==============================] - 271s 559ms/step - loss: 0.0059 - accuracy: 0.1193 - precision: 0.1193 - recall: 1.0000 - get_f1: 0.2121 - val_loss: 0.7949 - val_accuracy: 0.1228 - val_precision: 0.1228 - val_recall: 1.0000 - val_get_f1: 0.2173 - lr: 0.0010\n",
            "Epoch 20/20\n",
            "484/484 [==============================] - 271s 559ms/step - loss: 0.0051 - accuracy: 0.1193 - precision: 0.1193 - recall: 1.0000 - get_f1: 0.2120 - val_loss: 0.7096 - val_accuracy: 0.1228 - val_precision: 0.1228 - val_recall: 1.0000 - val_get_f1: 0.2173 - lr: 0.0010\n"
          ]
        }
      ]
    },
    {
      "cell_type": "code",
      "source": [
        "def plot_learning_curves(history2, arr):\n",
        "    fig, ax = plt.subplots(1, 2, figsize=(20, 5))\n",
        "    for idx in range(2):\n",
        "        ax[idx].plot(history2.history[arr[idx][0]])\n",
        "        ax[idx].plot(history2.history[arr[idx][1]])\n",
        "        ax[idx].legend([arr[idx][0], arr[idx][1]],fontsize=17)\n",
        "        ax[idx].set_xlabel('Loss ',fontsize=14)\n",
        "        ax[idx].set_ylabel('Accuracy',fontsize=14)\n",
        "        ax[idx].set_title(arr[idx][0] + ' X ' + arr[idx][1],fontsize=16)\n",
        "plot_learning_curves(history2, [['loss', 'val_loss'],['accuracy', 'val_accuracy']])"
      ],
      "metadata": {
        "colab": {
          "base_uri": "https://localhost:8080/",
          "height": 356
        },
        "id": "upsBxnW0h1iR",
        "outputId": "03db082c-8bef-472b-de80-1c6e36ad4688"
      },
      "execution_count": null,
      "outputs": [
        {
          "output_type": "display_data",
          "data": {
            "text/plain": [
              "<Figure size 1440x360 with 2 Axes>"
            ],
            "image/png": "[encoded data removed]"
          },
          "metadata": {
            "needs_background": "light"
          }
        }
      ]
    },
    {
      "cell_type": "code",
      "source": [
        "\n",
        "#predicting\n",
        "pred2= np.argmax(model2.predict(X_test), axis=-1)\n",
        "#printing reports\n",
        "print(classification_report(y_test,pred2 ))\n",
        "print(confusion_matrix(y_test, pred2))"
      ],
      "metadata": {
        "colab": {
          "base_uri": "https://localhost:8080/"
        },
        "id": "vFv2r2Buhzfj",
        "outputId": "972e7950-fbf2-4f07-eebf-5e7835efef11"
      },
      "execution_count": null,
      "outputs": [
        {
          "output_type": "stream",
          "name": "stdout",
          "text": [
            "              precision    recall  f1-score   support\n",
            "\n",
            "           0       0.93      0.96      0.94     18171\n",
            "           1       0.61      0.45      0.52      2473\n",
            "\n",
            "    accuracy                           0.90     20644\n",
            "   macro avg       0.77      0.71      0.73     20644\n",
            "weighted avg       0.89      0.90      0.89     20644\n",
            "\n",
            "[[17472   699]\n",
            " [ 1363  1110]]\n"
          ]
        }
      ]
    }
  ]
}