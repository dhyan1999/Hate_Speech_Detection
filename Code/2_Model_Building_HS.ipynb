{
  "nbformat": 4,
  "nbformat_minor": 0,
  "metadata": {
    "colab": {
      "name": "2_Model Building HS.ipynb",
      "provenance": [],
      "collapsed_sections": []
    },
    "kernelspec": {
      "name": "python3",
      "display_name": "Python 3"
    },
    "language_info": {
      "name": "python"
    },
    "accelerator": "GPU"
  },
  "cells": [
    {
      "cell_type": "markdown",
      "source": [
        "## Importing Libraries"
      ],
      "metadata": {
        "id": "McxRUhl032-B"
      }
    },
    {
      "cell_type": "code",
      "source": [
        "from google.colab import drive\n",
        "drive.mount('/content/drive')"
      ],
      "metadata": {
        "colab": {
          "base_uri": "https://localhost:8080/"
        },
        "id": "SjroAWVsjswu",
        "outputId": "954b53a2-6b9a-428b-c6b2-a8e2b7e28338"
      },
      "execution_count": 2,
      "outputs": [
        {
          "output_type": "stream",
          "name": "stdout",
          "text": [
            "Drive already mounted at /content/drive; to attempt to forcibly remount, call drive.mount(\"/content/drive\", force_remount=True).\n"
          ]
        }
      ]
    },
    {
      "cell_type": "code",
      "source": [
        "import pandas as pd\n",
        "from sklearn import linear_model\n",
        "from sklearn.linear_model import LogisticRegression\n",
        "from sklearn.naive_bayes import MultinomialNB\n",
        "from sklearn.ensemble import RandomForestClassifier\n",
        "from sklearn.model_selection import train_test_split\n",
        "from sklearn.metrics import accuracy_score, confusion_matrix, precision_score, recall_score, f1_score, roc_auc_score, classification_report,balanced_accuracy_score, precision_recall_curve, plot_precision_recall_curve\n",
        "from sklearn.feature_extraction.text import TfidfVectorizer\n",
        "import matplotlib.pyplot as plt\n",
        "\n",
        "\n",
        "from collections import Counter\n",
        "import nltk\n",
        "from nltk.corpus import stopwords\n",
        "import string\n",
        "\n",
        "%reload_ext autoreload\n",
        "%autoreload 2\n",
        "import sys\n",
        "sys.path.append(\"../py\")\n",
        "#from utils import *\n",
        "\n",
        "from sklearn import linear_model, utils, svm\n",
        "from sklearn.utils import resample\n",
        "from imblearn.under_sampling import ClusterCentroids, EditedNearestNeighbours, RandomUnderSampler, TomekLinks, CondensedNearestNeighbour\n",
        "from imblearn.combine import SMOTETomek, SMOTEENN\n",
        "from sklearn.ensemble import GradientBoostingClassifier\n",
        "from sklearn.naive_bayes import MultinomialNB\n",
        "from sklearn.ensemble import RandomForestClassifier, AdaBoostClassifier\n",
        "from sklearn.tree import DecisionTreeClassifier"
      ],
      "metadata": {
        "id": "Q7Lav0GDNKyw"
      },
      "execution_count": 4,
      "outputs": []
    },
    {
      "cell_type": "code",
      "source": [
        "# Imported Text extraction and Cleanup as a python file\n",
        "!cp /content/drive/MyDrive/NLP/TextExtractionCleanUP.py /content"
      ],
      "metadata": {
        "id": "HgBJQ81OjrLY"
      },
      "execution_count": 5,
      "outputs": []
    },
    {
      "cell_type": "code",
      "source": [
        "pip install autocorrect"
      ],
      "metadata": {
        "colab": {
          "base_uri": "https://localhost:8080/"
        },
        "id": "9k4xuSxijrIh",
        "outputId": "154946df-6c9c-4248-b864-999745dbe5a6"
      },
      "execution_count": 6,
      "outputs": [
        {
          "output_type": "stream",
          "name": "stdout",
          "text": [
            "Looking in indexes: https://pypi.org/simple, https://us-python.pkg.dev/colab-wheels/public/simple/\n",
            "Requirement already satisfied: autocorrect in /usr/local/lib/python3.7/dist-packages (2.6.1)\n"
          ]
        }
      ]
    },
    {
      "cell_type": "code",
      "source": [
        "import TextExtractionCleanUP"
      ],
      "metadata": {
        "colab": {
          "base_uri": "https://localhost:8080/"
        },
        "id": "Z3OQ317ukBO4",
        "outputId": "b1adc781-7d2e-498b-e9c7-40246343a6c5"
      },
      "execution_count": 7,
      "outputs": [
        {
          "output_type": "stream",
          "name": "stderr",
          "text": [
            "[nltk_data] Downloading package stopwords to /root/nltk_data...\n",
            "[nltk_data]   Package stopwords is already up-to-date!\n",
            "[nltk_data] Downloading package punkt to /root/nltk_data...\n",
            "[nltk_data]   Package punkt is already up-to-date!\n",
            "[nltk_data] Downloading package wordnet to /root/nltk_data...\n",
            "[nltk_data]   Package wordnet is already up-to-date!\n"
          ]
        }
      ]
    },
    {
      "cell_type": "markdown",
      "source": [
        "## Train Test Split"
      ],
      "metadata": {
        "id": "hCu3WdiikEyu"
      }
    },
    {
      "cell_type": "code",
      "source": [
        "df = pd.read_csv(\"/content/Final_hate.csv\")\n",
        "df"
      ],
      "metadata": {
        "colab": {
          "base_uri": "https://localhost:8080/",
          "height": 424
        },
        "id": "FvuUAiaXJnSW",
        "outputId": "b976ccba-8b28-4819-e898-0fd1b6122a9a"
      },
      "execution_count": 8,
      "outputs": [
        {
          "output_type": "execute_result",
          "data": {
            "text/plain": [
              "        Unnamed: 0                                               Text  label\n",
              "0                0  RT @MailOnline: The Nazi death gas so horrific...      0\n",
              "1                1  Carlos Correa had gyalchester as his walkup mu...      0\n",
              "2                2  \"THE FORCE AWAKENS: A Bad Lip Reading\" (Featur...      0\n",
              "3                3  RT @HeeeyMonica: Papaya has to be the worst fr...      0\n",
              "4                4  @Pineaqples @DenialEsports btw I watched where...      0\n",
              "...            ...                                                ...    ...\n",
              "103216      103216  you's a muthaf***in lie &#8220;@LifeAsKing: @2...      0\n",
              "103217      103217  you've gone and broke the wrong heart baby, an...      0\n",
              "103218      103218  young buck wanna eat!!.. dat nigguh like I ain...      0\n",
              "103219      103219              youu got wild bitches tellin you lies      0\n",
              "103220      103220  ~~Ruffled | Ntac Eileen Dahlia - Beautiful col...      0\n",
              "\n",
              "[103221 rows x 3 columns]"
            ],
            "text/html": [
              "\n",
              "  <div id=\"df-a275e8db-c732-4567-9881-04446926685c\">\n",
              "    <div class=\"colab-df-container\">\n",
              "      <div>\n",
              "<style scoped>\n",
              "    .dataframe tbody tr th:only-of-type {\n",
              "        vertical-align: middle;\n",
              "    }\n",
              "\n",
              "    .dataframe tbody tr th {\n",
              "        vertical-align: top;\n",
              "    }\n",
              "\n",
              "    .dataframe thead th {\n",
              "        text-align: right;\n",
              "    }\n",
              "</style>\n",
              "<table border=\"1\" class=\"dataframe\">\n",
              "  <thead>\n",
              "    <tr style=\"text-align: right;\">\n",
              "      <th></th>\n",
              "      <th>Unnamed: 0</th>\n",
              "      <th>Text</th>\n",
              "      <th>label</th>\n",
              "    </tr>\n",
              "  </thead>\n",
              "  <tbody>\n",
              "    <tr>\n",
              "      <th>0</th>\n",
              "      <td>0</td>\n",
              "      <td>RT @MailOnline: The Nazi death gas so horrific...</td>\n",
              "      <td>0</td>\n",
              "    </tr>\n",
              "    <tr>\n",
              "      <th>1</th>\n",
              "      <td>1</td>\n",
              "      <td>Carlos Correa had gyalchester as his walkup mu...</td>\n",
              "      <td>0</td>\n",
              "    </tr>\n",
              "    <tr>\n",
              "      <th>2</th>\n",
              "      <td>2</td>\n",
              "      <td>\"THE FORCE AWAKENS: A Bad Lip Reading\" (Featur...</td>\n",
              "      <td>0</td>\n",
              "    </tr>\n",
              "    <tr>\n",
              "      <th>3</th>\n",
              "      <td>3</td>\n",
              "      <td>RT @HeeeyMonica: Papaya has to be the worst fr...</td>\n",
              "      <td>0</td>\n",
              "    </tr>\n",
              "    <tr>\n",
              "      <th>4</th>\n",
              "      <td>4</td>\n",
              "      <td>@Pineaqples @DenialEsports btw I watched where...</td>\n",
              "      <td>0</td>\n",
              "    </tr>\n",
              "    <tr>\n",
              "      <th>...</th>\n",
              "      <td>...</td>\n",
              "      <td>...</td>\n",
              "      <td>...</td>\n",
              "    </tr>\n",
              "    <tr>\n",
              "      <th>103216</th>\n",
              "      <td>103216</td>\n",
              "      <td>you's a muthaf***in lie &amp;#8220;@LifeAsKing: @2...</td>\n",
              "      <td>0</td>\n",
              "    </tr>\n",
              "    <tr>\n",
              "      <th>103217</th>\n",
              "      <td>103217</td>\n",
              "      <td>you've gone and broke the wrong heart baby, an...</td>\n",
              "      <td>0</td>\n",
              "    </tr>\n",
              "    <tr>\n",
              "      <th>103218</th>\n",
              "      <td>103218</td>\n",
              "      <td>young buck wanna eat!!.. dat nigguh like I ain...</td>\n",
              "      <td>0</td>\n",
              "    </tr>\n",
              "    <tr>\n",
              "      <th>103219</th>\n",
              "      <td>103219</td>\n",
              "      <td>youu got wild bitches tellin you lies</td>\n",
              "      <td>0</td>\n",
              "    </tr>\n",
              "    <tr>\n",
              "      <th>103220</th>\n",
              "      <td>103220</td>\n",
              "      <td>~~Ruffled | Ntac Eileen Dahlia - Beautiful col...</td>\n",
              "      <td>0</td>\n",
              "    </tr>\n",
              "  </tbody>\n",
              "</table>\n",
              "<p>103221 rows × 3 columns</p>\n",
              "</div>\n",
              "      <button class=\"colab-df-convert\" onclick=\"convertToInteractive('df-a275e8db-c732-4567-9881-04446926685c')\"\n",
              "              title=\"Convert this dataframe to an interactive table.\"\n",
              "              style=\"display:none;\">\n",
              "        \n",
              "  <svg xmlns=\"http://www.w3.org/2000/svg\" height=\"24px\"viewBox=\"0 0 24 24\"\n",
              "       width=\"24px\">\n",
              "    <path d=\"M0 0h24v24H0V0z\" fill=\"none\"/>\n",
              "    <path d=\"M18.56 5.44l.94 2.06.94-2.06 2.06-.94-2.06-.94-.94-2.06-.94 2.06-2.06.94zm-11 1L8.5 8.5l.94-2.06 2.06-.94-2.06-.94L8.5 2.5l-.94 2.06-2.06.94zm10 10l.94 2.06.94-2.06 2.06-.94-2.06-.94-.94-2.06-.94 2.06-2.06.94z\"/><path d=\"M17.41 7.96l-1.37-1.37c-.4-.4-.92-.59-1.43-.59-.52 0-1.04.2-1.43.59L10.3 9.45l-7.72 7.72c-.78.78-.78 2.05 0 2.83L4 21.41c.39.39.9.59 1.41.59.51 0 1.02-.2 1.41-.59l7.78-7.78 2.81-2.81c.8-.78.8-2.07 0-2.86zM5.41 20L4 18.59l7.72-7.72 1.47 1.35L5.41 20z\"/>\n",
              "  </svg>\n",
              "      </button>\n",
              "      \n",
              "  <style>\n",
              "    .colab-df-container {\n",
              "      display:flex;\n",
              "      flex-wrap:wrap;\n",
              "      gap: 12px;\n",
              "    }\n",
              "\n",
              "    .colab-df-convert {\n",
              "      background-color: #E8F0FE;\n",
              "      border: none;\n",
              "      border-radius: 50%;\n",
              "      cursor: pointer;\n",
              "      display: none;\n",
              "      fill: #1967D2;\n",
              "      height: 32px;\n",
              "      padding: 0 0 0 0;\n",
              "      width: 32px;\n",
              "    }\n",
              "\n",
              "    .colab-df-convert:hover {\n",
              "      background-color: #E2EBFA;\n",
              "      box-shadow: 0px 1px 2px rgba(60, 64, 67, 0.3), 0px 1px 3px 1px rgba(60, 64, 67, 0.15);\n",
              "      fill: #174EA6;\n",
              "    }\n",
              "\n",
              "    [theme=dark] .colab-df-convert {\n",
              "      background-color: #3B4455;\n",
              "      fill: #D2E3FC;\n",
              "    }\n",
              "\n",
              "    [theme=dark] .colab-df-convert:hover {\n",
              "      background-color: #434B5C;\n",
              "      box-shadow: 0px 1px 3px 1px rgba(0, 0, 0, 0.15);\n",
              "      filter: drop-shadow(0px 1px 2px rgba(0, 0, 0, 0.3));\n",
              "      fill: #FFFFFF;\n",
              "    }\n",
              "  </style>\n",
              "\n",
              "      <script>\n",
              "        const buttonEl =\n",
              "          document.querySelector('#df-a275e8db-c732-4567-9881-04446926685c button.colab-df-convert');\n",
              "        buttonEl.style.display =\n",
              "          google.colab.kernel.accessAllowed ? 'block' : 'none';\n",
              "\n",
              "        async function convertToInteractive(key) {\n",
              "          const element = document.querySelector('#df-a275e8db-c732-4567-9881-04446926685c');\n",
              "          const dataTable =\n",
              "            await google.colab.kernel.invokeFunction('convertToInteractive',\n",
              "                                                     [key], {});\n",
              "          if (!dataTable) return;\n",
              "\n",
              "          const docLinkHtml = 'Like what you see? Visit the ' +\n",
              "            '<a target=\"_blank\" href=https://colab.research.google.com/notebooks/data_table.ipynb>data table notebook</a>'\n",
              "            + ' to learn more about interactive tables.';\n",
              "          element.innerHTML = '';\n",
              "          dataTable['output_type'] = 'display_data';\n",
              "          await google.colab.output.renderOutput(dataTable, element);\n",
              "          const docLink = document.createElement('div');\n",
              "          docLink.innerHTML = docLinkHtml;\n",
              "          element.appendChild(docLink);\n",
              "        }\n",
              "      </script>\n",
              "    </div>\n",
              "  </div>\n",
              "  "
            ]
          },
          "metadata": {},
          "execution_count": 8
        }
      ]
    },
    {
      "cell_type": "code",
      "source": [
        "c = df.columns\n",
        "c"
      ],
      "metadata": {
        "colab": {
          "base_uri": "https://localhost:8080/"
        },
        "id": "4knT59qyQBM1",
        "outputId": "1496d404-320a-4b77-8f55-eafad1fd3ed6"
      },
      "execution_count": 9,
      "outputs": [
        {
          "output_type": "execute_result",
          "data": {
            "text/plain": [
              "Index(['Unnamed: 0', 'Text', 'label'], dtype='object')"
            ]
          },
          "metadata": {},
          "execution_count": 9
        }
      ]
    },
    {
      "cell_type": "code",
      "source": [
        "train = df['Text']\n",
        "test = df['label']"
      ],
      "metadata": {
        "id": "svLEUuPEaMZV"
      },
      "execution_count": 10,
      "outputs": []
    },
    {
      "cell_type": "code",
      "source": [
        "# set aside 20% of train and test data for evaluation\n",
        "X_train, X_val, y_train, y_val = train_test_split(train, test, test_size=0.2, shuffle = True, random_state = 8)\n",
        "\n",
        "\n",
        "print(\"X_train shape: {}\".format(X_train.shape))\n",
        "print(\"X_val shape: {}\".format(X_val.shape))\n",
        "print(\"y_train shape: {}\".format(y_train.shape))\n",
        "print(\"y_val shape: {}\".format(y_val.shape))\n",
        "\n",
        "\n",
        "print(\"========================\")\n",
        "\n",
        "# Use the same function above for the validation set\n",
        "X_train, X_test, y_train, y_test = train_test_split(X_train, y_train, test_size=0.25, random_state= 8) # 0.25 x 0.8 = 0.2\n",
        "\n",
        "\n",
        "print(\"X_train shape: {}\".format(X_train.shape))\n",
        "print(\"y_train shape: {}\".format(y_train.shape))\n",
        "print(\"X_test shape: {}\".format(X_test.shape))\n",
        "print(\"y_test shape: {}\".format(y_test.shape))"
      ],
      "metadata": {
        "colab": {
          "base_uri": "https://localhost:8080/"
        },
        "id": "ZHHCEnpLJuA4",
        "outputId": "3097208b-f6d3-4819-c6b4-165fcaebbfb2"
      },
      "execution_count": 11,
      "outputs": [
        {
          "output_type": "stream",
          "name": "stdout",
          "text": [
            "X_train shape: (82576,)\n",
            "X_val shape: (20645,)\n",
            "y_train shape: (82576,)\n",
            "y_val shape: (20645,)\n",
            "========================\n",
            "X_train shape: (61932,)\n",
            "y_train shape: (61932,)\n",
            "X_test shape: (20644,)\n",
            "y_test shape: (20644,)\n"
          ]
        }
      ]
    },
    {
      "cell_type": "code",
      "source": [
        "X_train.to_frame()\n",
        "y_train.to_frame()\n",
        "# Making Training Data \n",
        "trainingData = pd.concat([X_train, y_train], axis=1, join='inner')\n",
        "trainingData"
      ],
      "metadata": {
        "colab": {
          "base_uri": "https://localhost:8080/",
          "height": 424
        },
        "id": "R3TuM8B3kMWF",
        "outputId": "51c519d1-f9c8-4817-bd40-49137787e4bd"
      },
      "execution_count": 12,
      "outputs": [
        {
          "output_type": "execute_result",
          "data": {
            "text/plain": [
              "                                                    Text  label\n",
              "10461  @TMobileHelp Friend of mine in Hampton GA next...      0\n",
              "23652  What a Rhode Island Teen Wants You to Know Abo...      0\n",
              "47078  1825 Capped Bust Half Dollar 50C - PCGS XF45 (...      0\n",
              "82652  @NFLBadwitch bitch please. Don't get shot, Dou...      0\n",
              "23789  A Look Back at America’s Challenges and Ahead ...      0\n",
              "...                                                  ...    ...\n",
              "85668  @uhCokee he's just a cunt and nobody likes him...      0\n",
              "72142  .@eaballesty @tim_geelen Who would I link to f...      0\n",
              "4898   Congrats @Dan_Norton4 well deserved!! One of t...      0\n",
              "87450  Everyone that says #LetsMakeItAwkward is a que...      0\n",
              "41547  @ThandoKM He's showing us the middle finger. H...      0\n",
              "\n",
              "[61932 rows x 2 columns]"
            ],
            "text/html": [
              "\n",
              "  <div id=\"df-f191aa59-4dae-45ed-9f1c-ac8ddd74351d\">\n",
              "    <div class=\"colab-df-container\">\n",
              "      <div>\n",
              "<style scoped>\n",
              "    .dataframe tbody tr th:only-of-type {\n",
              "        vertical-align: middle;\n",
              "    }\n",
              "\n",
              "    .dataframe tbody tr th {\n",
              "        vertical-align: top;\n",
              "    }\n",
              "\n",
              "    .dataframe thead th {\n",
              "        text-align: right;\n",
              "    }\n",
              "</style>\n",
              "<table border=\"1\" class=\"dataframe\">\n",
              "  <thead>\n",
              "    <tr style=\"text-align: right;\">\n",
              "      <th></th>\n",
              "      <th>Text</th>\n",
              "      <th>label</th>\n",
              "    </tr>\n",
              "  </thead>\n",
              "  <tbody>\n",
              "    <tr>\n",
              "      <th>10461</th>\n",
              "      <td>@TMobileHelp Friend of mine in Hampton GA next...</td>\n",
              "      <td>0</td>\n",
              "    </tr>\n",
              "    <tr>\n",
              "      <th>23652</th>\n",
              "      <td>What a Rhode Island Teen Wants You to Know Abo...</td>\n",
              "      <td>0</td>\n",
              "    </tr>\n",
              "    <tr>\n",
              "      <th>47078</th>\n",
              "      <td>1825 Capped Bust Half Dollar 50C - PCGS XF45 (...</td>\n",
              "      <td>0</td>\n",
              "    </tr>\n",
              "    <tr>\n",
              "      <th>82652</th>\n",
              "      <td>@NFLBadwitch bitch please. Don't get shot, Dou...</td>\n",
              "      <td>0</td>\n",
              "    </tr>\n",
              "    <tr>\n",
              "      <th>23789</th>\n",
              "      <td>A Look Back at America’s Challenges and Ahead ...</td>\n",
              "      <td>0</td>\n",
              "    </tr>\n",
              "    <tr>\n",
              "      <th>...</th>\n",
              "      <td>...</td>\n",
              "      <td>...</td>\n",
              "    </tr>\n",
              "    <tr>\n",
              "      <th>85668</th>\n",
              "      <td>@uhCokee he's just a cunt and nobody likes him...</td>\n",
              "      <td>0</td>\n",
              "    </tr>\n",
              "    <tr>\n",
              "      <th>72142</th>\n",
              "      <td>.@eaballesty @tim_geelen Who would I link to f...</td>\n",
              "      <td>0</td>\n",
              "    </tr>\n",
              "    <tr>\n",
              "      <th>4898</th>\n",
              "      <td>Congrats @Dan_Norton4 well deserved!! One of t...</td>\n",
              "      <td>0</td>\n",
              "    </tr>\n",
              "    <tr>\n",
              "      <th>87450</th>\n",
              "      <td>Everyone that says #LetsMakeItAwkward is a que...</td>\n",
              "      <td>0</td>\n",
              "    </tr>\n",
              "    <tr>\n",
              "      <th>41547</th>\n",
              "      <td>@ThandoKM He's showing us the middle finger. H...</td>\n",
              "      <td>0</td>\n",
              "    </tr>\n",
              "  </tbody>\n",
              "</table>\n",
              "<p>61932 rows × 2 columns</p>\n",
              "</div>\n",
              "      <button class=\"colab-df-convert\" onclick=\"convertToInteractive('df-f191aa59-4dae-45ed-9f1c-ac8ddd74351d')\"\n",
              "              title=\"Convert this dataframe to an interactive table.\"\n",
              "              style=\"display:none;\">\n",
              "        \n",
              "  <svg xmlns=\"http://www.w3.org/2000/svg\" height=\"24px\"viewBox=\"0 0 24 24\"\n",
              "       width=\"24px\">\n",
              "    <path d=\"M0 0h24v24H0V0z\" fill=\"none\"/>\n",
              "    <path d=\"M18.56 5.44l.94 2.06.94-2.06 2.06-.94-2.06-.94-.94-2.06-.94 2.06-2.06.94zm-11 1L8.5 8.5l.94-2.06 2.06-.94-2.06-.94L8.5 2.5l-.94 2.06-2.06.94zm10 10l.94 2.06.94-2.06 2.06-.94-2.06-.94-.94-2.06-.94 2.06-2.06.94z\"/><path d=\"M17.41 7.96l-1.37-1.37c-.4-.4-.92-.59-1.43-.59-.52 0-1.04.2-1.43.59L10.3 9.45l-7.72 7.72c-.78.78-.78 2.05 0 2.83L4 21.41c.39.39.9.59 1.41.59.51 0 1.02-.2 1.41-.59l7.78-7.78 2.81-2.81c.8-.78.8-2.07 0-2.86zM5.41 20L4 18.59l7.72-7.72 1.47 1.35L5.41 20z\"/>\n",
              "  </svg>\n",
              "      </button>\n",
              "      \n",
              "  <style>\n",
              "    .colab-df-container {\n",
              "      display:flex;\n",
              "      flex-wrap:wrap;\n",
              "      gap: 12px;\n",
              "    }\n",
              "\n",
              "    .colab-df-convert {\n",
              "      background-color: #E8F0FE;\n",
              "      border: none;\n",
              "      border-radius: 50%;\n",
              "      cursor: pointer;\n",
              "      display: none;\n",
              "      fill: #1967D2;\n",
              "      height: 32px;\n",
              "      padding: 0 0 0 0;\n",
              "      width: 32px;\n",
              "    }\n",
              "\n",
              "    .colab-df-convert:hover {\n",
              "      background-color: #E2EBFA;\n",
              "      box-shadow: 0px 1px 2px rgba(60, 64, 67, 0.3), 0px 1px 3px 1px rgba(60, 64, 67, 0.15);\n",
              "      fill: #174EA6;\n",
              "    }\n",
              "\n",
              "    [theme=dark] .colab-df-convert {\n",
              "      background-color: #3B4455;\n",
              "      fill: #D2E3FC;\n",
              "    }\n",
              "\n",
              "    [theme=dark] .colab-df-convert:hover {\n",
              "      background-color: #434B5C;\n",
              "      box-shadow: 0px 1px 3px 1px rgba(0, 0, 0, 0.15);\n",
              "      filter: drop-shadow(0px 1px 2px rgba(0, 0, 0, 0.3));\n",
              "      fill: #FFFFFF;\n",
              "    }\n",
              "  </style>\n",
              "\n",
              "      <script>\n",
              "        const buttonEl =\n",
              "          document.querySelector('#df-f191aa59-4dae-45ed-9f1c-ac8ddd74351d button.colab-df-convert');\n",
              "        buttonEl.style.display =\n",
              "          google.colab.kernel.accessAllowed ? 'block' : 'none';\n",
              "\n",
              "        async function convertToInteractive(key) {\n",
              "          const element = document.querySelector('#df-f191aa59-4dae-45ed-9f1c-ac8ddd74351d');\n",
              "          const dataTable =\n",
              "            await google.colab.kernel.invokeFunction('convertToInteractive',\n",
              "                                                     [key], {});\n",
              "          if (!dataTable) return;\n",
              "\n",
              "          const docLinkHtml = 'Like what you see? Visit the ' +\n",
              "            '<a target=\"_blank\" href=https://colab.research.google.com/notebooks/data_table.ipynb>data table notebook</a>'\n",
              "            + ' to learn more about interactive tables.';\n",
              "          element.innerHTML = '';\n",
              "          dataTable['output_type'] = 'display_data';\n",
              "          await google.colab.output.renderOutput(dataTable, element);\n",
              "          const docLink = document.createElement('div');\n",
              "          docLink.innerHTML = docLinkHtml;\n",
              "          element.appendChild(docLink);\n",
              "        }\n",
              "      </script>\n",
              "    </div>\n",
              "  </div>\n",
              "  "
            ]
          },
          "metadata": {},
          "execution_count": 12
        }
      ]
    },
    {
      "cell_type": "code",
      "source": [
        "X_train"
      ],
      "metadata": {
        "colab": {
          "base_uri": "https://localhost:8080/"
        },
        "id": "4uZNQnghmoGt",
        "outputId": "122731f1-119b-4078-fed7-faa6a319a77d"
      },
      "execution_count": 13,
      "outputs": [
        {
          "output_type": "execute_result",
          "data": {
            "text/plain": [
              "10461    @TMobileHelp Friend of mine in Hampton GA next...\n",
              "23652    What a Rhode Island Teen Wants You to Know Abo...\n",
              "47078    1825 Capped Bust Half Dollar 50C - PCGS XF45 (...\n",
              "82652    @NFLBadwitch bitch please. Don't get shot, Dou...\n",
              "23789    A Look Back at America’s Challenges and Ahead ...\n",
              "                               ...                        \n",
              "85668    @uhCokee he's just a cunt and nobody likes him...\n",
              "72142    .@eaballesty @tim_geelen Who would I link to f...\n",
              "4898     Congrats @Dan_Norton4 well deserved!! One of t...\n",
              "87450    Everyone that says #LetsMakeItAwkward is a que...\n",
              "41547    @ThandoKM He's showing us the middle finger. H...\n",
              "Name: Text, Length: 61932, dtype: object"
            ]
          },
          "metadata": {},
          "execution_count": 13
        }
      ]
    },
    {
      "cell_type": "code",
      "source": [
        "x = trainingData.groupby('label').size()\n",
        "x"
      ],
      "metadata": {
        "colab": {
          "base_uri": "https://localhost:8080/"
        },
        "id": "ngXjehOJkePK",
        "outputId": "98dc8120-cba4-4dac-d4de-4ec7076f854d"
      },
      "execution_count": 14,
      "outputs": [
        {
          "output_type": "execute_result",
          "data": {
            "text/plain": [
              "label\n",
              "0    54543\n",
              "1     7389\n",
              "dtype: int64"
            ]
          },
          "metadata": {},
          "execution_count": 14
        }
      ]
    },
    {
      "cell_type": "code",
      "source": [
        "import seaborn as sns\n",
        "x = trainingData.label.value_counts()\n",
        "sns.set()\n",
        "explode = (0, 0.2)\n",
        "labels = [r'Not a Hate Speech','Hate Speech']\n",
        "x.plot(kind='pie', title='Data distribution in Training Part', figsize=[8,8],shadow=True, legend=True,\n",
        "       explode = explode,startangle=70,autopct=lambda p: '{:.2f}%\\n({:.0f})'.format(p,(p/100)*x.sum()))\n",
        "plt.legend(labels, loc=\"best\")\n",
        "plt.show()"
      ],
      "metadata": {
        "colab": {
          "base_uri": "https://localhost:8080/",
          "height": 482
        },
        "id": "e--s0zOmknAX",
        "outputId": "c3b16306-128b-4184-83b5-debdf4e52136"
      },
      "execution_count": 15,
      "outputs": [
        {
          "output_type": "display_data",
          "data": {
            "text/plain": [
              "<Figure size 576x576 with 1 Axes>"
            ],
            "image/png": "[encoded data removed]"
          },
          "metadata": {}
        }
      ]
    },
    {
      "cell_type": "markdown",
      "source": [
        "## Training Part (PreProcess)"
      ],
      "metadata": {
        "id": "DMy0BgVSm1sX"
      }
    },
    {
      "cell_type": "code",
      "source": [
        "import nltk\n",
        "nltk.download('omw-1.4')"
      ],
      "metadata": {
        "colab": {
          "base_uri": "https://localhost:8080/"
        },
        "id": "XnwqS3RbOJae",
        "outputId": "7287968a-d222-4098-c2da-61cbf4e6d193"
      },
      "execution_count": 16,
      "outputs": [
        {
          "output_type": "stream",
          "name": "stderr",
          "text": [
            "[nltk_data] Downloading package omw-1.4 to /root/nltk_data...\n",
            "[nltk_data]   Package omw-1.4 is already up-to-date!\n"
          ]
        },
        {
          "output_type": "execute_result",
          "data": {
            "text/plain": [
              "True"
            ]
          },
          "metadata": {},
          "execution_count": 16
        }
      ]
    },
    {
      "cell_type": "code",
      "source": [
        "# Pre-Processing\n",
        "trainingData['Text'] = trainingData['Text'].apply(lambda x: TextExtractionCleanUP.preprocess_english(x))\n",
        "TextExtractionCleanUP.preprocessing_method(trainingData,'Text')\n",
        "TextExtractionCleanUP.spellCheck(trainingData,'Text')\n",
        "trainingData['Text'] = trainingData['Text'].apply(TextExtractionCleanUP.lemmatize_Tokenize_text)\n",
        "trainingData['Text2'] = trainingData.Text.apply(lambda x: str(x)[1:-1]) \n",
        "trainingData\n"
      ],
      "metadata": {
        "colab": {
          "base_uri": "https://localhost:8080/",
          "height": 424
        },
        "id": "jJpxrmCckm9Q",
        "outputId": "63855405-7b26-4077-cb6c-e0401fd9f647"
      },
      "execution_count": 17,
      "outputs": [
        {
          "output_type": "execute_result",
          "data": {
            "text/plain": [
              "                                                    Text  label  \\\n",
              "10461  [friend, mine, ton, ga, next, speedway, cannot...      0   \n",
              "23652  [rhode, island, teen, want, know, year, middle...      0   \n",
              "47078  [capped, bust, half, dollar, 50c, pig, xf45, e...      0   \n",
              "82652             [bitch, please, dont, get, shot, doug]      0   \n",
              "23789  [look, back, america, challenge, ahead, hopefu...      0   \n",
              "...                                                  ...    ...   \n",
              "85668                 [count, nobody, like, choke, shit]      0   \n",
              "72142                          [would, link, study, afm]      0   \n",
              "4898   [congrats, well, deserved, one, best, 7, playe...      0   \n",
              "87450  [everyone, say, letsmakeitawkward, queer, just...      0   \n",
              "41547  [showing, u, middle, finger, know, talk, n, ac...      0   \n",
              "\n",
              "                                                   Text2  \n",
              "10461  'friend', 'mine', 'ton', 'ga', 'next', 'speedw...  \n",
              "23652  'rhode', 'island', 'teen', 'want', 'know', 'ye...  \n",
              "47078  'capped', 'bust', 'half', 'dollar', '50c', 'pi...  \n",
              "82652   'bitch', 'please', 'dont', 'get', 'shot', 'doug'  \n",
              "23789  'look', 'back', 'america', 'challenge', 'ahead...  \n",
              "...                                                  ...  \n",
              "85668         'count', 'nobody', 'like', 'choke', 'shit'  \n",
              "72142                    'would', 'link', 'study', 'afm'  \n",
              "4898   'congrats', 'well', 'deserved', 'one', 'best',...  \n",
              "87450  'everyone', 'say', 'letsmakeitawkward', 'queer...  \n",
              "41547  'showing', 'u', 'middle', 'finger', 'know', 't...  \n",
              "\n",
              "[61932 rows x 3 columns]"
            ],
            "text/html": [
              "\n",
              "  <div id=\"df-aac2257d-75ec-43a5-8ab3-946b2e93acdc\">\n",
              "    <div class=\"colab-df-container\">\n",
              "      <div>\n",
              "<style scoped>\n",
              "    .dataframe tbody tr th:only-of-type {\n",
              "        vertical-align: middle;\n",
              "    }\n",
              "\n",
              "    .dataframe tbody tr th {\n",
              "        vertical-align: top;\n",
              "    }\n",
              "\n",
              "    .dataframe thead th {\n",
              "        text-align: right;\n",
              "    }\n",
              "</style>\n",
              "<table border=\"1\" class=\"dataframe\">\n",
              "  <thead>\n",
              "    <tr style=\"text-align: right;\">\n",
              "      <th></th>\n",
              "      <th>Text</th>\n",
              "      <th>label</th>\n",
              "      <th>Text2</th>\n",
              "    </tr>\n",
              "  </thead>\n",
              "  <tbody>\n",
              "    <tr>\n",
              "      <th>10461</th>\n",
              "      <td>[friend, mine, ton, ga, next, speedway, cannot...</td>\n",
              "      <td>0</td>\n",
              "      <td>'friend', 'mine', 'ton', 'ga', 'next', 'speedw...</td>\n",
              "    </tr>\n",
              "    <tr>\n",
              "      <th>23652</th>\n",
              "      <td>[rhode, island, teen, want, know, year, middle...</td>\n",
              "      <td>0</td>\n",
              "      <td>'rhode', 'island', 'teen', 'want', 'know', 'ye...</td>\n",
              "    </tr>\n",
              "    <tr>\n",
              "      <th>47078</th>\n",
              "      <td>[capped, bust, half, dollar, 50c, pig, xf45, e...</td>\n",
              "      <td>0</td>\n",
              "      <td>'capped', 'bust', 'half', 'dollar', '50c', 'pi...</td>\n",
              "    </tr>\n",
              "    <tr>\n",
              "      <th>82652</th>\n",
              "      <td>[bitch, please, dont, get, shot, doug]</td>\n",
              "      <td>0</td>\n",
              "      <td>'bitch', 'please', 'dont', 'get', 'shot', 'doug'</td>\n",
              "    </tr>\n",
              "    <tr>\n",
              "      <th>23789</th>\n",
              "      <td>[look, back, america, challenge, ahead, hopefu...</td>\n",
              "      <td>0</td>\n",
              "      <td>'look', 'back', 'america', 'challenge', 'ahead...</td>\n",
              "    </tr>\n",
              "    <tr>\n",
              "      <th>...</th>\n",
              "      <td>...</td>\n",
              "      <td>...</td>\n",
              "      <td>...</td>\n",
              "    </tr>\n",
              "    <tr>\n",
              "      <th>85668</th>\n",
              "      <td>[count, nobody, like, choke, shit]</td>\n",
              "      <td>0</td>\n",
              "      <td>'count', 'nobody', 'like', 'choke', 'shit'</td>\n",
              "    </tr>\n",
              "    <tr>\n",
              "      <th>72142</th>\n",
              "      <td>[would, link, study, afm]</td>\n",
              "      <td>0</td>\n",
              "      <td>'would', 'link', 'study', 'afm'</td>\n",
              "    </tr>\n",
              "    <tr>\n",
              "      <th>4898</th>\n",
              "      <td>[congrats, well, deserved, one, best, 7, playe...</td>\n",
              "      <td>0</td>\n",
              "      <td>'congrats', 'well', 'deserved', 'one', 'best',...</td>\n",
              "    </tr>\n",
              "    <tr>\n",
              "      <th>87450</th>\n",
              "      <td>[everyone, say, letsmakeitawkward, queer, just...</td>\n",
              "      <td>0</td>\n",
              "      <td>'everyone', 'say', 'letsmakeitawkward', 'queer...</td>\n",
              "    </tr>\n",
              "    <tr>\n",
              "      <th>41547</th>\n",
              "      <td>[showing, u, middle, finger, know, talk, n, ac...</td>\n",
              "      <td>0</td>\n",
              "      <td>'showing', 'u', 'middle', 'finger', 'know', 't...</td>\n",
              "    </tr>\n",
              "  </tbody>\n",
              "</table>\n",
              "<p>61932 rows × 3 columns</p>\n",
              "</div>\n",
              "      <button class=\"colab-df-convert\" onclick=\"convertToInteractive('df-aac2257d-75ec-43a5-8ab3-946b2e93acdc')\"\n",
              "              title=\"Convert this dataframe to an interactive table.\"\n",
              "              style=\"display:none;\">\n",
              "        \n",
              "  <svg xmlns=\"http://www.w3.org/2000/svg\" height=\"24px\"viewBox=\"0 0 24 24\"\n",
              "       width=\"24px\">\n",
              "    <path d=\"M0 0h24v24H0V0z\" fill=\"none\"/>\n",
              "    <path d=\"M18.56 5.44l.94 2.06.94-2.06 2.06-.94-2.06-.94-.94-2.06-.94 2.06-2.06.94zm-11 1L8.5 8.5l.94-2.06 2.06-.94-2.06-.94L8.5 2.5l-.94 2.06-2.06.94zm10 10l.94 2.06.94-2.06 2.06-.94-2.06-.94-.94-2.06-.94 2.06-2.06.94z\"/><path d=\"M17.41 7.96l-1.37-1.37c-.4-.4-.92-.59-1.43-.59-.52 0-1.04.2-1.43.59L10.3 9.45l-7.72 7.72c-.78.78-.78 2.05 0 2.83L4 21.41c.39.39.9.59 1.41.59.51 0 1.02-.2 1.41-.59l7.78-7.78 2.81-2.81c.8-.78.8-2.07 0-2.86zM5.41 20L4 18.59l7.72-7.72 1.47 1.35L5.41 20z\"/>\n",
              "  </svg>\n",
              "      </button>\n",
              "      \n",
              "  <style>\n",
              "    .colab-df-container {\n",
              "      display:flex;\n",
              "      flex-wrap:wrap;\n",
              "      gap: 12px;\n",
              "    }\n",
              "\n",
              "    .colab-df-convert {\n",
              "      background-color: #E8F0FE;\n",
              "      border: none;\n",
              "      border-radius: 50%;\n",
              "      cursor: pointer;\n",
              "      display: none;\n",
              "      fill: #1967D2;\n",
              "      height: 32px;\n",
              "      padding: 0 0 0 0;\n",
              "      width: 32px;\n",
              "    }\n",
              "\n",
              "    .colab-df-convert:hover {\n",
              "      background-color: #E2EBFA;\n",
              "      box-shadow: 0px 1px 2px rgba(60, 64, 67, 0.3), 0px 1px 3px 1px rgba(60, 64, 67, 0.15);\n",
              "      fill: #174EA6;\n",
              "    }\n",
              "\n",
              "    [theme=dark] .colab-df-convert {\n",
              "      background-color: #3B4455;\n",
              "      fill: #D2E3FC;\n",
              "    }\n",
              "\n",
              "    [theme=dark] .colab-df-convert:hover {\n",
              "      background-color: #434B5C;\n",
              "      box-shadow: 0px 1px 3px 1px rgba(0, 0, 0, 0.15);\n",
              "      filter: drop-shadow(0px 1px 2px rgba(0, 0, 0, 0.3));\n",
              "      fill: #FFFFFF;\n",
              "    }\n",
              "  </style>\n",
              "\n",
              "      <script>\n",
              "        const buttonEl =\n",
              "          document.querySelector('#df-aac2257d-75ec-43a5-8ab3-946b2e93acdc button.colab-df-convert');\n",
              "        buttonEl.style.display =\n",
              "          google.colab.kernel.accessAllowed ? 'block' : 'none';\n",
              "\n",
              "        async function convertToInteractive(key) {\n",
              "          const element = document.querySelector('#df-aac2257d-75ec-43a5-8ab3-946b2e93acdc');\n",
              "          const dataTable =\n",
              "            await google.colab.kernel.invokeFunction('convertToInteractive',\n",
              "                                                     [key], {});\n",
              "          if (!dataTable) return;\n",
              "\n",
              "          const docLinkHtml = 'Like what you see? Visit the ' +\n",
              "            '<a target=\"_blank\" href=https://colab.research.google.com/notebooks/data_table.ipynb>data table notebook</a>'\n",
              "            + ' to learn more about interactive tables.';\n",
              "          element.innerHTML = '';\n",
              "          dataTable['output_type'] = 'display_data';\n",
              "          await google.colab.output.renderOutput(dataTable, element);\n",
              "          const docLink = document.createElement('div');\n",
              "          docLink.innerHTML = docLinkHtml;\n",
              "          element.appendChild(docLink);\n",
              "        }\n",
              "      </script>\n",
              "    </div>\n",
              "  </div>\n",
              "  "
            ]
          },
          "metadata": {},
          "execution_count": 17
        }
      ]
    },
    {
      "cell_type": "code",
      "source": [
        "X_train = trainingData['Text2']\n",
        "y_train = trainingData['label']"
      ],
      "metadata": {
        "id": "yQe1tqptkm7Z"
      },
      "execution_count": 18,
      "outputs": []
    },
    {
      "cell_type": "code",
      "source": [
        "print(\"X_train shape: {}\".format(X_train.shape))\n",
        "print(\"y_train shape: {}\".format(y_train.shape))\n",
        "print(\"X_test shape: {}\".format(X_test.shape))\n",
        "print(\"y_test shape: {}\".format(y_test.shape))"
      ],
      "metadata": {
        "colab": {
          "base_uri": "https://localhost:8080/"
        },
        "id": "fK2lSBOjkm5U",
        "outputId": "15774147-33bb-46e2-8d76-2103f26a413b"
      },
      "execution_count": 19,
      "outputs": [
        {
          "output_type": "stream",
          "name": "stdout",
          "text": [
            "X_train shape: (61932,)\n",
            "y_train shape: (61932,)\n",
            "X_test shape: (20644,)\n",
            "y_test shape: (20644,)\n"
          ]
        }
      ]
    },
    {
      "cell_type": "markdown",
      "source": [
        "##Testing Part (PreProcess)"
      ],
      "metadata": {
        "id": "ss8fz6Dvnwyb"
      }
    },
    {
      "cell_type": "code",
      "source": [
        "# Now pre processing testing data\n",
        "testingData = pd.concat([X_test, y_test], axis=1, join='inner')\n",
        "testingData"
      ],
      "metadata": {
        "colab": {
          "base_uri": "https://localhost:8080/",
          "height": 424
        },
        "id": "39ddhyKAkm3P",
        "outputId": "19bb07b1-bee8-47fc-e2da-8d5da4a63b24"
      },
      "execution_count": 20,
      "outputs": [
        {
          "output_type": "execute_result",
          "data": {
            "text/plain": [
              "                                                    Text  label\n",
              "73340                              :face_blowing_a_kiss:      0\n",
              "79601  &#8220;@Caiivs: On some real shit if I catch t...      0\n",
              "51712                                     @MSNBC @maddow      1\n",
              "42148  I added a video to a @YouTube playlist  Win A ...      0\n",
              "67645                         @coopatropp randi@randi.io      0\n",
              "...                                                  ...    ...\n",
              "20640  @SarahAnDerRuhr @RichardSHarmon @lnmuir Richar...      0\n",
              "42488  The updates appear to all be cosmetic and prim...      0\n",
              "62160          @ENDSexAbuseNOW Who is to blame for that?      0\n",
              "61660  @fee_bee_63: Kat is a completely rank cow but ...      0\n",
              "62704  RT @JamesAltoft I'm not \"sexist,\" but any othe...      0\n",
              "\n",
              "[20644 rows x 2 columns]"
            ],
            "text/html": [
              "\n",
              "  <div id=\"df-0536a4c6-b853-45ed-bb28-e42e68779d9e\">\n",
              "    <div class=\"colab-df-container\">\n",
              "      <div>\n",
              "<style scoped>\n",
              "    .dataframe tbody tr th:only-of-type {\n",
              "        vertical-align: middle;\n",
              "    }\n",
              "\n",
              "    .dataframe tbody tr th {\n",
              "        vertical-align: top;\n",
              "    }\n",
              "\n",
              "    .dataframe thead th {\n",
              "        text-align: right;\n",
              "    }\n",
              "</style>\n",
              "<table border=\"1\" class=\"dataframe\">\n",
              "  <thead>\n",
              "    <tr style=\"text-align: right;\">\n",
              "      <th></th>\n",
              "      <th>Text</th>\n",
              "      <th>label</th>\n",
              "    </tr>\n",
              "  </thead>\n",
              "  <tbody>\n",
              "    <tr>\n",
              "      <th>73340</th>\n",
              "      <td>:face_blowing_a_kiss:</td>\n",
              "      <td>0</td>\n",
              "    </tr>\n",
              "    <tr>\n",
              "      <th>79601</th>\n",
              "      <td>&amp;#8220;@Caiivs: On some real shit if I catch t...</td>\n",
              "      <td>0</td>\n",
              "    </tr>\n",
              "    <tr>\n",
              "      <th>51712</th>\n",
              "      <td>@MSNBC @maddow</td>\n",
              "      <td>1</td>\n",
              "    </tr>\n",
              "    <tr>\n",
              "      <th>42148</th>\n",
              "      <td>I added a video to a @YouTube playlist  Win A ...</td>\n",
              "      <td>0</td>\n",
              "    </tr>\n",
              "    <tr>\n",
              "      <th>67645</th>\n",
              "      <td>@coopatropp randi@randi.io</td>\n",
              "      <td>0</td>\n",
              "    </tr>\n",
              "    <tr>\n",
              "      <th>...</th>\n",
              "      <td>...</td>\n",
              "      <td>...</td>\n",
              "    </tr>\n",
              "    <tr>\n",
              "      <th>20640</th>\n",
              "      <td>@SarahAnDerRuhr @RichardSHarmon @lnmuir Richar...</td>\n",
              "      <td>0</td>\n",
              "    </tr>\n",
              "    <tr>\n",
              "      <th>42488</th>\n",
              "      <td>The updates appear to all be cosmetic and prim...</td>\n",
              "      <td>0</td>\n",
              "    </tr>\n",
              "    <tr>\n",
              "      <th>62160</th>\n",
              "      <td>@ENDSexAbuseNOW Who is to blame for that?</td>\n",
              "      <td>0</td>\n",
              "    </tr>\n",
              "    <tr>\n",
              "      <th>61660</th>\n",
              "      <td>@fee_bee_63: Kat is a completely rank cow but ...</td>\n",
              "      <td>0</td>\n",
              "    </tr>\n",
              "    <tr>\n",
              "      <th>62704</th>\n",
              "      <td>RT @JamesAltoft I'm not \"sexist,\" but any othe...</td>\n",
              "      <td>0</td>\n",
              "    </tr>\n",
              "  </tbody>\n",
              "</table>\n",
              "<p>20644 rows × 2 columns</p>\n",
              "</div>\n",
              "      <button class=\"colab-df-convert\" onclick=\"convertToInteractive('df-0536a4c6-b853-45ed-bb28-e42e68779d9e')\"\n",
              "              title=\"Convert this dataframe to an interactive table.\"\n",
              "              style=\"display:none;\">\n",
              "        \n",
              "  <svg xmlns=\"http://www.w3.org/2000/svg\" height=\"24px\"viewBox=\"0 0 24 24\"\n",
              "       width=\"24px\">\n",
              "    <path d=\"M0 0h24v24H0V0z\" fill=\"none\"/>\n",
              "    <path d=\"M18.56 5.44l.94 2.06.94-2.06 2.06-.94-2.06-.94-.94-2.06-.94 2.06-2.06.94zm-11 1L8.5 8.5l.94-2.06 2.06-.94-2.06-.94L8.5 2.5l-.94 2.06-2.06.94zm10 10l.94 2.06.94-2.06 2.06-.94-2.06-.94-.94-2.06-.94 2.06-2.06.94z\"/><path d=\"M17.41 7.96l-1.37-1.37c-.4-.4-.92-.59-1.43-.59-.52 0-1.04.2-1.43.59L10.3 9.45l-7.72 7.72c-.78.78-.78 2.05 0 2.83L4 21.41c.39.39.9.59 1.41.59.51 0 1.02-.2 1.41-.59l7.78-7.78 2.81-2.81c.8-.78.8-2.07 0-2.86zM5.41 20L4 18.59l7.72-7.72 1.47 1.35L5.41 20z\"/>\n",
              "  </svg>\n",
              "      </button>\n",
              "      \n",
              "  <style>\n",
              "    .colab-df-container {\n",
              "      display:flex;\n",
              "      flex-wrap:wrap;\n",
              "      gap: 12px;\n",
              "    }\n",
              "\n",
              "    .colab-df-convert {\n",
              "      background-color: #E8F0FE;\n",
              "      border: none;\n",
              "      border-radius: 50%;\n",
              "      cursor: pointer;\n",
              "      display: none;\n",
              "      fill: #1967D2;\n",
              "      height: 32px;\n",
              "      padding: 0 0 0 0;\n",
              "      width: 32px;\n",
              "    }\n",
              "\n",
              "    .colab-df-convert:hover {\n",
              "      background-color: #E2EBFA;\n",
              "      box-shadow: 0px 1px 2px rgba(60, 64, 67, 0.3), 0px 1px 3px 1px rgba(60, 64, 67, 0.15);\n",
              "      fill: #174EA6;\n",
              "    }\n",
              "\n",
              "    [theme=dark] .colab-df-convert {\n",
              "      background-color: #3B4455;\n",
              "      fill: #D2E3FC;\n",
              "    }\n",
              "\n",
              "    [theme=dark] .colab-df-convert:hover {\n",
              "      background-color: #434B5C;\n",
              "      box-shadow: 0px 1px 3px 1px rgba(0, 0, 0, 0.15);\n",
              "      filter: drop-shadow(0px 1px 2px rgba(0, 0, 0, 0.3));\n",
              "      fill: #FFFFFF;\n",
              "    }\n",
              "  </style>\n",
              "\n",
              "      <script>\n",
              "        const buttonEl =\n",
              "          document.querySelector('#df-0536a4c6-b853-45ed-bb28-e42e68779d9e button.colab-df-convert');\n",
              "        buttonEl.style.display =\n",
              "          google.colab.kernel.accessAllowed ? 'block' : 'none';\n",
              "\n",
              "        async function convertToInteractive(key) {\n",
              "          const element = document.querySelector('#df-0536a4c6-b853-45ed-bb28-e42e68779d9e');\n",
              "          const dataTable =\n",
              "            await google.colab.kernel.invokeFunction('convertToInteractive',\n",
              "                                                     [key], {});\n",
              "          if (!dataTable) return;\n",
              "\n",
              "          const docLinkHtml = 'Like what you see? Visit the ' +\n",
              "            '<a target=\"_blank\" href=https://colab.research.google.com/notebooks/data_table.ipynb>data table notebook</a>'\n",
              "            + ' to learn more about interactive tables.';\n",
              "          element.innerHTML = '';\n",
              "          dataTable['output_type'] = 'display_data';\n",
              "          await google.colab.output.renderOutput(dataTable, element);\n",
              "          const docLink = document.createElement('div');\n",
              "          docLink.innerHTML = docLinkHtml;\n",
              "          element.appendChild(docLink);\n",
              "        }\n",
              "      </script>\n",
              "    </div>\n",
              "  </div>\n",
              "  "
            ]
          },
          "metadata": {},
          "execution_count": 20
        }
      ]
    },
    {
      "cell_type": "code",
      "source": [
        "x = testingData.label.value_counts()\n",
        "sns.set()\n",
        "explode = (0, 0.2)\n",
        "labels = [r'Not a Hate Speech','Hate Speech']\n",
        "x.plot(kind='pie', title='Data distribution of Testing Part', figsize=[8,8],shadow=True, legend=True,\n",
        "       explode = explode,startangle=70,autopct=lambda p: '{:.2f}%\\n({:.0f})'.format(p,(p/100)*x.sum()))\n",
        "plt.legend(labels, loc=\"best\")\n",
        "plt.show()"
      ],
      "metadata": {
        "colab": {
          "base_uri": "https://localhost:8080/",
          "height": 482
        },
        "id": "Hi64Box7km05",
        "outputId": "df4be5ed-fb3a-4689-adc7-05f96f081238"
      },
      "execution_count": 21,
      "outputs": [
        {
          "output_type": "display_data",
          "data": {
            "text/plain": [
              "<Figure size 576x576 with 1 Axes>"
            ],
            "image/png": "[encoded data removed]"
          },
          "metadata": {}
        }
      ]
    },
    {
      "cell_type": "code",
      "source": [
        "# Expansion of short form words\n",
        "testingData['Text'] = testingData['Text'].apply(lambda x: TextExtractionCleanUP.preprocess_english(x))\n",
        "TextExtractionCleanUP.preprocessing_method(testingData,'Text')\n",
        "# SpellCheck\n",
        "TextExtractionCleanUP.spellCheck(testingData,'Text')\n",
        "# Lemmetize and tokenize\n",
        "testingData['Text'] = testingData['Text'].apply(TextExtractionCleanUP.lemmatize_Tokenize_text)\n",
        "testingData['Text2'] = testingData.Text.apply(lambda x: str(x)[1:-1]) \n",
        "testingData"
      ],
      "metadata": {
        "colab": {
          "base_uri": "https://localhost:8080/",
          "height": 424
        },
        "id": "Nge7OO1dnx0j",
        "outputId": "b8e6a123-d9d8-45b5-a036-227e520e5a7f"
      },
      "execution_count": 22,
      "outputs": [
        {
          "output_type": "execute_result",
          "data": {
            "text/plain": [
              "                                                    Text  label  \\\n",
              "73340                              [face_blowing_a_kiss]      0   \n",
              "79601           [real, shit, catch, bitch, game, on8221]      0   \n",
              "51712                                                 []      1   \n",
              "42148  [added, video, playlist, win, trip, star, war,...      0   \n",
              "67645                                          [randiio]      0   \n",
              "...                                                  ...    ...   \n",
              "20640  [richard, amazing, talent, make, u, feel, exac...      0   \n",
              "42488  [update, appear, cosmetic, primarily, confined...      0   \n",
              "62160                                            [blame]      0   \n",
              "61660  [kat, completely, rank, cow, god, annie, annoy...      0   \n",
              "62704  [sexist, driver, would, drive, stop, every, se...      0   \n",
              "\n",
              "                                                   Text2  \n",
              "73340                              'face_blowing_a_kiss'  \n",
              "79601  'real', 'shit', 'catch', 'bitch', 'game', 'on8...  \n",
              "51712                                                     \n",
              "42148  'added', 'video', 'playlist', 'win', 'trip', '...  \n",
              "67645                                          'randiio'  \n",
              "...                                                  ...  \n",
              "20640  'richard', 'amazing', 'talent', 'make', 'u', '...  \n",
              "42488  'update', 'appear', 'cosmetic', 'primarily', '...  \n",
              "62160                                            'blame'  \n",
              "61660  'kat', 'completely', 'rank', 'cow', 'god', 'an...  \n",
              "62704  'sexist', 'driver', 'would', 'drive', 'stop', ...  \n",
              "\n",
              "[20644 rows x 3 columns]"
            ],
            "text/html": [
              "\n",
              "  <div id=\"df-70f8b829-1bd4-43dc-966a-6015fc9729be\">\n",
              "    <div class=\"colab-df-container\">\n",
              "      <div>\n",
              "<style scoped>\n",
              "    .dataframe tbody tr th:only-of-type {\n",
              "        vertical-align: middle;\n",
              "    }\n",
              "\n",
              "    .dataframe tbody tr th {\n",
              "        vertical-align: top;\n",
              "    }\n",
              "\n",
              "    .dataframe thead th {\n",
              "        text-align: right;\n",
              "    }\n",
              "</style>\n",
              "<table border=\"1\" class=\"dataframe\">\n",
              "  <thead>\n",
              "    <tr style=\"text-align: right;\">\n",
              "      <th></th>\n",
              "      <th>Text</th>\n",
              "      <th>label</th>\n",
              "      <th>Text2</th>\n",
              "    </tr>\n",
              "  </thead>\n",
              "  <tbody>\n",
              "    <tr>\n",
              "      <th>73340</th>\n",
              "      <td>[face_blowing_a_kiss]</td>\n",
              "      <td>0</td>\n",
              "      <td>'face_blowing_a_kiss'</td>\n",
              "    </tr>\n",
              "    <tr>\n",
              "      <th>79601</th>\n",
              "      <td>[real, shit, catch, bitch, game, on8221]</td>\n",
              "      <td>0</td>\n",
              "      <td>'real', 'shit', 'catch', 'bitch', 'game', 'on8...</td>\n",
              "    </tr>\n",
              "    <tr>\n",
              "      <th>51712</th>\n",
              "      <td>[]</td>\n",
              "      <td>1</td>\n",
              "      <td></td>\n",
              "    </tr>\n",
              "    <tr>\n",
              "      <th>42148</th>\n",
              "      <td>[added, video, playlist, win, trip, star, war,...</td>\n",
              "      <td>0</td>\n",
              "      <td>'added', 'video', 'playlist', 'win', 'trip', '...</td>\n",
              "    </tr>\n",
              "    <tr>\n",
              "      <th>67645</th>\n",
              "      <td>[randiio]</td>\n",
              "      <td>0</td>\n",
              "      <td>'randiio'</td>\n",
              "    </tr>\n",
              "    <tr>\n",
              "      <th>...</th>\n",
              "      <td>...</td>\n",
              "      <td>...</td>\n",
              "      <td>...</td>\n",
              "    </tr>\n",
              "    <tr>\n",
              "      <th>20640</th>\n",
              "      <td>[richard, amazing, talent, make, u, feel, exac...</td>\n",
              "      <td>0</td>\n",
              "      <td>'richard', 'amazing', 'talent', 'make', 'u', '...</td>\n",
              "    </tr>\n",
              "    <tr>\n",
              "      <th>42488</th>\n",
              "      <td>[update, appear, cosmetic, primarily, confined...</td>\n",
              "      <td>0</td>\n",
              "      <td>'update', 'appear', 'cosmetic', 'primarily', '...</td>\n",
              "    </tr>\n",
              "    <tr>\n",
              "      <th>62160</th>\n",
              "      <td>[blame]</td>\n",
              "      <td>0</td>\n",
              "      <td>'blame'</td>\n",
              "    </tr>\n",
              "    <tr>\n",
              "      <th>61660</th>\n",
              "      <td>[kat, completely, rank, cow, god, annie, annoy...</td>\n",
              "      <td>0</td>\n",
              "      <td>'kat', 'completely', 'rank', 'cow', 'god', 'an...</td>\n",
              "    </tr>\n",
              "    <tr>\n",
              "      <th>62704</th>\n",
              "      <td>[sexist, driver, would, drive, stop, every, se...</td>\n",
              "      <td>0</td>\n",
              "      <td>'sexist', 'driver', 'would', 'drive', 'stop', ...</td>\n",
              "    </tr>\n",
              "  </tbody>\n",
              "</table>\n",
              "<p>20644 rows × 3 columns</p>\n",
              "</div>\n",
              "      <button class=\"colab-df-convert\" onclick=\"convertToInteractive('df-70f8b829-1bd4-43dc-966a-6015fc9729be')\"\n",
              "              title=\"Convert this dataframe to an interactive table.\"\n",
              "              style=\"display:none;\">\n",
              "        \n",
              "  <svg xmlns=\"http://www.w3.org/2000/svg\" height=\"24px\"viewBox=\"0 0 24 24\"\n",
              "       width=\"24px\">\n",
              "    <path d=\"M0 0h24v24H0V0z\" fill=\"none\"/>\n",
              "    <path d=\"M18.56 5.44l.94 2.06.94-2.06 2.06-.94-2.06-.94-.94-2.06-.94 2.06-2.06.94zm-11 1L8.5 8.5l.94-2.06 2.06-.94-2.06-.94L8.5 2.5l-.94 2.06-2.06.94zm10 10l.94 2.06.94-2.06 2.06-.94-2.06-.94-.94-2.06-.94 2.06-2.06.94z\"/><path d=\"M17.41 7.96l-1.37-1.37c-.4-.4-.92-.59-1.43-.59-.52 0-1.04.2-1.43.59L10.3 9.45l-7.72 7.72c-.78.78-.78 2.05 0 2.83L4 21.41c.39.39.9.59 1.41.59.51 0 1.02-.2 1.41-.59l7.78-7.78 2.81-2.81c.8-.78.8-2.07 0-2.86zM5.41 20L4 18.59l7.72-7.72 1.47 1.35L5.41 20z\"/>\n",
              "  </svg>\n",
              "      </button>\n",
              "      \n",
              "  <style>\n",
              "    .colab-df-container {\n",
              "      display:flex;\n",
              "      flex-wrap:wrap;\n",
              "      gap: 12px;\n",
              "    }\n",
              "\n",
              "    .colab-df-convert {\n",
              "      background-color: #E8F0FE;\n",
              "      border: none;\n",
              "      border-radius: 50%;\n",
              "      cursor: pointer;\n",
              "      display: none;\n",
              "      fill: #1967D2;\n",
              "      height: 32px;\n",
              "      padding: 0 0 0 0;\n",
              "      width: 32px;\n",
              "    }\n",
              "\n",
              "    .colab-df-convert:hover {\n",
              "      background-color: #E2EBFA;\n",
              "      box-shadow: 0px 1px 2px rgba(60, 64, 67, 0.3), 0px 1px 3px 1px rgba(60, 64, 67, 0.15);\n",
              "      fill: #174EA6;\n",
              "    }\n",
              "\n",
              "    [theme=dark] .colab-df-convert {\n",
              "      background-color: #3B4455;\n",
              "      fill: #D2E3FC;\n",
              "    }\n",
              "\n",
              "    [theme=dark] .colab-df-convert:hover {\n",
              "      background-color: #434B5C;\n",
              "      box-shadow: 0px 1px 3px 1px rgba(0, 0, 0, 0.15);\n",
              "      filter: drop-shadow(0px 1px 2px rgba(0, 0, 0, 0.3));\n",
              "      fill: #FFFFFF;\n",
              "    }\n",
              "  </style>\n",
              "\n",
              "      <script>\n",
              "        const buttonEl =\n",
              "          document.querySelector('#df-70f8b829-1bd4-43dc-966a-6015fc9729be button.colab-df-convert');\n",
              "        buttonEl.style.display =\n",
              "          google.colab.kernel.accessAllowed ? 'block' : 'none';\n",
              "\n",
              "        async function convertToInteractive(key) {\n",
              "          const element = document.querySelector('#df-70f8b829-1bd4-43dc-966a-6015fc9729be');\n",
              "          const dataTable =\n",
              "            await google.colab.kernel.invokeFunction('convertToInteractive',\n",
              "                                                     [key], {});\n",
              "          if (!dataTable) return;\n",
              "\n",
              "          const docLinkHtml = 'Like what you see? Visit the ' +\n",
              "            '<a target=\"_blank\" href=https://colab.research.google.com/notebooks/data_table.ipynb>data table notebook</a>'\n",
              "            + ' to learn more about interactive tables.';\n",
              "          element.innerHTML = '';\n",
              "          dataTable['output_type'] = 'display_data';\n",
              "          await google.colab.output.renderOutput(dataTable, element);\n",
              "          const docLink = document.createElement('div');\n",
              "          docLink.innerHTML = docLinkHtml;\n",
              "          element.appendChild(docLink);\n",
              "        }\n",
              "      </script>\n",
              "    </div>\n",
              "  </div>\n",
              "  "
            ]
          },
          "metadata": {},
          "execution_count": 22
        }
      ]
    },
    {
      "cell_type": "code",
      "source": [
        "X_test = testingData['Text2']\n",
        "y_test = testingData['label']"
      ],
      "metadata": {
        "id": "LL-wK2p-nxyN"
      },
      "execution_count": 23,
      "outputs": []
    },
    {
      "cell_type": "code",
      "source": [
        "X_test"
      ],
      "metadata": {
        "colab": {
          "base_uri": "https://localhost:8080/"
        },
        "id": "Ebs73sELojuX",
        "outputId": "804b6f13-e547-4620-9eb9-98af88fbe428"
      },
      "execution_count": 25,
      "outputs": [
        {
          "output_type": "execute_result",
          "data": {
            "text/plain": [
              "73340                                'face_blowing_a_kiss'\n",
              "79601    'real', 'shit', 'catch', 'bitch', 'game', 'on8...\n",
              "51712                                                     \n",
              "42148    'added', 'video', 'playlist', 'win', 'trip', '...\n",
              "67645                                            'randiio'\n",
              "                               ...                        \n",
              "20640    'richard', 'amazing', 'talent', 'make', 'u', '...\n",
              "42488    'update', 'appear', 'cosmetic', 'primarily', '...\n",
              "62160                                              'blame'\n",
              "61660    'kat', 'completely', 'rank', 'cow', 'god', 'an...\n",
              "62704    'sexist', 'driver', 'would', 'drive', 'stop', ...\n",
              "Name: Text2, Length: 20644, dtype: object"
            ]
          },
          "metadata": {},
          "execution_count": 25
        }
      ]
    },
    {
      "cell_type": "markdown",
      "source": [
        "## Modeling"
      ],
      "metadata": {
        "id": "a33wqBYYpEQK"
      }
    },
    {
      "cell_type": "markdown",
      "source": [
        "TF-IDF Vectorizer"
      ],
      "metadata": {
        "id": "HsDrpRcCcIJ9"
      }
    },
    {
      "cell_type": "code",
      "source": [
        "vec = TfidfVectorizer()\n",
        "tfidf_tr = vec.fit_transform(X_train)\n",
        "tfidf_val = vec.transform(X_test)"
      ],
      "metadata": {
        "id": "1qxH5yhzNQBd"
      },
      "execution_count": 26,
      "outputs": []
    },
    {
      "cell_type": "code",
      "source": [
        "print(tfidf_tr.shape,tfidf_val.shape)"
      ],
      "metadata": {
        "id": "bUBOXBgCb7-I",
        "colab": {
          "base_uri": "https://localhost:8080/"
        },
        "outputId": "d677fc05-4fc3-4618-a568-ec0fb26d5632"
      },
      "execution_count": 27,
      "outputs": [
        {
          "output_type": "stream",
          "name": "stdout",
          "text": [
            "(61932, 52944) (20644, 52944)\n"
          ]
        }
      ]
    },
    {
      "cell_type": "code",
      "source": [
        "print(tfidf_val)"
      ],
      "metadata": {
        "id": "NR1DdFnXcCXx",
        "colab": {
          "base_uri": "https://localhost:8080/"
        },
        "outputId": "f6e51abb-4a25-4248-eff4-13d5143d77d3"
      },
      "execution_count": 28,
      "outputs": [
        {
          "output_type": "stream",
          "name": "stdout",
          "text": [
            "  (0, 16984)\t1.0\n",
            "  (1, 42072)\t0.2915427312365346\n",
            "  (1, 38340)\t0.3456750471311509\n",
            "  (1, 33740)\t0.6793596116481384\n",
            "  (1, 19407)\t0.3219590120753789\n",
            "  (1, 9299)\t0.43164344385404607\n",
            "  (1, 6956)\t0.2097819049312252\n",
            "  (3, 51354)\t0.2542975627169736\n",
            "  (3, 50424)\t0.2948209939403746\n",
            "  (3, 49891)\t0.2399548251167816\n",
            "  (3, 48013)\t0.3400638210189212\n",
            "  (3, 44297)\t0.3135764914722437\n",
            "  (3, 36007)\t0.32956368220787297\n",
            "  (3, 16761)\t0.32224050980537366\n",
            "  (3, 16160)\t0.3164670013442298\n",
            "  (3, 9450)\t0.4059372468711552\n",
            "  (3, 2832)\t0.31539469959747174\n",
            "  (4, 38125)\t1.0\n",
            "  (5, 52214)\t0.35966192082579546\n",
            "  (5, 41857)\t0.43077324763091335\n",
            "  (5, 21224)\t0.36026376637320173\n",
            "  (5, 20621)\t0.44544985464107956\n",
            "  (5, 17302)\t0.3269278085378792\n",
            "  (5, 6480)\t0.4999803650913413\n",
            "  (6, 50544)\t0.2687973097198753\n",
            "  :\t:\n",
            "  (20640, 16859)\t0.3948185847741388\n",
            "  (20640, 11694)\t0.3608417703266197\n",
            "  (20640, 11216)\t0.4054860727837353\n",
            "  (20640, 4403)\t0.3411656380688211\n",
            "  (20641, 7197)\t1.0\n",
            "  (20642, 50609)\t0.17041299196617302\n",
            "  (20642, 48793)\t0.3322788899832635\n",
            "  (20642, 38146)\t0.266910159433673\n",
            "  (20642, 31283)\t0.1387769707345855\n",
            "  (20642, 25890)\t0.37849500813440823\n",
            "  (20642, 20218)\t0.1908665985580409\n",
            "  (20642, 11864)\t0.2800645093596809\n",
            "  (20642, 11064)\t0.2549802045805853\n",
            "  (20642, 4141)\t0.4503073270075321\n",
            "  (20642, 4116)\t0.4940989962650846\n",
            "  (20643, 51853)\t0.22401601549667055\n",
            "  (20643, 44618)\t0.266306288792066\n",
            "  (20643, 41719)\t0.2808352348381157\n",
            "  (20643, 41277)\t0.33851591207716736\n",
            "  (20643, 33934)\t0.31873175312142776\n",
            "  (20643, 27273)\t0.30438432471065435\n",
            "  (20643, 26941)\t0.40126530088936807\n",
            "  (20643, 16524)\t0.2702531640086096\n",
            "  (20643, 14828)\t0.374576838245901\n",
            "  (20643, 14822)\t0.3418159794576038\n"
          ]
        }
      ]
    },
    {
      "cell_type": "code",
      "source": [
        "nltk.download('stopwords')"
      ],
      "metadata": {
        "id": "dyPWxvY4SaeU",
        "colab": {
          "base_uri": "https://localhost:8080/"
        },
        "outputId": "8ed9d3e0-b1d0-4173-bebd-3eeeeb80bc6c"
      },
      "execution_count": 29,
      "outputs": [
        {
          "output_type": "stream",
          "name": "stderr",
          "text": [
            "[nltk_data] Downloading package stopwords to /root/nltk_data...\n",
            "[nltk_data]   Package stopwords is already up-to-date!\n"
          ]
        },
        {
          "output_type": "execute_result",
          "data": {
            "text/plain": [
              "True"
            ]
          },
          "metadata": {},
          "execution_count": 29
        }
      ]
    },
    {
      "cell_type": "code",
      "source": [
        "import numpy as np\n",
        "import seaborn as sns\n",
        "from sklearn.metrics import precision_score, recall_score, accuracy_score, f1_score, auc, average_precision_score, confusion_matrix, roc_auc_score\n",
        "from tqdm import tqdm\n",
        "import re\n",
        "import nltk\n",
        "from nltk.stem.porter import PorterStemmer\n",
        "from textblob import Word\n",
        "import datetime\n",
        "import pandas as pd\n",
        "import requests\n",
        "import sys\n",
        "sys.path.append(\"../py\")\n",
        "\n",
        "import gensim\n",
        "from nltk.stem import WordNetLemmatizer\n",
        "from nltk.corpus import stopwords\n",
        "import matplotlib.pyplot as plt\n",
        "\n",
        "def accuracy(y, y_hat):\n",
        "    y_y_hat = list(zip(y, y_hat))\n",
        "    tp = sum([1 for i in y_y_hat if i[0] == 1 and i[1] == 1])\n",
        "    tn = sum([1 for i in y_y_hat if i[0] == 0 and i[1] == 0])\n",
        "    return (tp + tn) / float(len(y_y_hat))\n",
        "\n",
        "def f1(y, y_hat):\n",
        "    precision_score = precision(y, y_hat)\n",
        "    recall_score = recall(y, y_hat)\n",
        "    numerator = precision_score * recall_score\n",
        "    denominator = precision_score + recall_score\n",
        "    return 2 * (numerator / denominator)\n",
        "\n",
        "def precision(y, y_hat):\n",
        "    y_y_hat = list(zip(y, y_hat))\n",
        "    tp = sum([1 for i in y_y_hat if i[0] == 1 and i[1] == 1])\n",
        "    fp = sum([1 for i in y_y_hat if i[0] == 0 and i[1] == 1])\n",
        "    return tp / float(tp + fp)\n",
        "\n",
        "def recall(y, y_hat):\n",
        "    y_y_hat = list(zip(y, y_hat))\n",
        "    # Find True Positive\n",
        "    tp = sum([1 for i in y_y_hat if i[0] == 1 and i[1] == 1])\n",
        "    # Find False Negative\n",
        "    fn = sum([1 for i in y_y_hat if i[0] == 1 and i[1] == 0])\n",
        "    return tp / float(tp + fn)\n"
      ],
      "metadata": {
        "id": "ETQaKuDtSKPz"
      },
      "execution_count": 46,
      "outputs": []
    },
    {
      "cell_type": "markdown",
      "source": [
        "## Machine Learning Models"
      ],
      "metadata": {
        "id": "7os1N0WkfT6e"
      }
    },
    {
      "cell_type": "code",
      "source": [
        "from sklearn.metrics import classification_report"
      ],
      "metadata": {
        "id": "dSWBTuQDqRIJ"
      },
      "execution_count": 39,
      "outputs": []
    },
    {
      "cell_type": "markdown",
      "source": [
        "MultiNomial Naive Bayes"
      ],
      "metadata": {
        "id": "2zB-6O-JfbVd"
      }
    },
    {
      "cell_type": "code",
      "source": [
        "nb = MultinomialNB()\n",
        "nb.fit(tfidf_tr, y_train)\n",
        "y_pr_nb_val = nb.predict(tfidf_val)\n",
        "print(classification_report(y_test, y_pr_nb_val))"
      ],
      "metadata": {
        "id": "ctpdb8AfRluY",
        "colab": {
          "base_uri": "https://localhost:8080/"
        },
        "outputId": "1b572aa4-de9f-4f81-9cd0-d496e4509865"
      },
      "execution_count": 43,
      "outputs": [
        {
          "output_type": "stream",
          "name": "stdout",
          "text": [
            "              precision    recall  f1-score   support\n",
            "\n",
            "           0       0.88      1.00      0.94     18171\n",
            "           1       0.97      0.01      0.03      2473\n",
            "\n",
            "    accuracy                           0.88     20644\n",
            "   macro avg       0.93      0.51      0.48     20644\n",
            "weighted avg       0.89      0.88      0.83     20644\n",
            "\n"
          ]
        }
      ]
    },
    {
      "cell_type": "markdown",
      "source": [
        "Random Forest"
      ],
      "metadata": {
        "id": "S7DAkI6MfeSA"
      }
    },
    {
      "cell_type": "code",
      "source": [
        "rf = RandomForestClassifier(n_estimators=100).fit(tfidf_tr, y_train)\n",
        "y_pr_rf_val = rf.predict(tfidf_val)\n",
        "print(classification_report(y_test, y_pr_rf_val))"
      ],
      "metadata": {
        "id": "xWx0crPrn0lC",
        "colab": {
          "base_uri": "https://localhost:8080/"
        },
        "outputId": "b5ba5827-f2e8-43fd-c085-fea6f4348836"
      },
      "execution_count": 44,
      "outputs": [
        {
          "output_type": "stream",
          "name": "stdout",
          "text": [
            "              precision    recall  f1-score   support\n",
            "\n",
            "           0       0.92      0.99      0.95     18171\n",
            "           1       0.83      0.39      0.53      2473\n",
            "\n",
            "    accuracy                           0.92     20644\n",
            "   macro avg       0.87      0.69      0.74     20644\n",
            "weighted avg       0.91      0.92      0.90     20644\n",
            "\n"
          ]
        }
      ]
    },
    {
      "cell_type": "markdown",
      "source": [
        "AdaBoost Classifier"
      ],
      "metadata": {
        "id": "lKhtf7cmfiKc"
      }
    },
    {
      "cell_type": "code",
      "source": [
        "abc = AdaBoostClassifier(DecisionTreeClassifier(max_depth=1),n_estimators=200).fit(tfidf_tr, y_train)\n",
        "y_pr_abc_val = abc.predict(tfidf_val)\n",
        "print(classification_report(y_test, y_pr_abc_val))"
      ],
      "metadata": {
        "id": "-HZGACAey4kJ",
        "colab": {
          "base_uri": "https://localhost:8080/"
        },
        "outputId": "bc0a555d-b0e5-4234-d4d6-a6dfdb0333b5"
      },
      "execution_count": 48,
      "outputs": [
        {
          "output_type": "stream",
          "name": "stdout",
          "text": [
            "              precision    recall  f1-score   support\n",
            "\n",
            "           0       0.92      0.98      0.95     18171\n",
            "           1       0.70      0.38      0.49      2473\n",
            "\n",
            "    accuracy                           0.91     20644\n",
            "   macro avg       0.81      0.68      0.72     20644\n",
            "weighted avg       0.89      0.91      0.89     20644\n",
            "\n"
          ]
        }
      ]
    },
    {
      "cell_type": "markdown",
      "source": [
        "Gradient Boosting"
      ],
      "metadata": {
        "id": "QUXpxKaOflaQ"
      }
    },
    {
      "cell_type": "code",
      "source": [
        "gbc = GradientBoostingClassifier().fit(tfidf_tr, y_train)\n",
        "y_pr_gbc_val = gbc.predict(tfidf_val)\n",
        "print(classification_report(y_test, y_pr_gbc_val))"
      ],
      "metadata": {
        "id": "eoa7ifWgQFv0",
        "colab": {
          "base_uri": "https://localhost:8080/"
        },
        "outputId": "98289fc7-f724-45b3-8f5a-85929d59eaac"
      },
      "execution_count": 49,
      "outputs": [
        {
          "output_type": "stream",
          "name": "stdout",
          "text": [
            "              precision    recall  f1-score   support\n",
            "\n",
            "           0       0.91      0.99      0.95     18171\n",
            "           1       0.78      0.32      0.46      2473\n",
            "\n",
            "    accuracy                           0.91     20644\n",
            "   macro avg       0.85      0.66      0.70     20644\n",
            "weighted avg       0.90      0.91      0.89     20644\n",
            "\n"
          ]
        }
      ]
    },
    {
      "cell_type": "markdown",
      "source": [
        "Linear SVC"
      ],
      "metadata": {
        "id": "pvikWxpsfqQK"
      }
    },
    {
      "cell_type": "code",
      "source": [
        "svc = svm.LinearSVC(random_state=42).fit(tfidf_tr, y_train)\n",
        "y_pr_svc_val = svc.predict(tfidf_val)\n",
        "print(classification_report(y_test, y_pr_svc_val))"
      ],
      "metadata": {
        "id": "Kq2ZUoyMqI8g",
        "colab": {
          "base_uri": "https://localhost:8080/"
        },
        "outputId": "aa4be33a-18ec-4111-b80d-add3ad850090"
      },
      "execution_count": 50,
      "outputs": [
        {
          "output_type": "stream",
          "name": "stdout",
          "text": [
            "              precision    recall  f1-score   support\n",
            "\n",
            "           0       0.93      0.98      0.95     18171\n",
            "           1       0.72      0.45      0.56      2473\n",
            "\n",
            "    accuracy                           0.91     20644\n",
            "   macro avg       0.82      0.72      0.75     20644\n",
            "weighted avg       0.90      0.91      0.90     20644\n",
            "\n"
          ]
        }
      ]
    },
    {
      "cell_type": "markdown",
      "source": [
        "## Plotting"
      ],
      "metadata": {
        "id": "uDRDU_h_f2K5"
      }
    },
    {
      "cell_type": "code",
      "source": [
        "data = {'Accuracy': [accuracy(y_test, y_pr_nb_val), \n",
        "                     accuracy(y_test, y_pr_rf_val), \n",
        "                     accuracy(y_test, y_pr_svc_val),\n",
        "                     accuracy(y_test, y_pr_abc_val),\n",
        "                     accuracy(y_test, y_pr_gbc_val)],\n",
        "        'F1 Score': [f1(y_test, y_pr_nb_val), \n",
        "                     f1(y_test, y_pr_rf_val), \n",
        "                     f1(y_test, y_pr_svc_val),\n",
        "                     f1(y_test, y_pr_abc_val),\n",
        "                     f1(y_test, y_pr_gbc_val)],\n",
        "        'Recall': [recall(y_test, y_pr_nb_val), \n",
        "                   recall(y_test, y_pr_rf_val), \n",
        "                   recall(y_test, y_pr_svc_val),\n",
        "                   recall(y_test, y_pr_abc_val),\n",
        "                   recall(y_test, y_pr_gbc_val)],\n",
        "        'Precision': [precision(y_test, y_pr_nb_val), \n",
        "                      precision(y_test, y_pr_rf_val), \n",
        "                      precision(y_test, y_pr_svc_val),\n",
        "                      precision(y_test, y_pr_abc_val),\n",
        "                      precision(y_test, y_pr_gbc_val)]}\n",
        "output = pd.DataFrame(data=data, index = ['Multinomial Naive Bayes', \n",
        "                                           'Random Forest',\n",
        "                                           'Support Vector Machine', \n",
        "                                           'AdaBoost Classifier', \n",
        "                                           'Gradient Boosting Classifier'])"
      ],
      "metadata": {
        "id": "3nqWflTpUhcE"
      },
      "execution_count": 51,
      "outputs": []
    },
    {
      "cell_type": "code",
      "source": [
        "# DataSet - Founta, Warner, Waseem, Hasoc, Labeled Data\n",
        "output.to_csv(\"OutputWithNormalParamters.csv\")\n",
        "output"
      ],
      "metadata": {
        "id": "BaqvqtJ7WJRu",
        "colab": {
          "base_uri": "https://localhost:8080/",
          "height": 206
        },
        "outputId": "17d46029-cd98-437d-8bbf-1fd24b3b651b"
      },
      "execution_count": 52,
      "outputs": [
        {
          "output_type": "execute_result",
          "data": {
            "text/plain": [
              "                              Accuracy  F1 Score    Recall  Precision\n",
              "Multinomial Naive Bayes       0.881806  0.027113  0.013748   0.971429\n",
              "Random Forest                 0.917555  0.534209  0.394662   0.826418\n",
              "Support Vector Machine        0.913340  0.557069  0.454913   0.718391\n",
              "AdaBoost Classifier           0.906268  0.493057  0.380510   0.700149\n",
              "Gradient Boosting Classifier  0.907721  0.455870  0.322685   0.776265"
            ],
            "text/html": [
              "\n",
              "  <div id=\"df-0fe0b789-254b-49d8-9c2e-c8d31ef56a2b\">\n",
              "    <div class=\"colab-df-container\">\n",
              "      <div>\n",
              "<style scoped>\n",
              "    .dataframe tbody tr th:only-of-type {\n",
              "        vertical-align: middle;\n",
              "    }\n",
              "\n",
              "    .dataframe tbody tr th {\n",
              "        vertical-align: top;\n",
              "    }\n",
              "\n",
              "    .dataframe thead th {\n",
              "        text-align: right;\n",
              "    }\n",
              "</style>\n",
              "<table border=\"1\" class=\"dataframe\">\n",
              "  <thead>\n",
              "    <tr style=\"text-align: right;\">\n",
              "      <th></th>\n",
              "      <th>Accuracy</th>\n",
              "      <th>F1 Score</th>\n",
              "      <th>Recall</th>\n",
              "      <th>Precision</th>\n",
              "    </tr>\n",
              "  </thead>\n",
              "  <tbody>\n",
              "    <tr>\n",
              "      <th>Multinomial Naive Bayes</th>\n",
              "      <td>0.881806</td>\n",
              "      <td>0.027113</td>\n",
              "      <td>0.013748</td>\n",
              "      <td>0.971429</td>\n",
              "    </tr>\n",
              "    <tr>\n",
              "      <th>Random Forest</th>\n",
              "      <td>0.917555</td>\n",
              "      <td>0.534209</td>\n",
              "      <td>0.394662</td>\n",
              "      <td>0.826418</td>\n",
              "    </tr>\n",
              "    <tr>\n",
              "      <th>Support Vector Machine</th>\n",
              "      <td>0.913340</td>\n",
              "      <td>0.557069</td>\n",
              "      <td>0.454913</td>\n",
              "      <td>0.718391</td>\n",
              "    </tr>\n",
              "    <tr>\n",
              "      <th>AdaBoost Classifier</th>\n",
              "      <td>0.906268</td>\n",
              "      <td>0.493057</td>\n",
              "      <td>0.380510</td>\n",
              "      <td>0.700149</td>\n",
              "    </tr>\n",
              "    <tr>\n",
              "      <th>Gradient Boosting Classifier</th>\n",
              "      <td>0.907721</td>\n",
              "      <td>0.455870</td>\n",
              "      <td>0.322685</td>\n",
              "      <td>0.776265</td>\n",
              "    </tr>\n",
              "  </tbody>\n",
              "</table>\n",
              "</div>\n",
              "      <button class=\"colab-df-convert\" onclick=\"convertToInteractive('df-0fe0b789-254b-49d8-9c2e-c8d31ef56a2b')\"\n",
              "              title=\"Convert this dataframe to an interactive table.\"\n",
              "              style=\"display:none;\">\n",
              "        \n",
              "  <svg xmlns=\"http://www.w3.org/2000/svg\" height=\"24px\"viewBox=\"0 0 24 24\"\n",
              "       width=\"24px\">\n",
              "    <path d=\"M0 0h24v24H0V0z\" fill=\"none\"/>\n",
              "    <path d=\"M18.56 5.44l.94 2.06.94-2.06 2.06-.94-2.06-.94-.94-2.06-.94 2.06-2.06.94zm-11 1L8.5 8.5l.94-2.06 2.06-.94-2.06-.94L8.5 2.5l-.94 2.06-2.06.94zm10 10l.94 2.06.94-2.06 2.06-.94-2.06-.94-.94-2.06-.94 2.06-2.06.94z\"/><path d=\"M17.41 7.96l-1.37-1.37c-.4-.4-.92-.59-1.43-.59-.52 0-1.04.2-1.43.59L10.3 9.45l-7.72 7.72c-.78.78-.78 2.05 0 2.83L4 21.41c.39.39.9.59 1.41.59.51 0 1.02-.2 1.41-.59l7.78-7.78 2.81-2.81c.8-.78.8-2.07 0-2.86zM5.41 20L4 18.59l7.72-7.72 1.47 1.35L5.41 20z\"/>\n",
              "  </svg>\n",
              "      </button>\n",
              "      \n",
              "  <style>\n",
              "    .colab-df-container {\n",
              "      display:flex;\n",
              "      flex-wrap:wrap;\n",
              "      gap: 12px;\n",
              "    }\n",
              "\n",
              "    .colab-df-convert {\n",
              "      background-color: #E8F0FE;\n",
              "      border: none;\n",
              "      border-radius: 50%;\n",
              "      cursor: pointer;\n",
              "      display: none;\n",
              "      fill: #1967D2;\n",
              "      height: 32px;\n",
              "      padding: 0 0 0 0;\n",
              "      width: 32px;\n",
              "    }\n",
              "\n",
              "    .colab-df-convert:hover {\n",
              "      background-color: #E2EBFA;\n",
              "      box-shadow: 0px 1px 2px rgba(60, 64, 67, 0.3), 0px 1px 3px 1px rgba(60, 64, 67, 0.15);\n",
              "      fill: #174EA6;\n",
              "    }\n",
              "\n",
              "    [theme=dark] .colab-df-convert {\n",
              "      background-color: #3B4455;\n",
              "      fill: #D2E3FC;\n",
              "    }\n",
              "\n",
              "    [theme=dark] .colab-df-convert:hover {\n",
              "      background-color: #434B5C;\n",
              "      box-shadow: 0px 1px 3px 1px rgba(0, 0, 0, 0.15);\n",
              "      filter: drop-shadow(0px 1px 2px rgba(0, 0, 0, 0.3));\n",
              "      fill: #FFFFFF;\n",
              "    }\n",
              "  </style>\n",
              "\n",
              "      <script>\n",
              "        const buttonEl =\n",
              "          document.querySelector('#df-0fe0b789-254b-49d8-9c2e-c8d31ef56a2b button.colab-df-convert');\n",
              "        buttonEl.style.display =\n",
              "          google.colab.kernel.accessAllowed ? 'block' : 'none';\n",
              "\n",
              "        async function convertToInteractive(key) {\n",
              "          const element = document.querySelector('#df-0fe0b789-254b-49d8-9c2e-c8d31ef56a2b');\n",
              "          const dataTable =\n",
              "            await google.colab.kernel.invokeFunction('convertToInteractive',\n",
              "                                                     [key], {});\n",
              "          if (!dataTable) return;\n",
              "\n",
              "          const docLinkHtml = 'Like what you see? Visit the ' +\n",
              "            '<a target=\"_blank\" href=https://colab.research.google.com/notebooks/data_table.ipynb>data table notebook</a>'\n",
              "            + ' to learn more about interactive tables.';\n",
              "          element.innerHTML = '';\n",
              "          dataTable['output_type'] = 'display_data';\n",
              "          await google.colab.output.renderOutput(dataTable, element);\n",
              "          const docLink = document.createElement('div');\n",
              "          docLink.innerHTML = docLinkHtml;\n",
              "          element.appendChild(docLink);\n",
              "        }\n",
              "      </script>\n",
              "    </div>\n",
              "  </div>\n",
              "  "
            ]
          },
          "metadata": {},
          "execution_count": 52
        }
      ]
    },
    {
      "cell_type": "code",
      "source": [
        "sns.set(rc={'figure.figsize':(11.7,8.27)})\n",
        "plt.title(\"Classification Metric using Normal Modeling\")\n",
        "sns.lineplot(data=output)"
      ],
      "metadata": {
        "id": "XVSCG5n9WzvN",
        "colab": {
          "base_uri": "https://localhost:8080/",
          "height": 534
        },
        "outputId": "274fb75c-b8f0-458f-9a02-8ee9d290caa7"
      },
      "execution_count": 53,
      "outputs": [
        {
          "output_type": "execute_result",
          "data": {
            "text/plain": [
              "<matplotlib.axes._subplots.AxesSubplot at 0x7f46b5481d50>"
            ]
          },
          "metadata": {},
          "execution_count": 53
        },
        {
          "output_type": "display_data",
          "data": {
            "text/plain": [
              "<Figure size 842.4x595.44 with 1 Axes>"
            ],
            "image/png": "[encoded data removed]"
          },
          "metadata": {}
        }
      ]
    },
    {
      "cell_type": "code",
      "source": [
        ""
      ],
      "metadata": {
        "id": "HuNawOUphgIf"
      },
      "execution_count": null,
      "outputs": []
    }
  ]
}