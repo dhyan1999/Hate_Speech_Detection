{
 "cells": [
  {
   "cell_type": "markdown",
   "metadata": {
    "id": "byDgwwStjDar"
   },
   "source": [
    "# What's in these colab file\n",
    "\n",
    "\n",
    "1.   Mounting TextExtraction and Cleanup file for using it's functions\n",
    "2.   Divided Data into Train Test and Val Category\n",
    "3.   Applied Data Augmentation on Training Data and increased it's quantity from 8% to 16%\n",
    "4.   Converted Text Data to Vectors using TFIDF Vectorizer\n",
    "5.   Applied Different model on the Data (RandomForest , LinearSVM .. etc)\n"
   ]
  },
  {
   "cell_type": "markdown",
   "metadata": {
    "id": "_hKw__0VUDXh"
   },
   "source": [
    "## Mounting & Inmporting Libraries"
   ]
  },
  {
   "cell_type": "code",
   "execution_count": 1,
   "metadata": {
    "id": "RiuZ3jPtCpIk"
   },
   "outputs": [],
   "source": [
    "# Importing necessary libraries\n",
    "import pandas as pd\n",
    "from sklearn import linear_model\n",
    "from sklearn.linear_model import LogisticRegression\n",
    "from sklearn.naive_bayes import MultinomialNB\n",
    "from sklearn.ensemble import RandomForestClassifier\n",
    "from sklearn.model_selection import train_test_split\n",
    "from sklearn.metrics import accuracy_score, confusion_matrix, precision_score, recall_score, f1_score, roc_auc_score, classification_report,balanced_accuracy_score, precision_recall_curve, plot_precision_recall_curve\n",
    "from sklearn.feature_extraction.text import TfidfVectorizer\n",
    "import matplotlib.pyplot as plt\n",
    "\n",
    "\n",
    "from collections import Counter\n",
    "import nltk\n",
    "from nltk.corpus import stopwords\n",
    "import string\n",
    "\n",
    "%reload_ext autoreload\n",
    "%autoreload 2\n",
    "import sys\n",
    "sys.path.append(\"../py\")\n",
    "#from utils import *\n",
    "\n",
    "from sklearn import linear_model, utils, svm\n",
    "from sklearn.utils import resample\n",
    "from imblearn.under_sampling import ClusterCentroids, EditedNearestNeighbours, RandomUnderSampler, TomekLinks, CondensedNearestNeighbour\n",
    "from imblearn.combine import SMOTETomek, SMOTEENN\n",
    "from sklearn.ensemble import GradientBoostingClassifier\n",
    "from sklearn.naive_bayes import MultinomialNB\n",
    "from sklearn.ensemble import RandomForestClassifier, AdaBoostClassifier\n",
    "from sklearn.tree import DecisionTreeClassifier"
   ]
  },
  {
   "cell_type": "code",
   "execution_count": 2,
   "metadata": {
    "colab": {
     "base_uri": "https://localhost:8080/"
    },
    "id": "r1Q8Yd_8N0bM",
    "outputId": "6d4e40cf-20c8-4ac1-998e-cfaf5ec275e5"
   },
   "outputs": [
    {
     "name": "stderr",
     "output_type": "stream",
     "text": [
      "[nltk_data] Downloading package stopwords to\n",
      "[nltk_data]     /Users/dhyanshah/nltk_data...\n",
      "[nltk_data]   Package stopwords is already up-to-date!\n",
      "[nltk_data] Downloading package punkt to /Users/dhyanshah/nltk_data...\n",
      "[nltk_data]   Package punkt is already up-to-date!\n",
      "[nltk_data] Downloading package wordnet to\n",
      "[nltk_data]     /Users/dhyanshah/nltk_data...\n",
      "[nltk_data]   Package wordnet is already up-to-date!\n"
     ]
    }
   ],
   "source": [
    "import TextExtractionCleanUP"
   ]
  },
  {
   "cell_type": "markdown",
   "metadata": {
    "id": "E3xkgJCxT-aV"
   },
   "source": [
    "## Train Test Val SPLIT"
   ]
  },
  {
   "cell_type": "code",
   "execution_count": 3,
   "metadata": {
    "colab": {
     "base_uri": "https://localhost:8080/",
     "height": 424
    },
    "id": "gIKetx8x7e7D",
    "outputId": "f54a7196-5d37-488f-d9eb-3e39fdc4f503"
   },
   "outputs": [
    {
     "data": {
      "text/html": [
       "<div>\n",
       "<style scoped>\n",
       "    .dataframe tbody tr th:only-of-type {\n",
       "        vertical-align: middle;\n",
       "    }\n",
       "\n",
       "    .dataframe tbody tr th {\n",
       "        vertical-align: top;\n",
       "    }\n",
       "\n",
       "    .dataframe thead th {\n",
       "        text-align: right;\n",
       "    }\n",
       "</style>\n",
       "<table border=\"1\" class=\"dataframe\">\n",
       "  <thead>\n",
       "    <tr style=\"text-align: right;\">\n",
       "      <th></th>\n",
       "      <th>Unnamed: 0</th>\n",
       "      <th>Text</th>\n",
       "      <th>label</th>\n",
       "    </tr>\n",
       "  </thead>\n",
       "  <tbody>\n",
       "    <tr>\n",
       "      <th>0</th>\n",
       "      <td>0</td>\n",
       "      <td>RT @MailOnline: The Nazi death gas so horrific...</td>\n",
       "      <td>0</td>\n",
       "    </tr>\n",
       "    <tr>\n",
       "      <th>1</th>\n",
       "      <td>1</td>\n",
       "      <td>Carlos Correa had gyalchester as his walkup mu...</td>\n",
       "      <td>0</td>\n",
       "    </tr>\n",
       "    <tr>\n",
       "      <th>2</th>\n",
       "      <td>2</td>\n",
       "      <td>\"THE FORCE AWAKENS: A Bad Lip Reading\" (Featur...</td>\n",
       "      <td>0</td>\n",
       "    </tr>\n",
       "    <tr>\n",
       "      <th>3</th>\n",
       "      <td>3</td>\n",
       "      <td>RT @HeeeyMonica: Papaya has to be the worst fr...</td>\n",
       "      <td>0</td>\n",
       "    </tr>\n",
       "    <tr>\n",
       "      <th>4</th>\n",
       "      <td>4</td>\n",
       "      <td>@Pineaqples @DenialEsports btw I watched where...</td>\n",
       "      <td>0</td>\n",
       "    </tr>\n",
       "    <tr>\n",
       "      <th>...</th>\n",
       "      <td>...</td>\n",
       "      <td>...</td>\n",
       "      <td>...</td>\n",
       "    </tr>\n",
       "    <tr>\n",
       "      <th>103216</th>\n",
       "      <td>103216</td>\n",
       "      <td>you's a muthaf***in lie &amp;#8220;@LifeAsKing: @2...</td>\n",
       "      <td>0</td>\n",
       "    </tr>\n",
       "    <tr>\n",
       "      <th>103217</th>\n",
       "      <td>103217</td>\n",
       "      <td>you've gone and broke the wrong heart baby, an...</td>\n",
       "      <td>0</td>\n",
       "    </tr>\n",
       "    <tr>\n",
       "      <th>103218</th>\n",
       "      <td>103218</td>\n",
       "      <td>young buck wanna eat!!.. dat nigguh like I ain...</td>\n",
       "      <td>0</td>\n",
       "    </tr>\n",
       "    <tr>\n",
       "      <th>103219</th>\n",
       "      <td>103219</td>\n",
       "      <td>youu got wild bitches tellin you lies</td>\n",
       "      <td>0</td>\n",
       "    </tr>\n",
       "    <tr>\n",
       "      <th>103220</th>\n",
       "      <td>103220</td>\n",
       "      <td>~~Ruffled | Ntac Eileen Dahlia - Beautiful col...</td>\n",
       "      <td>0</td>\n",
       "    </tr>\n",
       "  </tbody>\n",
       "</table>\n",
       "<p>103221 rows × 3 columns</p>\n",
       "</div>"
      ],
      "text/plain": [
       "        Unnamed: 0                                               Text  label\n",
       "0                0  RT @MailOnline: The Nazi death gas so horrific...      0\n",
       "1                1  Carlos Correa had gyalchester as his walkup mu...      0\n",
       "2                2  \"THE FORCE AWAKENS: A Bad Lip Reading\" (Featur...      0\n",
       "3                3  RT @HeeeyMonica: Papaya has to be the worst fr...      0\n",
       "4                4  @Pineaqples @DenialEsports btw I watched where...      0\n",
       "...            ...                                                ...    ...\n",
       "103216      103216  you's a muthaf***in lie &#8220;@LifeAsKing: @2...      0\n",
       "103217      103217  you've gone and broke the wrong heart baby, an...      0\n",
       "103218      103218  young buck wanna eat!!.. dat nigguh like I ain...      0\n",
       "103219      103219              youu got wild bitches tellin you lies      0\n",
       "103220      103220  ~~Ruffled | Ntac Eileen Dahlia - Beautiful col...      0\n",
       "\n",
       "[103221 rows x 3 columns]"
      ]
     },
     "execution_count": 3,
     "metadata": {},
     "output_type": "execute_result"
    }
   ],
   "source": [
    "import pandas as pd\n",
    "from tqdm.auto import tqdm\n",
    "import numpy as np\n",
    "from sklearn.utils import shuffle\n",
    "df = pd.read_csv(\"Final_hate.csv\")\n",
    "df"
   ]
  },
  {
   "cell_type": "code",
   "execution_count": 4,
   "metadata": {
    "id": "Cv_qgoeUCLCR"
   },
   "outputs": [],
   "source": [
    "train = df['Text']\n",
    "test = df['label']"
   ]
  },
  {
   "cell_type": "code",
   "execution_count": 5,
   "metadata": {
    "colab": {
     "base_uri": "https://localhost:8080/"
    },
    "id": "yNmRh5D4CRps",
    "outputId": "ccb0fea6-9ba8-4bcb-eb98-bca3014c460d"
   },
   "outputs": [
    {
     "name": "stdout",
     "output_type": "stream",
     "text": [
      "(103221,) (103221,)\n"
     ]
    }
   ],
   "source": [
    "print(train.shape,test.shape)"
   ]
  },
  {
   "cell_type": "code",
   "execution_count": 6,
   "metadata": {
    "colab": {
     "base_uri": "https://localhost:8080/"
    },
    "id": "bGqCzEkSCX0w",
    "outputId": "bf9b207f-4b9b-42b6-ea1b-ef1f3a512e26"
   },
   "outputs": [
    {
     "name": "stdout",
     "output_type": "stream",
     "text": [
      "X_train shape: (82576,)\n",
      "X_val shape: (20645,)\n",
      "y_train shape: (82576,)\n",
      "y_val shape: (20645,)\n",
      "========================\n",
      "X_train shape: (61932,)\n",
      "y_train shape: (61932,)\n",
      "X_test shape: (20644,)\n",
      "y_test shape: (20644,)\n"
     ]
    }
   ],
   "source": [
    "# set aside 20% of train and test data for evaluation\n",
    "X_train, X_val, y_train, y_val = train_test_split(train, test, test_size=0.2, shuffle = False, random_state = 8)\n",
    "\n",
    "\n",
    "print(\"X_train shape: {}\".format(X_train.shape))\n",
    "print(\"X_val shape: {}\".format(X_val.shape))\n",
    "print(\"y_train shape: {}\".format(y_train.shape))\n",
    "print(\"y_val shape: {}\".format(y_val.shape))\n",
    "\n",
    "\n",
    "print(\"========================\")\n",
    "\n",
    "#Use the same function above for the validation set\n",
    "X_train, X_test, y_train, y_test = train_test_split(X_train, y_train, test_size=0.25,random_state= 8) # 0.25 x 0.8 = 0.2\n",
    "\n",
    "\n",
    "print(\"X_train shape: {}\".format(X_train.shape))\n",
    "print(\"y_train shape: {}\".format(y_train.shape))\n",
    "print(\"X_test shape: {}\".format(X_test.shape))\n",
    "print(\"y_test shape: {}\".format(y_test.shape))\n"
   ]
  },
  {
   "cell_type": "code",
   "execution_count": 7,
   "metadata": {
    "colab": {
     "base_uri": "https://localhost:8080/"
    },
    "id": "yxcjVpbIVdze",
    "outputId": "b9151a9d-610d-4bd0-e8b9-e25123ec12ad"
   },
   "outputs": [
    {
     "data": {
      "text/plain": [
       "69365    @em_zyme @nvidiadeveloper @YahooGames @TwitchS...\n",
       "22438    Rainy Sunday afternoon working on laptop while...\n",
       "42853    You're the happiest when you are free to flit ...\n",
       "8270     i feel so out of it right now. i feel like how...\n",
       "20197    2 people followed me and one person unfollowed...\n",
       "                               ...                        \n",
       "10376    Charlie Lee: Wow! Twitter just did a softfork ...\n",
       "62426    RT @uberfeminist: #TwitterFeminism tries to ge...\n",
       "18417    ROLL UP! Just follow me + Retweet &amp; you ca...\n",
       "25940    Who needs California. Guy with surfboard in Hi...\n",
       "70083     @ItsOnlyAkram @steveplrose This is #Islamophobia\n",
       "Name: Text, Length: 61932, dtype: object"
      ]
     },
     "execution_count": 7,
     "metadata": {},
     "output_type": "execute_result"
    }
   ],
   "source": [
    "X_train"
   ]
  },
  {
   "cell_type": "code",
   "execution_count": 8,
   "metadata": {
    "colab": {
     "base_uri": "https://localhost:8080/"
    },
    "id": "I0ad53gXUmSC",
    "outputId": "0aff5270-d17e-4e87-ffbc-9a9334427178"
   },
   "outputs": [
    {
     "data": {
      "text/plain": [
       "69365    0\n",
       "22438    0\n",
       "42853    0\n",
       "8270     0\n",
       "20197    0\n",
       "        ..\n",
       "10376    0\n",
       "62426    0\n",
       "18417    0\n",
       "25940    0\n",
       "70083    0\n",
       "Name: label, Length: 61932, dtype: int64"
      ]
     },
     "execution_count": 8,
     "metadata": {},
     "output_type": "execute_result"
    }
   ],
   "source": [
    "y_train"
   ]
  },
  {
   "cell_type": "code",
   "execution_count": 9,
   "metadata": {
    "colab": {
     "base_uri": "https://localhost:8080/",
     "height": 424
    },
    "id": "iC2ozDAKXFDi",
    "outputId": "c6c82d6d-c728-4978-f655-f4b6c434bf25"
   },
   "outputs": [
    {
     "data": {
      "text/html": [
       "<div>\n",
       "<style scoped>\n",
       "    .dataframe tbody tr th:only-of-type {\n",
       "        vertical-align: middle;\n",
       "    }\n",
       "\n",
       "    .dataframe tbody tr th {\n",
       "        vertical-align: top;\n",
       "    }\n",
       "\n",
       "    .dataframe thead th {\n",
       "        text-align: right;\n",
       "    }\n",
       "</style>\n",
       "<table border=\"1\" class=\"dataframe\">\n",
       "  <thead>\n",
       "    <tr style=\"text-align: right;\">\n",
       "      <th></th>\n",
       "      <th>label</th>\n",
       "    </tr>\n",
       "  </thead>\n",
       "  <tbody>\n",
       "    <tr>\n",
       "      <th>69365</th>\n",
       "      <td>0</td>\n",
       "    </tr>\n",
       "    <tr>\n",
       "      <th>22438</th>\n",
       "      <td>0</td>\n",
       "    </tr>\n",
       "    <tr>\n",
       "      <th>42853</th>\n",
       "      <td>0</td>\n",
       "    </tr>\n",
       "    <tr>\n",
       "      <th>8270</th>\n",
       "      <td>0</td>\n",
       "    </tr>\n",
       "    <tr>\n",
       "      <th>20197</th>\n",
       "      <td>0</td>\n",
       "    </tr>\n",
       "    <tr>\n",
       "      <th>...</th>\n",
       "      <td>...</td>\n",
       "    </tr>\n",
       "    <tr>\n",
       "      <th>10376</th>\n",
       "      <td>0</td>\n",
       "    </tr>\n",
       "    <tr>\n",
       "      <th>62426</th>\n",
       "      <td>0</td>\n",
       "    </tr>\n",
       "    <tr>\n",
       "      <th>18417</th>\n",
       "      <td>0</td>\n",
       "    </tr>\n",
       "    <tr>\n",
       "      <th>25940</th>\n",
       "      <td>0</td>\n",
       "    </tr>\n",
       "    <tr>\n",
       "      <th>70083</th>\n",
       "      <td>0</td>\n",
       "    </tr>\n",
       "  </tbody>\n",
       "</table>\n",
       "<p>61932 rows × 1 columns</p>\n",
       "</div>"
      ],
      "text/plain": [
       "       label\n",
       "69365      0\n",
       "22438      0\n",
       "42853      0\n",
       "8270       0\n",
       "20197      0\n",
       "...      ...\n",
       "10376      0\n",
       "62426      0\n",
       "18417      0\n",
       "25940      0\n",
       "70083      0\n",
       "\n",
       "[61932 rows x 1 columns]"
      ]
     },
     "execution_count": 9,
     "metadata": {},
     "output_type": "execute_result"
    }
   ],
   "source": [
    "X_train.to_frame()\n",
    "y_train.to_frame()"
   ]
  },
  {
   "cell_type": "code",
   "execution_count": 10,
   "metadata": {
    "colab": {
     "base_uri": "https://localhost:8080/",
     "height": 424
    },
    "id": "1OpFwAogV01I",
    "outputId": "4884c387-e3a5-40ad-bc98-01a327c854d6"
   },
   "outputs": [
    {
     "data": {
      "text/html": [
       "<div>\n",
       "<style scoped>\n",
       "    .dataframe tbody tr th:only-of-type {\n",
       "        vertical-align: middle;\n",
       "    }\n",
       "\n",
       "    .dataframe tbody tr th {\n",
       "        vertical-align: top;\n",
       "    }\n",
       "\n",
       "    .dataframe thead th {\n",
       "        text-align: right;\n",
       "    }\n",
       "</style>\n",
       "<table border=\"1\" class=\"dataframe\">\n",
       "  <thead>\n",
       "    <tr style=\"text-align: right;\">\n",
       "      <th></th>\n",
       "      <th>Text</th>\n",
       "      <th>label</th>\n",
       "    </tr>\n",
       "  </thead>\n",
       "  <tbody>\n",
       "    <tr>\n",
       "      <th>69365</th>\n",
       "      <td>@em_zyme @nvidiadeveloper @YahooGames @TwitchS...</td>\n",
       "      <td>0</td>\n",
       "    </tr>\n",
       "    <tr>\n",
       "      <th>22438</th>\n",
       "      <td>Rainy Sunday afternoon working on laptop while...</td>\n",
       "      <td>0</td>\n",
       "    </tr>\n",
       "    <tr>\n",
       "      <th>42853</th>\n",
       "      <td>You're the happiest when you are free to flit ...</td>\n",
       "      <td>0</td>\n",
       "    </tr>\n",
       "    <tr>\n",
       "      <th>8270</th>\n",
       "      <td>i feel so out of it right now. i feel like how...</td>\n",
       "      <td>0</td>\n",
       "    </tr>\n",
       "    <tr>\n",
       "      <th>20197</th>\n",
       "      <td>2 people followed me and one person unfollowed...</td>\n",
       "      <td>0</td>\n",
       "    </tr>\n",
       "    <tr>\n",
       "      <th>...</th>\n",
       "      <td>...</td>\n",
       "      <td>...</td>\n",
       "    </tr>\n",
       "    <tr>\n",
       "      <th>10376</th>\n",
       "      <td>Charlie Lee: Wow! Twitter just did a softfork ...</td>\n",
       "      <td>0</td>\n",
       "    </tr>\n",
       "    <tr>\n",
       "      <th>62426</th>\n",
       "      <td>RT @uberfeminist: #TwitterFeminism tries to ge...</td>\n",
       "      <td>0</td>\n",
       "    </tr>\n",
       "    <tr>\n",
       "      <th>18417</th>\n",
       "      <td>ROLL UP! Just follow me + Retweet &amp;amp; you ca...</td>\n",
       "      <td>0</td>\n",
       "    </tr>\n",
       "    <tr>\n",
       "      <th>25940</th>\n",
       "      <td>Who needs California. Guy with surfboard in Hi...</td>\n",
       "      <td>0</td>\n",
       "    </tr>\n",
       "    <tr>\n",
       "      <th>70083</th>\n",
       "      <td>@ItsOnlyAkram @steveplrose This is #Islamophobia</td>\n",
       "      <td>0</td>\n",
       "    </tr>\n",
       "  </tbody>\n",
       "</table>\n",
       "<p>61932 rows × 2 columns</p>\n",
       "</div>"
      ],
      "text/plain": [
       "                                                    Text  label\n",
       "69365  @em_zyme @nvidiadeveloper @YahooGames @TwitchS...      0\n",
       "22438  Rainy Sunday afternoon working on laptop while...      0\n",
       "42853  You're the happiest when you are free to flit ...      0\n",
       "8270   i feel so out of it right now. i feel like how...      0\n",
       "20197  2 people followed me and one person unfollowed...      0\n",
       "...                                                  ...    ...\n",
       "10376  Charlie Lee: Wow! Twitter just did a softfork ...      0\n",
       "62426  RT @uberfeminist: #TwitterFeminism tries to ge...      0\n",
       "18417  ROLL UP! Just follow me + Retweet &amp; you ca...      0\n",
       "25940  Who needs California. Guy with surfboard in Hi...      0\n",
       "70083   @ItsOnlyAkram @steveplrose This is #Islamophobia      0\n",
       "\n",
       "[61932 rows x 2 columns]"
      ]
     },
     "execution_count": 10,
     "metadata": {},
     "output_type": "execute_result"
    }
   ],
   "source": [
    "# Just for refrence\n",
    "trainingData = pd.concat([X_train, y_train], axis=1, join='inner')\n",
    "trainingData"
   ]
  },
  {
   "cell_type": "code",
   "execution_count": 11,
   "metadata": {
    "colab": {
     "base_uri": "https://localhost:8080/"
    },
    "id": "rDqwEH2JcBog",
    "outputId": "8e53747c-02b8-4161-e152-9ee0ed115e46"
   },
   "outputs": [
    {
     "data": {
      "text/plain": [
       "0    53474\n",
       "1     8458\n",
       "Name: label, dtype: int64"
      ]
     },
     "execution_count": 11,
     "metadata": {},
     "output_type": "execute_result"
    }
   ],
   "source": [
    "x = trainingData.label.value_counts()\n",
    "x"
   ]
  },
  {
   "cell_type": "code",
   "execution_count": 12,
   "metadata": {
    "colab": {
     "base_uri": "https://localhost:8080/"
    },
    "id": "UOfs_zdEegRq",
    "outputId": "783664fb-9669-47f9-c5ea-7107968f2026"
   },
   "outputs": [
    {
     "data": {
      "text/plain": [
       "label\n",
       "0    53474\n",
       "1     8458\n",
       "dtype: int64"
      ]
     },
     "execution_count": 12,
     "metadata": {},
     "output_type": "execute_result"
    }
   ],
   "source": [
    "days = trainingData.groupby('label').size()\n",
    "days"
   ]
  },
  {
   "cell_type": "code",
   "execution_count": 13,
   "metadata": {
    "colab": {
     "base_uri": "https://localhost:8080/",
     "height": 482
    },
    "id": "KO9LrkA2es1l",
    "outputId": "64e4233c-b406-4bd9-d2d9-965976999eb8"
   },
   "outputs": [
    {
     "data": {
      "image/png": "[encoded data removed]",
      "text/plain": [
       "<Figure size 576x576 with 1 Axes>"
      ]
     },
     "metadata": {},
     "output_type": "display_data"
    }
   ],
   "source": [
    "import seaborn as sns\n",
    "x = trainingData.label.value_counts()\n",
    "sns.set()\n",
    "explode = (0, 0.2)\n",
    "labels = [r'Not a Hate Speech','Hate Speech']\n",
    "x.plot(kind='pie', title='Data distribution in Training Part', figsize=[8,8],shadow=True, legend=True,\n",
    "       explode = explode,startangle=70,autopct=lambda p: '{:.2f}%\\n({:.0f})'.format(p,(p/100)*x.sum()))\n",
    "plt.legend(labels, loc=\"best\")\n",
    "plt.show()"
   ]
  },
  {
   "cell_type": "markdown",
   "metadata": {
    "id": "dYc4fWmWTyQN"
   },
   "source": [
    "## Training Part(PreProcess)"
   ]
  },
  {
   "cell_type": "code",
   "execution_count": 14,
   "metadata": {
    "id": "EGRu1cSd1oBY"
   },
   "outputs": [],
   "source": [
    "aug_df = trainingData"
   ]
  },
  {
   "cell_type": "code",
   "execution_count": 15,
   "metadata": {
    "id": "PyttRRP3PeFY"
   },
   "outputs": [],
   "source": [
    "# Expansion of short form words\n",
    "aug_df['Text'] = aug_df['Text'].apply(lambda x: TextExtractionCleanUP.preprocess_english(x))"
   ]
  },
  {
   "cell_type": "code",
   "execution_count": 16,
   "metadata": {
    "colab": {
     "base_uri": "https://localhost:8080/",
     "height": 424
    },
    "id": "Jt0vvqyjRE8J",
    "outputId": "988c6c37-7c63-4b81-acb5-588ee7f2f520"
   },
   "outputs": [
    {
     "data": {
      "text/html": [
       "<div>\n",
       "<style scoped>\n",
       "    .dataframe tbody tr th:only-of-type {\n",
       "        vertical-align: middle;\n",
       "    }\n",
       "\n",
       "    .dataframe tbody tr th {\n",
       "        vertical-align: top;\n",
       "    }\n",
       "\n",
       "    .dataframe thead th {\n",
       "        text-align: right;\n",
       "    }\n",
       "</style>\n",
       "<table border=\"1\" class=\"dataframe\">\n",
       "  <thead>\n",
       "    <tr style=\"text-align: right;\">\n",
       "      <th></th>\n",
       "      <th>Text</th>\n",
       "      <th>label</th>\n",
       "    </tr>\n",
       "  </thead>\n",
       "  <tbody>\n",
       "    <tr>\n",
       "      <th>69365</th>\n",
       "      <td>recently bought kingpin card always buy nvidia</td>\n",
       "      <td>0</td>\n",
       "    </tr>\n",
       "    <tr>\n",
       "      <th>22438</th>\n",
       "      <td>rainy sunday afternoon working laptop watching...</td>\n",
       "      <td>0</td>\n",
       "    </tr>\n",
       "    <tr>\n",
       "      <th>42853</th>\n",
       "      <td>youre happiest free flit one activit gemini</td>\n",
       "      <td>0</td>\n",
       "    </tr>\n",
       "    <tr>\n",
       "      <th>8270</th>\n",
       "      <td>feel right feel like sleep deprived heavy narc...</td>\n",
       "      <td>0</td>\n",
       "    </tr>\n",
       "    <tr>\n",
       "      <th>20197</th>\n",
       "      <td>people followed one person unfollowed automati...</td>\n",
       "      <td>0</td>\n",
       "    </tr>\n",
       "    <tr>\n",
       "      <th>...</th>\n",
       "      <td>...</td>\n",
       "      <td>...</td>\n",
       "    </tr>\n",
       "    <tr>\n",
       "      <th>10376</th>\n",
       "      <td>charlie lee wow twitter softfork today increas...</td>\n",
       "      <td>0</td>\n",
       "    </tr>\n",
       "    <tr>\n",
       "      <th>62426</th>\n",
       "      <td>twitterfeminism tries get people fired nothing...</td>\n",
       "      <td>0</td>\n",
       "    </tr>\n",
       "    <tr>\n",
       "      <th>18417</th>\n",
       "      <td>roll follow retweet win spacious cockfirming l...</td>\n",
       "      <td>0</td>\n",
       "    </tr>\n",
       "    <tr>\n",
       "      <th>25940</th>\n",
       "      <td>needs california guy surfboard highgate ponds ...</td>\n",
       "      <td>0</td>\n",
       "    </tr>\n",
       "    <tr>\n",
       "      <th>70083</th>\n",
       "      <td>islamophobia</td>\n",
       "      <td>0</td>\n",
       "    </tr>\n",
       "  </tbody>\n",
       "</table>\n",
       "<p>61932 rows × 2 columns</p>\n",
       "</div>"
      ],
      "text/plain": [
       "                                                    Text  label\n",
       "69365     recently bought kingpin card always buy nvidia      0\n",
       "22438  rainy sunday afternoon working laptop watching...      0\n",
       "42853        youre happiest free flit one activit gemini      0\n",
       "8270   feel right feel like sleep deprived heavy narc...      0\n",
       "20197  people followed one person unfollowed automati...      0\n",
       "...                                                  ...    ...\n",
       "10376  charlie lee wow twitter softfork today increas...      0\n",
       "62426  twitterfeminism tries get people fired nothing...      0\n",
       "18417  roll follow retweet win spacious cockfirming l...      0\n",
       "25940  needs california guy surfboard highgate ponds ...      0\n",
       "70083                                       islamophobia      0\n",
       "\n",
       "[61932 rows x 2 columns]"
      ]
     },
     "execution_count": 16,
     "metadata": {},
     "output_type": "execute_result"
    }
   ],
   "source": [
    "TextExtractionCleanUP.preprocessing_method(aug_df,'Text')"
   ]
  },
  {
   "cell_type": "code",
   "execution_count": 17,
   "metadata": {
    "id": "byp0ps1UPoUD"
   },
   "outputs": [],
   "source": [
    "TextExtractionCleanUP.spellCheck(aug_df,'Text')"
   ]
  },
  {
   "cell_type": "code",
   "execution_count": 18,
   "metadata": {
    "colab": {
     "base_uri": "https://localhost:8080/"
    },
    "id": "GJKd6YmK19No",
    "outputId": "885ba99b-2e09-4683-ba47-05f0ea95f8b5"
   },
   "outputs": [
    {
     "name": "stderr",
     "output_type": "stream",
     "text": [
      "[nltk_data] Downloading package omw-1.4 to\n",
      "[nltk_data]     /Users/dhyanshah/nltk_data...\n",
      "[nltk_data]   Package omw-1.4 is already up-to-date!\n"
     ]
    },
    {
     "data": {
      "text/plain": [
       "True"
      ]
     },
     "execution_count": 18,
     "metadata": {},
     "output_type": "execute_result"
    }
   ],
   "source": [
    "import nltk\n",
    "nltk.download('omw-1.4')"
   ]
  },
  {
   "cell_type": "code",
   "execution_count": 19,
   "metadata": {
    "id": "DniSuI1mPoRc"
   },
   "outputs": [],
   "source": [
    "aug_df['Text'] = aug_df['Text'].apply(TextExtractionCleanUP.lemmatize_Tokenize_text)"
   ]
  },
  {
   "cell_type": "code",
   "execution_count": 20,
   "metadata": {
    "colab": {
     "base_uri": "https://localhost:8080/",
     "height": 424
    },
    "id": "KcfdPfSpPoDH",
    "outputId": "089cf24f-0873-4a9d-aba6-f5ccbc67c979"
   },
   "outputs": [
    {
     "data": {
      "text/html": [
       "<div>\n",
       "<style scoped>\n",
       "    .dataframe tbody tr th:only-of-type {\n",
       "        vertical-align: middle;\n",
       "    }\n",
       "\n",
       "    .dataframe tbody tr th {\n",
       "        vertical-align: top;\n",
       "    }\n",
       "\n",
       "    .dataframe thead th {\n",
       "        text-align: right;\n",
       "    }\n",
       "</style>\n",
       "<table border=\"1\" class=\"dataframe\">\n",
       "  <thead>\n",
       "    <tr style=\"text-align: right;\">\n",
       "      <th></th>\n",
       "      <th>Text</th>\n",
       "      <th>label</th>\n",
       "    </tr>\n",
       "  </thead>\n",
       "  <tbody>\n",
       "    <tr>\n",
       "      <th>69365</th>\n",
       "      <td>[recently, bought, kingpin, card, always, buy,...</td>\n",
       "      <td>0</td>\n",
       "    </tr>\n",
       "    <tr>\n",
       "      <th>22438</th>\n",
       "      <td>[rainy, sunday, afternoon, working, laptop, wa...</td>\n",
       "      <td>0</td>\n",
       "    </tr>\n",
       "    <tr>\n",
       "      <th>42853</th>\n",
       "      <td>[youre, happiest, free, flat, one, activity, g...</td>\n",
       "      <td>0</td>\n",
       "    </tr>\n",
       "    <tr>\n",
       "      <th>8270</th>\n",
       "      <td>[feel, right, feel, like, sleep, deprived, hea...</td>\n",
       "      <td>0</td>\n",
       "    </tr>\n",
       "    <tr>\n",
       "      <th>20197</th>\n",
       "      <td>[people, followed, one, person, unfollowed, au...</td>\n",
       "      <td>0</td>\n",
       "    </tr>\n",
       "    <tr>\n",
       "      <th>...</th>\n",
       "      <td>...</td>\n",
       "      <td>...</td>\n",
       "    </tr>\n",
       "    <tr>\n",
       "      <th>10376</th>\n",
       "      <td>[charlie, lee, wow, twitter, softfork, today, ...</td>\n",
       "      <td>0</td>\n",
       "    </tr>\n",
       "    <tr>\n",
       "      <th>62426</th>\n",
       "      <td>[twitterfeminism, try, get, people, fired, not...</td>\n",
       "      <td>0</td>\n",
       "    </tr>\n",
       "    <tr>\n",
       "      <th>18417</th>\n",
       "      <td>[roll, follow, retweet, win, spacious, cockfir...</td>\n",
       "      <td>0</td>\n",
       "    </tr>\n",
       "    <tr>\n",
       "      <th>25940</th>\n",
       "      <td>[need, california, guy, surfboard, highgate, p...</td>\n",
       "      <td>0</td>\n",
       "    </tr>\n",
       "    <tr>\n",
       "      <th>70083</th>\n",
       "      <td>[islamophobia]</td>\n",
       "      <td>0</td>\n",
       "    </tr>\n",
       "  </tbody>\n",
       "</table>\n",
       "<p>61932 rows × 2 columns</p>\n",
       "</div>"
      ],
      "text/plain": [
       "                                                    Text  label\n",
       "69365  [recently, bought, kingpin, card, always, buy,...      0\n",
       "22438  [rainy, sunday, afternoon, working, laptop, wa...      0\n",
       "42853  [youre, happiest, free, flat, one, activity, g...      0\n",
       "8270   [feel, right, feel, like, sleep, deprived, hea...      0\n",
       "20197  [people, followed, one, person, unfollowed, au...      0\n",
       "...                                                  ...    ...\n",
       "10376  [charlie, lee, wow, twitter, softfork, today, ...      0\n",
       "62426  [twitterfeminism, try, get, people, fired, not...      0\n",
       "18417  [roll, follow, retweet, win, spacious, cockfir...      0\n",
       "25940  [need, california, guy, surfboard, highgate, p...      0\n",
       "70083                                     [islamophobia]      0\n",
       "\n",
       "[61932 rows x 2 columns]"
      ]
     },
     "execution_count": 20,
     "metadata": {},
     "output_type": "execute_result"
    }
   ],
   "source": [
    "aug_df"
   ]
  },
  {
   "cell_type": "code",
   "execution_count": 21,
   "metadata": {
    "colab": {
     "base_uri": "https://localhost:8080/",
     "height": 424
    },
    "id": "syikNJBwTF6j",
    "outputId": "52c8071a-3305-442b-dc50-59e9357d5aac"
   },
   "outputs": [
    {
     "data": {
      "text/html": [
       "<div>\n",
       "<style scoped>\n",
       "    .dataframe tbody tr th:only-of-type {\n",
       "        vertical-align: middle;\n",
       "    }\n",
       "\n",
       "    .dataframe tbody tr th {\n",
       "        vertical-align: top;\n",
       "    }\n",
       "\n",
       "    .dataframe thead th {\n",
       "        text-align: right;\n",
       "    }\n",
       "</style>\n",
       "<table border=\"1\" class=\"dataframe\">\n",
       "  <thead>\n",
       "    <tr style=\"text-align: right;\">\n",
       "      <th></th>\n",
       "      <th>Text</th>\n",
       "      <th>label</th>\n",
       "      <th>Text2</th>\n",
       "    </tr>\n",
       "  </thead>\n",
       "  <tbody>\n",
       "    <tr>\n",
       "      <th>69365</th>\n",
       "      <td>[recently, bought, kingpin, card, always, buy,...</td>\n",
       "      <td>0</td>\n",
       "      <td>'recently', 'bought', 'kingpin', 'card', 'alwa...</td>\n",
       "    </tr>\n",
       "    <tr>\n",
       "      <th>22438</th>\n",
       "      <td>[rainy, sunday, afternoon, working, laptop, wa...</td>\n",
       "      <td>0</td>\n",
       "      <td>'rainy', 'sunday', 'afternoon', 'working', 'la...</td>\n",
       "    </tr>\n",
       "    <tr>\n",
       "      <th>42853</th>\n",
       "      <td>[youre, happiest, free, flat, one, activity, g...</td>\n",
       "      <td>0</td>\n",
       "      <td>'youre', 'happiest', 'free', 'flat', 'one', 'a...</td>\n",
       "    </tr>\n",
       "    <tr>\n",
       "      <th>8270</th>\n",
       "      <td>[feel, right, feel, like, sleep, deprived, hea...</td>\n",
       "      <td>0</td>\n",
       "      <td>'feel', 'right', 'feel', 'like', 'sleep', 'dep...</td>\n",
       "    </tr>\n",
       "    <tr>\n",
       "      <th>20197</th>\n",
       "      <td>[people, followed, one, person, unfollowed, au...</td>\n",
       "      <td>0</td>\n",
       "      <td>'people', 'followed', 'one', 'person', 'unfoll...</td>\n",
       "    </tr>\n",
       "    <tr>\n",
       "      <th>...</th>\n",
       "      <td>...</td>\n",
       "      <td>...</td>\n",
       "      <td>...</td>\n",
       "    </tr>\n",
       "    <tr>\n",
       "      <th>10376</th>\n",
       "      <td>[charlie, lee, wow, twitter, softfork, today, ...</td>\n",
       "      <td>0</td>\n",
       "      <td>'charlie', 'lee', 'wow', 'twitter', 'softfork'...</td>\n",
       "    </tr>\n",
       "    <tr>\n",
       "      <th>62426</th>\n",
       "      <td>[twitterfeminism, try, get, people, fired, not...</td>\n",
       "      <td>0</td>\n",
       "      <td>'twitterfeminism', 'try', 'get', 'people', 'fi...</td>\n",
       "    </tr>\n",
       "    <tr>\n",
       "      <th>18417</th>\n",
       "      <td>[roll, follow, retweet, win, spacious, cockfir...</td>\n",
       "      <td>0</td>\n",
       "      <td>'roll', 'follow', 'retweet', 'win', 'spacious'...</td>\n",
       "    </tr>\n",
       "    <tr>\n",
       "      <th>25940</th>\n",
       "      <td>[need, california, guy, surfboard, highgate, p...</td>\n",
       "      <td>0</td>\n",
       "      <td>'need', 'california', 'guy', 'surfboard', 'hig...</td>\n",
       "    </tr>\n",
       "    <tr>\n",
       "      <th>70083</th>\n",
       "      <td>[islamophobia]</td>\n",
       "      <td>0</td>\n",
       "      <td>'islamophobia'</td>\n",
       "    </tr>\n",
       "  </tbody>\n",
       "</table>\n",
       "<p>61932 rows × 3 columns</p>\n",
       "</div>"
      ],
      "text/plain": [
       "                                                    Text  label  \\\n",
       "69365  [recently, bought, kingpin, card, always, buy,...      0   \n",
       "22438  [rainy, sunday, afternoon, working, laptop, wa...      0   \n",
       "42853  [youre, happiest, free, flat, one, activity, g...      0   \n",
       "8270   [feel, right, feel, like, sleep, deprived, hea...      0   \n",
       "20197  [people, followed, one, person, unfollowed, au...      0   \n",
       "...                                                  ...    ...   \n",
       "10376  [charlie, lee, wow, twitter, softfork, today, ...      0   \n",
       "62426  [twitterfeminism, try, get, people, fired, not...      0   \n",
       "18417  [roll, follow, retweet, win, spacious, cockfir...      0   \n",
       "25940  [need, california, guy, surfboard, highgate, p...      0   \n",
       "70083                                     [islamophobia]      0   \n",
       "\n",
       "                                                   Text2  \n",
       "69365  'recently', 'bought', 'kingpin', 'card', 'alwa...  \n",
       "22438  'rainy', 'sunday', 'afternoon', 'working', 'la...  \n",
       "42853  'youre', 'happiest', 'free', 'flat', 'one', 'a...  \n",
       "8270   'feel', 'right', 'feel', 'like', 'sleep', 'dep...  \n",
       "20197  'people', 'followed', 'one', 'person', 'unfoll...  \n",
       "...                                                  ...  \n",
       "10376  'charlie', 'lee', 'wow', 'twitter', 'softfork'...  \n",
       "62426  'twitterfeminism', 'try', 'get', 'people', 'fi...  \n",
       "18417  'roll', 'follow', 'retweet', 'win', 'spacious'...  \n",
       "25940  'need', 'california', 'guy', 'surfboard', 'hig...  \n",
       "70083                                     'islamophobia'  \n",
       "\n",
       "[61932 rows x 3 columns]"
      ]
     },
     "execution_count": 21,
     "metadata": {},
     "output_type": "execute_result"
    }
   ],
   "source": [
    "aug_df['Text2'] = aug_df.Text.apply(lambda x: str(x)[1:-1]) \n",
    "aug_df"
   ]
  },
  {
   "cell_type": "code",
   "execution_count": 22,
   "metadata": {
    "id": "YiL1qijsNtpO"
   },
   "outputs": [],
   "source": [
    "X_train = aug_df['Text2']\n",
    "y_train = aug_df['label']"
   ]
  },
  {
   "cell_type": "code",
   "execution_count": 23,
   "metadata": {
    "colab": {
     "base_uri": "https://localhost:8080/"
    },
    "id": "BeEFt_EIRpOi",
    "outputId": "23a13094-1d5c-4589-9eaa-364494d3db79",
    "scrolled": true
   },
   "outputs": [
    {
     "name": "stdout",
     "output_type": "stream",
     "text": [
      "X_train shape: (61932,)\n",
      "y_train shape: (61932,)\n",
      "X_test shape: (20644,)\n",
      "y_test shape: (20644,)\n"
     ]
    }
   ],
   "source": [
    "# # set aside 20% of train and test data for evaluation\n",
    "# X_train, X_val, y_train, y_val = train_test_split(train, test, test_size=0.2, shuffle = True, random_state = 8)\n",
    "\n",
    "\n",
    "# print(\"X_train shape: {}\".format(X_train.shape))\n",
    "# print(\"X_val shape: {}\".format(X_val.shape))\n",
    "# print(\"y_train shape: {}\".format(y_train.shape))\n",
    "# print(\"y_val shape: {}\".format(y_val.shape))\n",
    "\n",
    "\n",
    "# print(\"========================\")\n",
    "\n",
    "# # Use the same function above for the validation set\n",
    "# X_train, X_test, y_train, y_test = train_test_split(X_train, y_train, test_size=0.25, random_state= 8) # 0.25 x 0.8 = 0.2\n",
    "\n",
    "\n",
    "print(\"X_train shape: {}\".format(X_train.shape))\n",
    "print(\"y_train shape: {}\".format(y_train.shape))\n",
    "print(\"X_test shape: {}\".format(X_test.shape))\n",
    "print(\"y_test shape: {}\".format(y_test.shape))\n",
    "\n"
   ]
  },
  {
   "cell_type": "code",
   "execution_count": 25,
   "metadata": {},
   "outputs": [
    {
     "name": "stdout",
     "output_type": "stream",
     "text": [
      "Collecting spacy\n",
      "  Downloading spacy-3.3.1-cp38-cp38-macosx_10_9_x86_64.whl (6.5 MB)\n",
      "\u001b[K     |████████████████████████████████| 6.5 MB 2.8 MB/s eta 0:00:01\n",
      "\u001b[?25hCollecting typer<0.5.0,>=0.3.0\n",
      "  Downloading typer-0.4.1-py3-none-any.whl (27 kB)\n",
      "Requirement already satisfied: setuptools in /Users/dhyanshah/opt/anaconda3/envs/condanlp/lib/python3.8/site-packages (from spacy) (61.2.0)\n",
      "Collecting langcodes<4.0.0,>=3.2.0\n",
      "  Downloading langcodes-3.3.0-py3-none-any.whl (181 kB)\n",
      "\u001b[K     |████████████████████████████████| 181 kB 3.1 MB/s eta 0:00:01\n",
      "\u001b[?25hCollecting srsly<3.0.0,>=2.4.3\n",
      "  Downloading srsly-2.4.3-cp38-cp38-macosx_10_9_x86_64.whl (455 kB)\n",
      "\u001b[K     |████████████████████████████████| 455 kB 2.3 MB/s eta 0:00:01\n",
      "\u001b[?25hCollecting preshed<3.1.0,>=3.0.2\n",
      "  Downloading preshed-3.0.6-cp38-cp38-macosx_10_9_x86_64.whl (106 kB)\n",
      "\u001b[K     |████████████████████████████████| 106 kB 3.1 MB/s eta 0:00:01\n",
      "\u001b[?25hCollecting pydantic!=1.8,!=1.8.1,<1.9.0,>=1.7.4\n",
      "  Downloading pydantic-1.8.2-cp38-cp38-macosx_10_9_x86_64.whl (2.6 MB)\n",
      "\u001b[K     |████████████████████████████████| 2.6 MB 3.0 MB/s eta 0:00:01\n",
      "\u001b[?25hRequirement already satisfied: tqdm<5.0.0,>=4.38.0 in /Users/dhyanshah/opt/anaconda3/envs/condanlp/lib/python3.8/site-packages (from spacy) (4.64.0)\n",
      "Requirement already satisfied: packaging>=20.0 in /Users/dhyanshah/opt/anaconda3/envs/condanlp/lib/python3.8/site-packages (from spacy) (21.3)\n",
      "Collecting cymem<2.1.0,>=2.0.2\n",
      "  Downloading cymem-2.0.6-cp38-cp38-macosx_10_9_x86_64.whl (31 kB)\n",
      "Collecting wasabi<1.1.0,>=0.9.1\n",
      "  Downloading wasabi-0.9.1-py3-none-any.whl (26 kB)\n",
      "Collecting catalogue<2.1.0,>=2.0.6\n",
      "  Downloading catalogue-2.0.7-py3-none-any.whl (17 kB)\n",
      "Collecting murmurhash<1.1.0,>=0.28.0\n",
      "  Downloading murmurhash-1.0.7-cp38-cp38-macosx_10_9_x86_64.whl (18 kB)\n",
      "Collecting spacy-legacy<3.1.0,>=3.0.9\n",
      "  Downloading spacy_legacy-3.0.9-py2.py3-none-any.whl (20 kB)\n",
      "Requirement already satisfied: jinja2 in /Users/dhyanshah/opt/anaconda3/envs/condanlp/lib/python3.8/site-packages (from spacy) (3.0.3)\n",
      "Collecting thinc<8.1.0,>=8.0.14\n",
      "  Downloading thinc-8.0.17-cp38-cp38-macosx_10_9_x86_64.whl (640 kB)\n",
      "\u001b[K     |████████████████████████████████| 640 kB 2.7 MB/s eta 0:00:01\n",
      "\u001b[?25hRequirement already satisfied: numpy>=1.15.0 in /Users/dhyanshah/opt/anaconda3/envs/condanlp/lib/python3.8/site-packages (from spacy) (1.22.3)\n",
      "Collecting blis<0.8.0,>=0.4.0\n",
      "  Downloading blis-0.7.8-cp38-cp38-macosx_10_9_x86_64.whl (5.9 MB)\n",
      "\u001b[K     |████████████████████████████████| 5.9 MB 4.2 MB/s eta 0:00:01\n",
      "\u001b[?25hCollecting pathy>=0.3.5\n",
      "  Downloading pathy-0.6.2-py3-none-any.whl (42 kB)\n",
      "\u001b[K     |████████████████████████████████| 42 kB 2.1 MB/s eta 0:00:01\n",
      "\u001b[?25hCollecting spacy-loggers<2.0.0,>=1.0.0\n",
      "  Downloading spacy_loggers-1.0.2-py3-none-any.whl (7.2 kB)\n",
      "Requirement already satisfied: requests<3.0.0,>=2.13.0 in /Users/dhyanshah/opt/anaconda3/envs/condanlp/lib/python3.8/site-packages (from spacy) (2.27.1)\n",
      "Requirement already satisfied: pyparsing!=3.0.5,>=2.0.2 in /Users/dhyanshah/opt/anaconda3/envs/condanlp/lib/python3.8/site-packages (from packaging>=20.0->spacy) (3.0.4)\n",
      "Collecting smart-open<6.0.0,>=5.2.1\n",
      "  Downloading smart_open-5.2.1-py3-none-any.whl (58 kB)\n",
      "\u001b[K     |████████████████████████████████| 58 kB 3.4 MB/s eta 0:00:011\n",
      "\u001b[?25hRequirement already satisfied: typing-extensions>=3.7.4.3 in /Users/dhyanshah/opt/anaconda3/envs/condanlp/lib/python3.8/site-packages (from pydantic!=1.8,!=1.8.1,<1.9.0,>=1.7.4->spacy) (4.1.1)\n",
      "Requirement already satisfied: charset-normalizer~=2.0.0 in /Users/dhyanshah/opt/anaconda3/envs/condanlp/lib/python3.8/site-packages (from requests<3.0.0,>=2.13.0->spacy) (2.0.12)\n",
      "Requirement already satisfied: idna<4,>=2.5 in /Users/dhyanshah/opt/anaconda3/envs/condanlp/lib/python3.8/site-packages (from requests<3.0.0,>=2.13.0->spacy) (3.3)\n",
      "Requirement already satisfied: certifi>=2017.4.17 in /Users/dhyanshah/opt/anaconda3/envs/condanlp/lib/python3.8/site-packages (from requests<3.0.0,>=2.13.0->spacy) (2022.6.15)\n",
      "Requirement already satisfied: urllib3<1.27,>=1.21.1 in /Users/dhyanshah/opt/anaconda3/envs/condanlp/lib/python3.8/site-packages (from requests<3.0.0,>=2.13.0->spacy) (1.26.9)\n",
      "Requirement already satisfied: click<9.0.0,>=7.1.1 in /Users/dhyanshah/opt/anaconda3/envs/condanlp/lib/python3.8/site-packages (from typer<0.5.0,>=0.3.0->spacy) (8.1.3)\n",
      "Requirement already satisfied: MarkupSafe>=2.0 in /Users/dhyanshah/opt/anaconda3/envs/condanlp/lib/python3.8/site-packages (from jinja2->spacy) (2.0.1)\n",
      "Installing collected packages: murmurhash, cymem, catalogue, wasabi, typer, srsly, smart-open, pydantic, preshed, blis, thinc, spacy-loggers, spacy-legacy, pathy, langcodes, spacy\n",
      "  Attempting uninstall: smart-open\n",
      "    Found existing installation: smart-open 6.0.0\n",
      "    Uninstalling smart-open-6.0.0:\n",
      "      Successfully uninstalled smart-open-6.0.0\n",
      "Successfully installed blis-0.7.8 catalogue-2.0.7 cymem-2.0.6 langcodes-3.3.0 murmurhash-1.0.7 pathy-0.6.2 preshed-3.0.6 pydantic-1.8.2 smart-open-5.2.1 spacy-3.3.1 spacy-legacy-3.0.9 spacy-loggers-1.0.2 srsly-2.4.3 thinc-8.0.17 typer-0.4.1 wasabi-0.9.1\n",
      "Note: you may need to restart the kernel to use updated packages.\n"
     ]
    }
   ],
   "source": [
    "pip install spacy"
   ]
  },
  {
   "cell_type": "code",
   "execution_count": 24,
   "metadata": {
    "colab": {
     "base_uri": "https://localhost:8080/",
     "height": 439
    },
    "id": "ApICuwKMRW6d",
    "outputId": "68653014-6fe9-42fc-eb68-c5c75bb1da41"
   },
   "outputs": [
    {
     "ename": "ModuleNotFoundError",
     "evalue": "No module named 'spacy'",
     "output_type": "error",
     "traceback": [
      "\u001b[0;31m---------------------------------------------------------------------------\u001b[0m",
      "\u001b[0;31mModuleNotFoundError\u001b[0m                       Traceback (most recent call last)",
      "Input \u001b[0;32mIn [24]\u001b[0m, in \u001b[0;36m<cell line: 12>\u001b[0;34m()\u001b[0m\n\u001b[1;32m      9\u001b[0m \u001b[38;5;28;01mfrom\u001b[39;00m \u001b[38;5;21;01mgensim\u001b[39;00m\u001b[38;5;21;01m.\u001b[39;00m\u001b[38;5;21;01mmodels\u001b[39;00m \u001b[38;5;28;01mimport\u001b[39;00m CoherenceModel\n\u001b[1;32m     11\u001b[0m \u001b[38;5;66;03m#spacy\u001b[39;00m\n\u001b[0;32m---> 12\u001b[0m \u001b[38;5;28;01mimport\u001b[39;00m \u001b[38;5;21;01mspacy\u001b[39;00m\n\u001b[1;32m     13\u001b[0m \u001b[38;5;28;01mfrom\u001b[39;00m \u001b[38;5;21;01mnltk\u001b[39;00m\u001b[38;5;21;01m.\u001b[39;00m\u001b[38;5;21;01mcorpus\u001b[39;00m \u001b[38;5;28;01mimport\u001b[39;00m stopwords\n\u001b[1;32m     15\u001b[0m \u001b[38;5;66;03m#vis\u001b[39;00m\n",
      "\u001b[0;31mModuleNotFoundError\u001b[0m: No module named 'spacy'"
     ]
    }
   ],
   "source": [
    "import numpy as np\n",
    "import json\n",
    "import glob\n",
    "\n",
    "#Gensim\n",
    "import gensim\n",
    "import gensim.corpora as corpora\n",
    "from gensim.utils import simple_preprocess\n",
    "from gensim.models import CoherenceModel\n",
    "\n",
    "#spacy\n",
    "import spacy\n",
    "from nltk.corpus import stopwords\n",
    "\n",
    "#vis\n",
    "import pyLDAvis\n",
    "import pyLDAvis.gensim\n",
    "\n",
    "import warnings\n",
    "warnings.filterwarnings(\"ignore\", category=DeprecationWarning)"
   ]
  },
  {
   "cell_type": "code",
   "execution_count": null,
   "metadata": {
    "id": "2PZO60pFRWz-"
   },
   "outputs": [],
   "source": []
  },
  {
   "cell_type": "code",
   "execution_count": null,
   "metadata": {
    "id": "iXpCZPKIRWxF"
   },
   "outputs": [],
   "source": []
  },
  {
   "cell_type": "code",
   "execution_count": null,
   "metadata": {
    "id": "81E7rVELRWue"
   },
   "outputs": [],
   "source": []
  },
  {
   "cell_type": "code",
   "execution_count": null,
   "metadata": {
    "id": "zlj6Ms2TRWmK"
   },
   "outputs": [],
   "source": []
  },
  {
   "cell_type": "markdown",
   "metadata": {
    "id": "-cd83BaDRgyi"
   },
   "source": [
    "##Testing Part (PreProcess)"
   ]
  },
  {
   "cell_type": "code",
   "execution_count": null,
   "metadata": {
    "colab": {
     "base_uri": "https://localhost:8080/",
     "height": 424
    },
    "id": "0Ewr4ie4Ppda",
    "outputId": "aadc7c66-7ecc-497f-eaa6-10a0ffd43ce3"
   },
   "outputs": [
    {
     "data": {
      "text/html": [
       "\n",
       "  <div id=\"df-76c00c9c-388d-4fc8-95a0-7f7b54355558\">\n",
       "    <div class=\"colab-df-container\">\n",
       "      <div>\n",
       "<style scoped>\n",
       "    .dataframe tbody tr th:only-of-type {\n",
       "        vertical-align: middle;\n",
       "    }\n",
       "\n",
       "    .dataframe tbody tr th {\n",
       "        vertical-align: top;\n",
       "    }\n",
       "\n",
       "    .dataframe thead th {\n",
       "        text-align: right;\n",
       "    }\n",
       "</style>\n",
       "<table border=\"1\" class=\"dataframe\">\n",
       "  <thead>\n",
       "    <tr style=\"text-align: right;\">\n",
       "      <th></th>\n",
       "      <th>Text</th>\n",
       "      <th>label</th>\n",
       "    </tr>\n",
       "  </thead>\n",
       "  <tbody>\n",
       "    <tr>\n",
       "      <th>55485</th>\n",
       "      <td>NaN</td>\n",
       "      <td>1</td>\n",
       "    </tr>\n",
       "    <tr>\n",
       "      <th>39710</th>\n",
       "      <td>Thanks for chatting with me while I did my mak...</td>\n",
       "      <td>0</td>\n",
       "    </tr>\n",
       "    <tr>\n",
       "      <th>48143</th>\n",
       "      <td>@BullCityVA I feel like Cooper is caught in \"j...</td>\n",
       "      <td>0</td>\n",
       "    </tr>\n",
       "    <tr>\n",
       "      <th>33436</th>\n",
       "      <td>Music, once admitted to the soul, becomes a so...</td>\n",
       "      <td>0</td>\n",
       "    </tr>\n",
       "    <tr>\n",
       "      <th>12138</th>\n",
       "      <td>It's as if you're stepping out of the shadows ...</td>\n",
       "      <td>0</td>\n",
       "    </tr>\n",
       "    <tr>\n",
       "      <th>...</th>\n",
       "      <td>...</td>\n",
       "      <td>...</td>\n",
       "    </tr>\n",
       "    <tr>\n",
       "      <th>27424</th>\n",
       "      <td>Is WWE's Paige pregnant? Sex tape scandal star...</td>\n",
       "      <td>0</td>\n",
       "    </tr>\n",
       "    <tr>\n",
       "      <th>7803</th>\n",
       "      <td>THIS. I hate complaining about money but I ref...</td>\n",
       "      <td>0</td>\n",
       "    </tr>\n",
       "    <tr>\n",
       "      <th>22782</th>\n",
       "      <td>@TrendsLagos   SEE VIDEO MAKING BY @patrickeli...</td>\n",
       "      <td>0</td>\n",
       "    </tr>\n",
       "    <tr>\n",
       "      <th>27136</th>\n",
       "      <td>Also @Bradley_Wonfor you should've been there man</td>\n",
       "      <td>0</td>\n",
       "    </tr>\n",
       "    <tr>\n",
       "      <th>4217</th>\n",
       "      <td>@mdmoumita7 @mohana1418 @VivianDsena01 @sukirt...</td>\n",
       "      <td>0</td>\n",
       "    </tr>\n",
       "  </tbody>\n",
       "</table>\n",
       "<p>20644 rows × 2 columns</p>\n",
       "</div>\n",
       "      <button class=\"colab-df-convert\" onclick=\"convertToInteractive('df-76c00c9c-388d-4fc8-95a0-7f7b54355558')\"\n",
       "              title=\"Convert this dataframe to an interactive table.\"\n",
       "              style=\"display:none;\">\n",
       "        \n",
       "  <svg xmlns=\"http://www.w3.org/2000/svg\" height=\"24px\"viewBox=\"0 0 24 24\"\n",
       "       width=\"24px\">\n",
       "    <path d=\"M0 0h24v24H0V0z\" fill=\"none\"/>\n",
       "    <path d=\"M18.56 5.44l.94 2.06.94-2.06 2.06-.94-2.06-.94-.94-2.06-.94 2.06-2.06.94zm-11 1L8.5 8.5l.94-2.06 2.06-.94-2.06-.94L8.5 2.5l-.94 2.06-2.06.94zm10 10l.94 2.06.94-2.06 2.06-.94-2.06-.94-.94-2.06-.94 2.06-2.06.94z\"/><path d=\"M17.41 7.96l-1.37-1.37c-.4-.4-.92-.59-1.43-.59-.52 0-1.04.2-1.43.59L10.3 9.45l-7.72 7.72c-.78.78-.78 2.05 0 2.83L4 21.41c.39.39.9.59 1.41.59.51 0 1.02-.2 1.41-.59l7.78-7.78 2.81-2.81c.8-.78.8-2.07 0-2.86zM5.41 20L4 18.59l7.72-7.72 1.47 1.35L5.41 20z\"/>\n",
       "  </svg>\n",
       "      </button>\n",
       "      \n",
       "  <style>\n",
       "    .colab-df-container {\n",
       "      display:flex;\n",
       "      flex-wrap:wrap;\n",
       "      gap: 12px;\n",
       "    }\n",
       "\n",
       "    .colab-df-convert {\n",
       "      background-color: #E8F0FE;\n",
       "      border: none;\n",
       "      border-radius: 50%;\n",
       "      cursor: pointer;\n",
       "      display: none;\n",
       "      fill: #1967D2;\n",
       "      height: 32px;\n",
       "      padding: 0 0 0 0;\n",
       "      width: 32px;\n",
       "    }\n",
       "\n",
       "    .colab-df-convert:hover {\n",
       "      background-color: #E2EBFA;\n",
       "      box-shadow: 0px 1px 2px rgba(60, 64, 67, 0.3), 0px 1px 3px 1px rgba(60, 64, 67, 0.15);\n",
       "      fill: #174EA6;\n",
       "    }\n",
       "\n",
       "    [theme=dark] .colab-df-convert {\n",
       "      background-color: #3B4455;\n",
       "      fill: #D2E3FC;\n",
       "    }\n",
       "\n",
       "    [theme=dark] .colab-df-convert:hover {\n",
       "      background-color: #434B5C;\n",
       "      box-shadow: 0px 1px 3px 1px rgba(0, 0, 0, 0.15);\n",
       "      filter: drop-shadow(0px 1px 2px rgba(0, 0, 0, 0.3));\n",
       "      fill: #FFFFFF;\n",
       "    }\n",
       "  </style>\n",
       "\n",
       "      <script>\n",
       "        const buttonEl =\n",
       "          document.querySelector('#df-76c00c9c-388d-4fc8-95a0-7f7b54355558 button.colab-df-convert');\n",
       "        buttonEl.style.display =\n",
       "          google.colab.kernel.accessAllowed ? 'block' : 'none';\n",
       "\n",
       "        async function convertToInteractive(key) {\n",
       "          const element = document.querySelector('#df-76c00c9c-388d-4fc8-95a0-7f7b54355558');\n",
       "          const dataTable =\n",
       "            await google.colab.kernel.invokeFunction('convertToInteractive',\n",
       "                                                     [key], {});\n",
       "          if (!dataTable) return;\n",
       "\n",
       "          const docLinkHtml = 'Like what you see? Visit the ' +\n",
       "            '<a target=\"_blank\" href=https://colab.research.google.com/notebooks/data_table.ipynb>data table notebook</a>'\n",
       "            + ' to learn more about interactive tables.';\n",
       "          element.innerHTML = '';\n",
       "          dataTable['output_type'] = 'display_data';\n",
       "          await google.colab.output.renderOutput(dataTable, element);\n",
       "          const docLink = document.createElement('div');\n",
       "          docLink.innerHTML = docLinkHtml;\n",
       "          element.appendChild(docLink);\n",
       "        }\n",
       "      </script>\n",
       "    </div>\n",
       "  </div>\n",
       "  "
      ],
      "text/plain": [
       "                                                    Text  label\n",
       "55485                                                NaN      1\n",
       "39710  Thanks for chatting with me while I did my mak...      0\n",
       "48143  @BullCityVA I feel like Cooper is caught in \"j...      0\n",
       "33436  Music, once admitted to the soul, becomes a so...      0\n",
       "12138  It's as if you're stepping out of the shadows ...      0\n",
       "...                                                  ...    ...\n",
       "27424  Is WWE's Paige pregnant? Sex tape scandal star...      0\n",
       "7803   THIS. I hate complaining about money but I ref...      0\n",
       "22782  @TrendsLagos   SEE VIDEO MAKING BY @patrickeli...      0\n",
       "27136  Also @Bradley_Wonfor you should've been there man      0\n",
       "4217   @mdmoumita7 @mohana1418 @VivianDsena01 @sukirt...      0\n",
       "\n",
       "[20644 rows x 2 columns]"
      ]
     },
     "execution_count": 32,
     "metadata": {},
     "output_type": "execute_result"
    }
   ],
   "source": [
    "# Now pre processing testing data\n",
    "testingData = pd.concat([X_test, y_test], axis=1, join='inner')\n",
    "testingData"
   ]
  },
  {
   "cell_type": "code",
   "execution_count": null,
   "metadata": {
    "colab": {
     "base_uri": "https://localhost:8080/",
     "height": 482
    },
    "id": "ilHDBqy4QGld",
    "outputId": "05367160-2104-4ea3-a2ef-5f2c3022b953"
   },
   "outputs": [
    {
     "data": {
      "image/png": "[encoded data removed]",
      "text/plain": [
       "<Figure size 576x576 with 1 Axes>"
      ]
     },
     "metadata": {},
     "output_type": "display_data"
    }
   ],
   "source": [
    "x = testingData.label.value_counts()\n",
    "sns.set()\n",
    "explode = (0, 0.2)\n",
    "labels = [r'Not a Hate Speech','Hate Speech']\n",
    "x.plot(kind='pie', title='Data distribution of Testing Part', figsize=[8,8],shadow=True, legend=True,\n",
    "       explode = explode,startangle=70,autopct=lambda p: '{:.2f}%\\n({:.0f})'.format(p,(p/100)*x.sum()))\n",
    "plt.legend(labels, loc=\"best\")\n",
    "plt.show()"
   ]
  },
  {
   "cell_type": "code",
   "execution_count": null,
   "metadata": {
    "colab": {
     "base_uri": "https://localhost:8080/",
     "height": 424
    },
    "id": "lRSC0s1qQVED",
    "outputId": "4ad84db2-1451-433c-b91c-1bf1dda41d7a"
   },
   "outputs": [
    {
     "data": {
      "text/html": [
       "\n",
       "  <div id=\"df-4cfaad7a-5574-4585-8ea9-37bade508a36\">\n",
       "    <div class=\"colab-df-container\">\n",
       "      <div>\n",
       "<style scoped>\n",
       "    .dataframe tbody tr th:only-of-type {\n",
       "        vertical-align: middle;\n",
       "    }\n",
       "\n",
       "    .dataframe tbody tr th {\n",
       "        vertical-align: top;\n",
       "    }\n",
       "\n",
       "    .dataframe thead th {\n",
       "        text-align: right;\n",
       "    }\n",
       "</style>\n",
       "<table border=\"1\" class=\"dataframe\">\n",
       "  <thead>\n",
       "    <tr style=\"text-align: right;\">\n",
       "      <th></th>\n",
       "      <th>Text</th>\n",
       "      <th>label</th>\n",
       "      <th>Text2</th>\n",
       "    </tr>\n",
       "  </thead>\n",
       "  <tbody>\n",
       "    <tr>\n",
       "      <th>55485</th>\n",
       "      <td>[nan]</td>\n",
       "      <td>1</td>\n",
       "      <td>'nan'</td>\n",
       "    </tr>\n",
       "    <tr>\n",
       "      <th>39710</th>\n",
       "      <td>[thanks, chatting, makeup, guy, totally, made,...</td>\n",
       "      <td>0</td>\n",
       "      <td>'thanks', 'chatting', 'makeup', 'guy', 'totall...</td>\n",
       "    </tr>\n",
       "    <tr>\n",
       "      <th>48143</th>\n",
       "      <td>[feel, like, cooper, caught, cannot, win, phas...</td>\n",
       "      <td>0</td>\n",
       "      <td>'feel', 'like', 'cooper', 'caught', 'cannot', ...</td>\n",
       "    </tr>\n",
       "    <tr>\n",
       "      <th>33436</th>\n",
       "      <td>[music, admitted, soul, becomes, sort, spirit,...</td>\n",
       "      <td>0</td>\n",
       "      <td>'music', 'admitted', 'soul', 'becomes', 'sort'...</td>\n",
       "    </tr>\n",
       "    <tr>\n",
       "      <th>12138</th>\n",
       "      <td>[stepping, shadow, lig, vireo]</td>\n",
       "      <td>0</td>\n",
       "      <td>'stepping', 'shadow', 'lig', 'vireo'</td>\n",
       "    </tr>\n",
       "    <tr>\n",
       "      <th>...</th>\n",
       "      <td>...</td>\n",
       "      <td>...</td>\n",
       "      <td>...</td>\n",
       "    </tr>\n",
       "    <tr>\n",
       "      <th>27424</th>\n",
       "      <td>[wwe, page, pregnant, sex, tape, scandal, star...</td>\n",
       "      <td>0</td>\n",
       "      <td>'wwe', 'page', 'pregnant', 'sex', 'tape', 'sca...</td>\n",
       "    </tr>\n",
       "    <tr>\n",
       "      <th>7803</th>\n",
       "      <td>[hate, complaining, money, refuse, tour, negat...</td>\n",
       "      <td>0</td>\n",
       "      <td>'hate', 'complaining', 'money', 'refuse', 'tou...</td>\n",
       "    </tr>\n",
       "    <tr>\n",
       "      <th>22782</th>\n",
       "      <td>[see, video, making, drop, soon, alhaji]</td>\n",
       "      <td>0</td>\n",
       "      <td>'see', 'video', 'making', 'drop', 'soon', 'alh...</td>\n",
       "    </tr>\n",
       "    <tr>\n",
       "      <th>27136</th>\n",
       "      <td>[also, man]</td>\n",
       "      <td>0</td>\n",
       "      <td>'also', 'man'</td>\n",
       "    </tr>\n",
       "    <tr>\n",
       "      <th>4217</th>\n",
       "      <td>[yes, abhiya, hug, purely, magical, red_hearts...</td>\n",
       "      <td>0</td>\n",
       "      <td>'yes', 'abhiya', 'hug', 'purely', 'magical', '...</td>\n",
       "    </tr>\n",
       "  </tbody>\n",
       "</table>\n",
       "<p>20644 rows × 3 columns</p>\n",
       "</div>\n",
       "      <button class=\"colab-df-convert\" onclick=\"convertToInteractive('df-4cfaad7a-5574-4585-8ea9-37bade508a36')\"\n",
       "              title=\"Convert this dataframe to an interactive table.\"\n",
       "              style=\"display:none;\">\n",
       "        \n",
       "  <svg xmlns=\"http://www.w3.org/2000/svg\" height=\"24px\"viewBox=\"0 0 24 24\"\n",
       "       width=\"24px\">\n",
       "    <path d=\"M0 0h24v24H0V0z\" fill=\"none\"/>\n",
       "    <path d=\"M18.56 5.44l.94 2.06.94-2.06 2.06-.94-2.06-.94-.94-2.06-.94 2.06-2.06.94zm-11 1L8.5 8.5l.94-2.06 2.06-.94-2.06-.94L8.5 2.5l-.94 2.06-2.06.94zm10 10l.94 2.06.94-2.06 2.06-.94-2.06-.94-.94-2.06-.94 2.06-2.06.94z\"/><path d=\"M17.41 7.96l-1.37-1.37c-.4-.4-.92-.59-1.43-.59-.52 0-1.04.2-1.43.59L10.3 9.45l-7.72 7.72c-.78.78-.78 2.05 0 2.83L4 21.41c.39.39.9.59 1.41.59.51 0 1.02-.2 1.41-.59l7.78-7.78 2.81-2.81c.8-.78.8-2.07 0-2.86zM5.41 20L4 18.59l7.72-7.72 1.47 1.35L5.41 20z\"/>\n",
       "  </svg>\n",
       "      </button>\n",
       "      \n",
       "  <style>\n",
       "    .colab-df-container {\n",
       "      display:flex;\n",
       "      flex-wrap:wrap;\n",
       "      gap: 12px;\n",
       "    }\n",
       "\n",
       "    .colab-df-convert {\n",
       "      background-color: #E8F0FE;\n",
       "      border: none;\n",
       "      border-radius: 50%;\n",
       "      cursor: pointer;\n",
       "      display: none;\n",
       "      fill: #1967D2;\n",
       "      height: 32px;\n",
       "      padding: 0 0 0 0;\n",
       "      width: 32px;\n",
       "    }\n",
       "\n",
       "    .colab-df-convert:hover {\n",
       "      background-color: #E2EBFA;\n",
       "      box-shadow: 0px 1px 2px rgba(60, 64, 67, 0.3), 0px 1px 3px 1px rgba(60, 64, 67, 0.15);\n",
       "      fill: #174EA6;\n",
       "    }\n",
       "\n",
       "    [theme=dark] .colab-df-convert {\n",
       "      background-color: #3B4455;\n",
       "      fill: #D2E3FC;\n",
       "    }\n",
       "\n",
       "    [theme=dark] .colab-df-convert:hover {\n",
       "      background-color: #434B5C;\n",
       "      box-shadow: 0px 1px 3px 1px rgba(0, 0, 0, 0.15);\n",
       "      filter: drop-shadow(0px 1px 2px rgba(0, 0, 0, 0.3));\n",
       "      fill: #FFFFFF;\n",
       "    }\n",
       "  </style>\n",
       "\n",
       "      <script>\n",
       "        const buttonEl =\n",
       "          document.querySelector('#df-4cfaad7a-5574-4585-8ea9-37bade508a36 button.colab-df-convert');\n",
       "        buttonEl.style.display =\n",
       "          google.colab.kernel.accessAllowed ? 'block' : 'none';\n",
       "\n",
       "        async function convertToInteractive(key) {\n",
       "          const element = document.querySelector('#df-4cfaad7a-5574-4585-8ea9-37bade508a36');\n",
       "          const dataTable =\n",
       "            await google.colab.kernel.invokeFunction('convertToInteractive',\n",
       "                                                     [key], {});\n",
       "          if (!dataTable) return;\n",
       "\n",
       "          const docLinkHtml = 'Like what you see? Visit the ' +\n",
       "            '<a target=\"_blank\" href=https://colab.research.google.com/notebooks/data_table.ipynb>data table notebook</a>'\n",
       "            + ' to learn more about interactive tables.';\n",
       "          element.innerHTML = '';\n",
       "          dataTable['output_type'] = 'display_data';\n",
       "          await google.colab.output.renderOutput(dataTable, element);\n",
       "          const docLink = document.createElement('div');\n",
       "          docLink.innerHTML = docLinkHtml;\n",
       "          element.appendChild(docLink);\n",
       "        }\n",
       "      </script>\n",
       "    </div>\n",
       "  </div>\n",
       "  "
      ],
      "text/plain": [
       "                                                    Text  label  \\\n",
       "55485                                              [nan]      1   \n",
       "39710  [thanks, chatting, makeup, guy, totally, made,...      0   \n",
       "48143  [feel, like, cooper, caught, cannot, win, phas...      0   \n",
       "33436  [music, admitted, soul, becomes, sort, spirit,...      0   \n",
       "12138                     [stepping, shadow, lig, vireo]      0   \n",
       "...                                                  ...    ...   \n",
       "27424  [wwe, page, pregnant, sex, tape, scandal, star...      0   \n",
       "7803   [hate, complaining, money, refuse, tour, negat...      0   \n",
       "22782           [see, video, making, drop, soon, alhaji]      0   \n",
       "27136                                        [also, man]      0   \n",
       "4217   [yes, abhiya, hug, purely, magical, red_hearts...      0   \n",
       "\n",
       "                                                   Text2  \n",
       "55485                                              'nan'  \n",
       "39710  'thanks', 'chatting', 'makeup', 'guy', 'totall...  \n",
       "48143  'feel', 'like', 'cooper', 'caught', 'cannot', ...  \n",
       "33436  'music', 'admitted', 'soul', 'becomes', 'sort'...  \n",
       "12138               'stepping', 'shadow', 'lig', 'vireo'  \n",
       "...                                                  ...  \n",
       "27424  'wwe', 'page', 'pregnant', 'sex', 'tape', 'sca...  \n",
       "7803   'hate', 'complaining', 'money', 'refuse', 'tou...  \n",
       "22782  'see', 'video', 'making', 'drop', 'soon', 'alh...  \n",
       "27136                                      'also', 'man'  \n",
       "4217   'yes', 'abhiya', 'hug', 'purely', 'magical', '...  \n",
       "\n",
       "[20644 rows x 3 columns]"
      ]
     },
     "execution_count": 34,
     "metadata": {},
     "output_type": "execute_result"
    }
   ],
   "source": [
    "# Expansion of short form words\n",
    "testingData['Text'] = testingData['Text'].apply(lambda x: TextExtractionCleanUP.preprocess_english(x))\n",
    "TextExtractionCleanUP.preprocessing_method(testingData,'Text')\n",
    "# SpellCheck\n",
    "TextExtractionCleanUP.spellCheck(testingData,'Text')\n",
    "# Lemmetize and tokenize\n",
    "testingData['Text'] = testingData['Text'].apply(TextExtractionCleanUP.lemmatize_Tokenize_text)\n",
    "testingData['Text2'] = testingData.Text.apply(lambda x: str(x)[1:-1]) \n",
    "testingData"
   ]
  },
  {
   "cell_type": "code",
   "execution_count": null,
   "metadata": {
    "id": "RmLJqWDLSC8n"
   },
   "outputs": [],
   "source": [
    "X_test = testingData['Text2']\n",
    "y_test = testingData['label']"
   ]
  },
  {
   "cell_type": "code",
   "execution_count": null,
   "metadata": {
    "colab": {
     "base_uri": "https://localhost:8080/"
    },
    "id": "I7oC_3XwQ9IF",
    "outputId": "5ba052dc-d7db-4fa5-85cc-ec854e8523fe"
   },
   "outputs": [
    {
     "data": {
      "text/plain": [
       "55485                                                'nan'\n",
       "39710    'thanks', 'chatting', 'makeup', 'guy', 'totall...\n",
       "48143    'feel', 'like', 'cooper', 'caught', 'cannot', ...\n",
       "33436    'music', 'admitted', 'soul', 'becomes', 'sort'...\n",
       "12138                 'stepping', 'shadow', 'lig', 'vireo'\n",
       "                               ...                        \n",
       "27424    'wwe', 'page', 'pregnant', 'sex', 'tape', 'sca...\n",
       "7803     'hate', 'complaining', 'money', 'refuse', 'tou...\n",
       "22782    'see', 'video', 'making', 'drop', 'soon', 'alh...\n",
       "27136                                        'also', 'man'\n",
       "4217     'yes', 'abhiya', 'hug', 'purely', 'magical', '...\n",
       "Name: Text2, Length: 20644, dtype: object"
      ]
     },
     "execution_count": 36,
     "metadata": {},
     "output_type": "execute_result"
    }
   ],
   "source": [
    "X_test"
   ]
  },
  {
   "cell_type": "markdown",
   "metadata": {
    "id": "HQ9Iu87MRncb"
   },
   "source": [
    "##MODELING"
   ]
  },
  {
   "cell_type": "code",
   "execution_count": null,
   "metadata": {
    "id": "381-dYZBRuD9"
   },
   "outputs": [],
   "source": [
    "vec = TfidfVectorizer(\n",
    "    lowercase = True,\n",
    "    max_df = 0.8,\n",
    "    min_df = 5,\n",
    "    ngram_range = (1,3),\n",
    "    stop_words = \"english\"\n",
    ")\n",
    "tfidf_tr = vec.fit_transform(X_train)\n",
    "#vec = get_feature_names_out()\n",
    "tfidf_val = vec.transform(X_test)"
   ]
  },
  {
   "cell_type": "code",
   "execution_count": null,
   "metadata": {
    "colab": {
     "base_uri": "https://localhost:8080/"
    },
    "id": "TMxTE4TCTUDP",
    "outputId": "18c217a3-74dd-4327-eca1-0595cb193247"
   },
   "outputs": [
    {
     "name": "stdout",
     "output_type": "stream",
     "text": [
      "(111932, 76030) (20644, 76030)\n"
     ]
    }
   ],
   "source": [
    " print(tfidf_tr.shape,tfidf_val.shape)"
   ]
  },
  {
   "cell_type": "code",
   "execution_count": null,
   "metadata": {
    "id": "lj70QJboT1Ew"
   },
   "outputs": [],
   "source": [
    "from nltk.stem import WordNetLemmatizer\n",
    "from nltk import word_tokenize\n",
    "from nltk.corpus import stopwords\n",
    "from nltk import word_tokenize\n",
    "from sklearn.linear_model import LogisticRegression\n",
    "from sklearn.naive_bayes import MultinomialNB\n",
    "from sklearn.ensemble import RandomForestClassifier\n",
    "from sklearn.utils import shuffle\n",
    "from sklearn.ensemble import GradientBoostingClassifier\n",
    "from sklearn.naive_bayes import MultinomialNB\n",
    "from sklearn.ensemble import RandomForestClassifier, AdaBoostClassifier\n",
    "from sklearn.tree import DecisionTreeClassifier\n",
    "from sklearn.naive_bayes import GaussianNB\n",
    "from sklearn.model_selection import train_test_split\n",
    "from sklearn.feature_extraction.text import TfidfVectorizer\n",
    "from sklearn.metrics import confusion_matrix, accuracy_score, classification_report\n",
    "import numpy as np\n",
    "import seaborn as sns\n",
    "from sklearn.metrics import precision_score, recall_score, accuracy_score, f1_score, auc, average_precision_score, confusion_matrix, roc_auc_score\n",
    "from tqdm import tqdm\n",
    "import re\n",
    "import nltk\n",
    "from nltk.stem.porter import PorterStemmer\n",
    "from textblob import Word\n",
    "import datetime\n",
    "import pandas as pd\n",
    "import requests\n",
    "import sys\n",
    "sys.path.append(\"../py\")\n",
    "\n",
    "import gensim\n",
    "from nltk.stem import WordNetLemmatizer\n",
    "from nltk.corpus import stopwords\n",
    "import matplotlib.pyplot as plt\n",
    "\n",
    "def accuracy(y, y_hat):\n",
    "    y_y_hat = list(zip(y, y_hat))\n",
    "    tp = sum([1 for i in y_y_hat if i[0] == 1 and i[1] == 1])\n",
    "    tn = sum([1 for i in y_y_hat if i[0] == 0 and i[1] == 0])\n",
    "    return (tp + tn) / float(len(y_y_hat))\n",
    "\n",
    "def f1(y, y_hat):\n",
    "    precision_score = precision(y, y_hat)\n",
    "    recall_score = recall(y, y_hat)\n",
    "    numerator = precision_score * recall_score\n",
    "    denominator = precision_score + recall_score\n",
    "    return 2 * (numerator / denominator)\n",
    "\n",
    "def precision(y, y_hat):\n",
    "    y_y_hat = list(zip(y, y_hat))\n",
    "    tp = sum([1 for i in y_y_hat if i[0] == 1 and i[1] == 1])\n",
    "    fp = sum([1 for i in y_y_hat if i[0] == 0 and i[1] == 1])\n",
    "    return tp / float(tp + fp)\n",
    "\n",
    "def recall(y, y_hat):\n",
    "    # Your code here\n",
    "    y_y_hat = list(zip(y, y_hat))\n",
    "    tp = sum([1 for i in y_y_hat if i[0] == 1 and i[1] == 1])\n",
    "    fn = sum([1 for i in y_y_hat if i[0] == 1 and i[1] == 0])\n",
    "    return tp / float(tp + fn)\n",
    "\n",
    "def auc(X, y, model):\n",
    "    \"\"\"\n",
    "        Function to calculate ROC-AUC Score based on predict_proba(X)\n",
    "        where X is feature values, y is target values, and model is instantiated model variable\n",
    "    \"\"\"\n",
    "    probs = model.predict_proba(X)[:,1] \n",
    "    return roc_auc_score(y, probs)\n",
    "\n",
    "def auc2(X, y, model):\n",
    "    \"\"\"\n",
    "        Function to calculate ROC-AUC Score based on decision_function(X)\n",
    "        where X is feature values, y is target values, and model is instantiated model variable\n",
    "    \"\"\"\n",
    "    probs = model.decision_function(X)\n",
    "    return roc_auc_score(y, probs)\n",
    "\n",
    "def aps(X, y, model):\n",
    "    \"\"\"\n",
    "        Function to calculate PR-AUC Score based on predict_proba(X)\n",
    "        where X is feature values, y is target values, and model is instantiated model variable\n",
    "    \"\"\"\n",
    "    probs = model.predict_proba(X)[:,1]\n",
    "    return average_precision_score(y, probs)\n",
    "\n",
    "def aps2(X, y, model):\n",
    "    \"\"\"\n",
    "        Function to calculate PR-AUC Score based on decision_function(X)\n",
    "        where X is feature values, y is target values, and model is instantiated model variable\n",
    "    \"\"\"\n",
    "    probs = model.decision_function(X)\n",
    "    return average_precision_score(y, probs)\n",
    "\n",
    "def get_metrics_confusion(X, y, y_pred, model):\n",
    "    \"\"\"\n",
    "        Function to get accuracy, F1, ROC-AUC, recall, precision, PR-AUC scores followed by confusion matrix\n",
    "        where X is feature dataset, y is target dataset, and model is instantiated model variable\n",
    "    \"\"\"\n",
    "    acc = accuracy_score(y, y_pred)\n",
    "    f1 = f1_score(y, y_pred)\n",
    "    roc_auc = auc(X, y, model)\n",
    "    rec = recall_score(y, y_pred)\n",
    "    prec = precision_score(y, y_pred)\n",
    "    pr_auc = aps(X, y, model)\n",
    "\n",
    "    print('Accuracy: ', acc)\n",
    "    print('F1 Score: ', f1)\n",
    "    print('ROC-AUC: ', roc_auc)\n",
    "    print('Recall: ', rec)\n",
    "    print('Precision: ', prec)\n",
    "    print('PR-AUC: ', pr_auc)\n",
    "    \n",
    "    cnf = confusion_matrix(y, y_pred)\n",
    "    group_names = ['TN','FP','FN','TP']\n",
    "    group_counts = ['{0:0.0f}'.format(value) for value in cnf.flatten()]\n",
    "    group_percentages = ['{0:.2%}'.format(value) for value in cnf.flatten()/np.sum(cnf)]\n",
    "    labels = [f'{v1}\\n{v2}\\n{v3}' for v1, v2, v3 in zip(group_names, group_counts, group_percentages)]\n",
    "    labels = np.asarray(labels).reshape(2,2)\n",
    "    fig, ax = plt.subplots(figsize=(4,4))\n",
    "    sns.heatmap(cnf, annot=labels, fmt='', cmap='Blues', annot_kws={'size':14}, cbar=False, xticklabels=False, yticklabels=False)\n",
    "\n",
    "def get_confusion(y, y_pred):\n",
    "    cnf = confusion_matrix(y, y_pred)\n",
    "    group_names = ['TN','FP','FN','TP']\n",
    "    group_counts = ['{0:0.0f}'.format(value) for value in cnf.flatten()]\n",
    "    group_percentages = ['{0:.2%}'.format(value) for value in cnf.flatten()/np.sum(cnf)]\n",
    "    labels = [f'{v1}\\n{v2}\\n{v3}' for v1, v2, v3 in zip(group_names, group_counts, group_percentages)]\n",
    "    labels = np.asarray(labels).reshape(2,2)\n",
    "    fig, ax = plt.subplots(figsize=(4,4))\n",
    "    sns.heatmap(cnf, annot=labels, fmt='', cmap='Blues', annot_kws={'size':14}, cbar=False, xticklabels=False, yticklabels=False)\n",
    "\n",
    "def get_metrics(X, y, y_pred, model):\n",
    "    \"\"\"\n",
    "        Function to get training and validation F1, recall, precision, PR AUC scores\n",
    "    \"\"\"    \n",
    "    acc = accuracy_score(y, y_pred)\n",
    "    f1 = f1_score(y, y_pred)\n",
    "    rec = recall_score(y, y_pred)\n",
    "    prec = precision_score(y, y_pred)\n",
    "    roc_auc = auc(X, y, model)\n",
    "    pr_auc = aps(X, y, model)\n",
    "    \n",
    "    print('Accuracy: ', acc)\n",
    "    print('F1: ', f1)\n",
    "    print('Recall: ', rec)\n",
    "    print('Precision: ', prec)\n",
    "    print('ROC-AUC: ', roc_auc)\n",
    "    print('PR-AUC: ', pr_auc)\n",
    "\n",
    "\n",
    "def get_metrics_2(X, y, y_pred, model):\n",
    "    \"\"\"\n",
    "        Function to get training and validation F1, recall, precision, PR AUC scores\n",
    "        Instantiate model and pass the model into function\n",
    "        Pass X_train, y_train, X_val, y_test datasets\n",
    "        Pass in calculated model.predict(X) for y_pred\n",
    "    \"\"\"    \n",
    "    ac = accuracy_score(y, y_pred)\n",
    "    f1 = f1_score(y, y_pred)\n",
    "    rc = recall_score(y, y_pred)\n",
    "    pr = precision_score(y, y_pred)\n",
    "    rocauc = auc2(X, y, model)\n",
    "    prauc = aps2(X, y, model)\n",
    "    \n",
    "    print('Accuracy: ', ac)\n",
    "    print('F1: ', f1)\n",
    "    print('Recall: ', rc)\n",
    "    print('Precision: ', pr)\n",
    "    print('ROC-AUC: ', rocauc)\n",
    "    print('PR-AUC: ', prauc)\n",
    "\n",
    "def get_metrics_3(X, y, y_pred, model):\n",
    "    acc = accuracy_score(y, y_pred)\n",
    "    print('Accuracy: ', acc)\n",
    "    f1 = f1_score(y, y_pred, average=\"binary\", pos_label=\"1\")\n",
    "    print('F1: ', f1)\n",
    "    rec = recall_score(y, y_pred, average=\"binary\", pos_label=\"1\")\n",
    "    print('Recall: ', rec)\n",
    "    prec = precision_score(y, y_pred, average=\"binary\", pos_label=\"1\")\n",
    "    print('Precision: ', prec)\n",
    "    y_probs = model.predict_proba(X)[:,1] \n",
    "    roc_auc = roc_auc_score(y, y_probs)\n",
    "    print('ROC-AUC: ', roc_auc)\n",
    "    pr_auc = average_precision_score(y, y_probs, pos_label=\"1\")\n",
    "    print('PR-AUC: ', pr_auc)\n",
    "\n",
    "def plot_confusion_matrix(cm, title='Confusion matrix', cmap=plt.cm.Blues):\n",
    "    plt.imshow(cm, interpolation='nearest', cmap=cmap)\n",
    "    plt.title(title)\n",
    "    plt.colorbar()\n",
    "    tick_marks = np.arange(len(my_tags))\n",
    "    target_names = my_tags\n",
    "    plt.xticks(tick_marks, target_names, rotation=45)\n",
    "    plt.yticks(tick_marks, target_names)\n",
    "    plt.tight_layout()\n",
    "    plt.ylabel('True label')\n",
    "    plt.xlabel('Predicted label')\n",
    "\n",
    "def evaluate_prediction(predictions, target, title=\"Confusion matrix\"):\n",
    "    print('accuracy %s' % accuracy_score(target, predictions))\n",
    "    cm = confusion_matrix(target, predictions, labels=my_tags)\n",
    "    print('confusion matrix\\n %s' % cm)\n",
    "    print('(row=expected, col=predicted)')\n",
    "    \n",
    "    cm_normalized = cm.astype('float') / cm.sum(axis=1)[:, np.newaxis]\n",
    "    plot_confusion_matrix(cm_normalized, title + ' Normalized')\n",
    "\n",
    "def predict(vectorizer, classifier, data):\n",
    "    data_features = vectorizer.transform(data['plot'])\n",
    "    predictions = classifier.predict(data_features)\n",
    "    target = data['tag']\n",
    "    evaluate_prediction(predictions, target)\n"
   ]
  },
  {
   "cell_type": "code",
   "execution_count": null,
   "metadata": {
    "colab": {
     "base_uri": "https://localhost:8080/",
     "height": 516
    },
    "id": "yZX1wXBCLaTt",
    "outputId": "4a9fdae9-49b0-4e85-b983-d54130b4a1fd"
   },
   "outputs": [
    {
     "name": "stdout",
     "output_type": "stream",
     "text": [
      "Accuracy:  0.8719240457275722\n",
      "F1 Score:  0.550187138482477\n",
      "ROC-AUC:  0.8683122964372503\n",
      "Recall:  0.5754448398576513\n",
      "Precision:  0.5270534550195567\n",
      "PR-AUC:  0.6210110056645611\n",
      "              precision    recall  f1-score   support\n",
      "\n",
      "           0       0.93      0.92      0.93     17834\n",
      "           1       0.53      0.58      0.55      2810\n",
      "\n",
      "    accuracy                           0.87     20644\n",
      "   macro avg       0.73      0.75      0.74     20644\n",
      "weighted avg       0.88      0.87      0.87     20644\n",
      "\n"
     ]
    },
    {
     "data": {
      "image/png": "[encoded data removed]",
      "text/plain": [
       "<Figure size 288x288 with 1 Axes>"
      ]
     },
     "metadata": {},
     "output_type": "display_data"
    }
   ],
   "source": [
    "nb = MultinomialNB()\n",
    "nb.fit(tfidf_tr, y_train)\n",
    "y_pr_nb_val = nb.predict(tfidf_val)\n",
    "get_metrics_confusion(tfidf_val, y_test, y_pr_nb_val, nb)\n",
    "print(classification_report(y_test, y_pr_nb_val))"
   ]
  },
  {
   "cell_type": "code",
   "execution_count": null,
   "metadata": {
    "colab": {
     "base_uri": "https://localhost:8080/",
     "height": 516
    },
    "id": "cEq5yYVgTdua",
    "outputId": "b6664374-e175-4fb0-d4c5-abaa72feec04"
   },
   "outputs": [
    {
     "name": "stdout",
     "output_type": "stream",
     "text": [
      "Accuracy:  0.9103855841891106\n",
      "F1 Score:  0.6351084812623276\n",
      "ROC-AUC:  0.8938839982168492\n",
      "Recall:  0.5729537366548043\n",
      "Precision:  0.7123893805309734\n",
      "PR-AUC:  0.6843732143023227\n",
      "              precision    recall  f1-score   support\n",
      "\n",
      "           0       0.93      0.96      0.95     17834\n",
      "           1       0.71      0.57      0.64      2810\n",
      "\n",
      "    accuracy                           0.91     20644\n",
      "   macro avg       0.82      0.77      0.79     20644\n",
      "weighted avg       0.90      0.91      0.91     20644\n",
      "\n"
     ]
    },
    {
     "data": {
      "image/png": "[encoded data removed]",
      "text/plain": [
       "<Figure size 288x288 with 1 Axes>"
      ]
     },
     "metadata": {},
     "output_type": "display_data"
    }
   ],
   "source": [
    "rf = RandomForestClassifier(n_estimators = 100,\n",
    "                            criterion = 'gini', \n",
    "                            max_depth = None) .fit(tfidf_tr, y_train)\n",
    "y_pr_rf_val = rf.predict(tfidf_val)\n",
    "#acc = accuracy_score(y_test, y_pr_rf_val)\n",
    "#print(acc)\n",
    "get_metrics_confusion(tfidf_val, y_test, y_pr_rf_val, rf)\n",
    "print(classification_report(y_test, y_pr_rf_val))"
   ]
  },
  {
   "cell_type": "code",
   "execution_count": null,
   "metadata": {
    "colab": {
     "background_save": true
    },
    "id": "0GGdcCfl8ABC"
   },
   "outputs": [],
   "source": [
    " # Create the grid parameter:\n",
    "grid_rf = {'n_estimators': [100],\n",
    "           'criterion': ['gini'], \n",
    "           'max_depth': [None],\n",
    "           'max_features': [0,2,4,6]} \n",
    "          #  'min_samples_split': range(2, 10),\n",
    "\t\t\t\t\t#  'min_samples_leaf': [1,3,5]}"
   ]
  },
  {
   "cell_type": "code",
   "execution_count": null,
   "metadata": {
    "colab": {
     "background_save": true
    },
    "id": "QCgDLXiT8jQq"
   },
   "outputs": [],
   "source": [
    "# Create the grid:\n",
    "from sklearn.model_selection import GridSearchCV\n",
    "gs_rf = GridSearchCV(rf, grid_rf, cv=3, n_jobs=-1)"
   ]
  },
  {
   "cell_type": "code",
   "execution_count": null,
   "metadata": {
    "colab": {
     "background_save": true
    },
    "id": "UxpO45-m8jOV",
    "outputId": "702e95aa-cd89-45bc-a516-d2f18b5b3a46"
   },
   "outputs": [
    {
     "name": "stderr",
     "output_type": "stream",
     "text": [
      "/usr/local/lib/python3.7/dist-packages/joblib/externals/loky/process_executor.py:705: UserWarning: A worker stopped while some jobs were given to the executor. This can be caused by a too short worker timeout or by a memory leak.\n",
      "  \"timeout or by a memory leak.\", UserWarning\n"
     ]
    }
   ],
   "source": [
    "# Fit using grid search:\n",
    "gs_rf.fit(tfidf_tr, y_train)"
   ]
  },
  {
   "cell_type": "code",
   "execution_count": null,
   "metadata": {
    "id": "JEXBDSdf8jIo"
   },
   "outputs": [],
   "source": [
    "# Print best accuracy and best parameters:\n",
    "print('Best accuracy: %.3f' % gs_rf.best_score_)\n",
    "print('\\nBest params:\\n', gs_rf.best_params_)"
   ]
  },
  {
   "cell_type": "code",
   "execution_count": null,
   "metadata": {
    "id": "kDPcgFgs8_Yv"
   },
   "outputs": [],
   "source": []
  },
  {
   "cell_type": "code",
   "execution_count": null,
   "metadata": {
    "id": "xg_5hfhE8_Nx"
   },
   "outputs": [],
   "source": []
  },
  {
   "cell_type": "code",
   "execution_count": null,
   "metadata": {
    "id": "Al0cEVOx8_J6"
   },
   "outputs": [],
   "source": []
  },
  {
   "cell_type": "code",
   "execution_count": null,
   "metadata": {
    "colab": {
     "base_uri": "https://localhost:8080/",
     "height": 516
    },
    "id": "RaCqpbouVpa5",
    "outputId": "d7afaefc-5a58-4728-e222-81d795217af1"
   },
   "outputs": [
    {
     "name": "stdout",
     "output_type": "stream",
     "text": [
      "Accuracy:  0.8599593102111994\n",
      "F1 Score:  0.5617705017432166\n",
      "ROC-AUC:  0.8307437071897138\n",
      "Recall:  0.6594306049822064\n",
      "Precision:  0.48930551888038026\n",
      "PR-AUC:  0.5822758222774631\n",
      "              precision    recall  f1-score   support\n",
      "\n",
      "           0       0.94      0.89      0.92     17834\n",
      "           1       0.49      0.66      0.56      2810\n",
      "\n",
      "    accuracy                           0.86     20644\n",
      "   macro avg       0.72      0.78      0.74     20644\n",
      "weighted avg       0.88      0.86      0.87     20644\n",
      "\n"
     ]
    },
    {
     "data": {
      "image/png": "[encoded data removed]",
      "text/plain": [
       "<Figure size 288x288 with 1 Axes>"
      ]
     },
     "metadata": {},
     "output_type": "display_data"
    }
   ],
   "source": [
    "abc = AdaBoostClassifier(DecisionTreeClassifier(max_depth=1),n_estimators=200).fit(tfidf_tr, y_train)\n",
    "y_pr_abc_val = abc.predict(tfidf_val)\n",
    "get_metrics_confusion(tfidf_val, y_test, y_pr_abc_val, abc)\n",
    "print(classification_report(y_test, y_pr_abc_val))"
   ]
  },
  {
   "cell_type": "code",
   "execution_count": null,
   "metadata": {
    "colab": {
     "base_uri": "https://localhost:8080/",
     "height": 516
    },
    "id": "RCiDosjaWiyi",
    "outputId": "d53731c9-b0fa-422f-b782-8df42cf860bb"
   },
   "outputs": [
    {
     "name": "stdout",
     "output_type": "stream",
     "text": [
      "Accuracy:  0.9068494477814377\n",
      "F1 Score:  0.6469616302551864\n",
      "ROC-AUC:  0.8637258712914712\n",
      "Recall:  0.6270462633451958\n",
      "Precision:  0.6681835419036785\n",
      "PR-AUC:  0.6275228697224533\n",
      "              precision    recall  f1-score   support\n",
      "\n",
      "           0       0.94      0.95      0.95     17834\n",
      "           1       0.67      0.63      0.65      2810\n",
      "\n",
      "    accuracy                           0.91     20644\n",
      "   macro avg       0.80      0.79      0.80     20644\n",
      "weighted avg       0.90      0.91      0.91     20644\n",
      "\n"
     ]
    },
    {
     "data": {
      "image/png": "[encoded data removed]",
      "text/plain": [
       "<Figure size 288x288 with 1 Axes>"
      ]
     },
     "metadata": {},
     "output_type": "display_data"
    }
   ],
   "source": [
    " # 24 -> 26\n",
    "gbc = GradientBoostingClassifier().fit(tfidf_tr, y_train)\n",
    "y_pr_gbc_val = gbc.predict(tfidf_val)\n",
    "get_metrics_confusion(tfidf_val, y_test, y_pr_gbc_val, gbc)\n",
    "print(classification_report(y_test, y_pr_gbc_val))"
   ]
  },
  {
   "cell_type": "code",
   "execution_count": null,
   "metadata": {
    "colab": {
     "base_uri": "https://localhost:8080/",
     "height": 516
    },
    "id": "z8b35kUoWiv7",
    "outputId": "c0181533-df58-4663-97bf-cc3f1618652e"
   },
   "outputs": [
    {
     "name": "stdout",
     "output_type": "stream",
     "text": [
      "Accuracy:  0.8946909513660143\n",
      "F1:  0.6307744565217391\n",
      "Recall:  0.6608540925266904\n",
      "Precision:  0.6033138401559455\n",
      "ROC-AUC:  0.8825111536722411\n",
      "PR-AUC:  0.6560440286124134\n",
      "              precision    recall  f1-score   support\n",
      "\n",
      "           0       0.95      0.93      0.94     17834\n",
      "           1       0.60      0.66      0.63      2810\n",
      "\n",
      "    accuracy                           0.89     20644\n",
      "   macro avg       0.77      0.80      0.78     20644\n",
      "weighted avg       0.90      0.89      0.90     20644\n",
      "\n"
     ]
    },
    {
     "data": {
      "image/png": "[encoded data removed]",
      "text/plain": [
       "<Figure size 288x288 with 1 Axes>"
      ]
     },
     "metadata": {},
     "output_type": "display_data"
    }
   ],
   "source": [
    "#47 ->47\n",
    "from sklearn import svm\n",
    "svc = svm.LinearSVC(random_state=42).fit(tfidf_tr, y_train)\n",
    "y_pr_svc_val = svc.predict(tfidf_val)\n",
    "get_metrics_2(tfidf_val, y_test, y_pr_svc_val, svc)\n",
    "get_confusion(y_test, y_pr_svc_val)\n",
    "print(classification_report(y_test, y_pr_svc_val))"
   ]
  },
  {
   "cell_type": "code",
   "execution_count": null,
   "metadata": {
    "colab": {
     "base_uri": "https://localhost:8080/",
     "height": 516
    },
    "id": "kKRDrKYNWitT",
    "outputId": "56a58cda-7311-4fdb-c054-64ffb748a7f9"
   },
   "outputs": [
    {
     "name": "stdout",
     "output_type": "stream",
     "text": [
      "Accuracy:  0.896773881030808\n",
      "F1 Score:  0.654226837579101\n",
      "ROC-AUC:  0.9014899266745074\n",
      "Recall:  0.7174377224199289\n",
      "Precision:  0.6012526096033403\n",
      "PR-AUC:  0.6824920036886999\n",
      "              precision    recall  f1-score   support\n",
      "\n",
      "           0       0.95      0.93      0.94     17834\n",
      "           1       0.60      0.72      0.65      2810\n",
      "\n",
      "    accuracy                           0.90     20644\n",
      "   macro avg       0.78      0.82      0.80     20644\n",
      "weighted avg       0.91      0.90      0.90     20644\n",
      "\n"
     ]
    },
    {
     "data": {
      "image/png": "[encoded data removed]",
      "text/plain": [
       "<Figure size 288x288 with 1 Axes>"
      ]
     },
     "metadata": {},
     "output_type": "display_data"
    }
   ],
   "source": [
    "#36 -> 42\n",
    "log = LogisticRegression(random_state=42).fit(tfidf_tr, y_train)\n",
    "y_pr_log_val = log.predict(tfidf_val)\n",
    "get_metrics_confusion(tfidf_val, y_test, y_pr_log_val, log)\n",
    "print(classification_report(y_test, y_pr_log_val))"
   ]
  },
  {
   "cell_type": "code",
   "execution_count": null,
   "metadata": {
    "id": "eU5elFiLTAZT"
   },
   "outputs": [],
   "source": [
    "data = {'Accuracy': [accuracy(y_test, y_pr_nb_val), \n",
    "                     accuracy(y_test, y_pr_rf_val), \n",
    "                     accuracy(y_test, y_pr_svc_val),\n",
    "                     accuracy(y_test, y_pr_abc_val),\n",
    "                     accuracy(y_test, y_pr_gbc_val)],\n",
    "        'F1 Score': [f1(y_test, y_pr_nb_val), \n",
    "                     f1(y_test, y_pr_rf_val), \n",
    "                     f1(y_test, y_pr_svc_val),\n",
    "                     f1(y_test, y_pr_abc_val),\n",
    "                     f1(y_test, y_pr_gbc_val)],\n",
    "        'Recall': [recall(y_test, y_pr_nb_val), \n",
    "                   recall(y_test, y_pr_rf_val), \n",
    "                   recall(y_test, y_pr_svc_val),\n",
    "                   recall(y_test, y_pr_abc_val),\n",
    "                   recall(y_test, y_pr_gbc_val)],\n",
    "        'Precision': [precision(y_test, y_pr_nb_val), \n",
    "                      precision(y_test, y_pr_rf_val), \n",
    "                      precision(y_test, y_pr_svc_val),\n",
    "                      precision(y_test, y_pr_abc_val),\n",
    "                      precision(y_test, y_pr_gbc_val)],\n",
    "        'ROC-AUC': [auc(tfidf_val, y_test, nb),\n",
    "                    auc(tfidf_val, y_test, rf),\n",
    "                    auc2(tfidf_val, y_test, svc),\n",
    "                    auc(tfidf_val, y_test, abc),\n",
    "                    auc(tfidf_val, y_test, gbc)],\n",
    "        'PR-AUC': [aps(tfidf_val, y_test, nb),\n",
    "                   aps(tfidf_val, y_test, rf),\n",
    "                   aps2(tfidf_val, y_test, svc),\n",
    "                   aps(tfidf_val, y_test, abc),\n",
    "                   aps(tfidf_val, y_test, gbc)]}\n",
    "output = pd.DataFrame(data=data, index = ['Multinomial Naive Bayes', \n",
    "                                           'Random Forest',\n",
    "                                           'Support Vector Machine', \n",
    "                                           'AdaBoost Classifier', \n",
    "                                           'Gradient Boosting Classifier'])"
   ]
  },
  {
   "cell_type": "code",
   "execution_count": null,
   "metadata": {
    "colab": {
     "base_uri": "https://localhost:8080/",
     "height": 206
    },
    "id": "NT09nCP4RvKQ",
    "outputId": "f97f4cde-3528-41c1-aa3c-42903623a68c"
   },
   "outputs": [
    {
     "data": {
      "text/html": [
       "\n",
       "  <div id=\"df-597bb4cc-044c-487f-a94e-cacfbcacfc5d\">\n",
       "    <div class=\"colab-df-container\">\n",
       "      <div>\n",
       "<style scoped>\n",
       "    .dataframe tbody tr th:only-of-type {\n",
       "        vertical-align: middle;\n",
       "    }\n",
       "\n",
       "    .dataframe tbody tr th {\n",
       "        vertical-align: top;\n",
       "    }\n",
       "\n",
       "    .dataframe thead th {\n",
       "        text-align: right;\n",
       "    }\n",
       "</style>\n",
       "<table border=\"1\" class=\"dataframe\">\n",
       "  <thead>\n",
       "    <tr style=\"text-align: right;\">\n",
       "      <th></th>\n",
       "      <th>Accuracy</th>\n",
       "      <th>F1 Score</th>\n",
       "      <th>Recall</th>\n",
       "      <th>Precision</th>\n",
       "      <th>ROC-AUC</th>\n",
       "      <th>PR-AUC</th>\n",
       "    </tr>\n",
       "  </thead>\n",
       "  <tbody>\n",
       "    <tr>\n",
       "      <th>Multinomial Naive Bayes</th>\n",
       "      <td>0.750000</td>\n",
       "      <td>0.471263</td>\n",
       "      <td>0.818505</td>\n",
       "      <td>0.330888</td>\n",
       "      <td>0.869232</td>\n",
       "      <td>0.593425</td>\n",
       "    </tr>\n",
       "    <tr>\n",
       "      <th>Random Forest</th>\n",
       "      <td>0.914891</td>\n",
       "      <td>0.693849</td>\n",
       "      <td>0.708541</td>\n",
       "      <td>0.679754</td>\n",
       "      <td>0.906924</td>\n",
       "      <td>0.726640</td>\n",
       "    </tr>\n",
       "    <tr>\n",
       "      <th>Support Vector Machine</th>\n",
       "      <td>0.894691</td>\n",
       "      <td>0.630774</td>\n",
       "      <td>0.660854</td>\n",
       "      <td>0.603314</td>\n",
       "      <td>0.882511</td>\n",
       "      <td>0.656044</td>\n",
       "    </tr>\n",
       "    <tr>\n",
       "      <th>AdaBoost Classifier</th>\n",
       "      <td>0.884325</td>\n",
       "      <td>0.619624</td>\n",
       "      <td>0.692171</td>\n",
       "      <td>0.560842</td>\n",
       "      <td>0.877634</td>\n",
       "      <td>0.625118</td>\n",
       "    </tr>\n",
       "    <tr>\n",
       "      <th>Gradient Boosting Classifier</th>\n",
       "      <td>0.906849</td>\n",
       "      <td>0.646962</td>\n",
       "      <td>0.627046</td>\n",
       "      <td>0.668184</td>\n",
       "      <td>0.863726</td>\n",
       "      <td>0.627523</td>\n",
       "    </tr>\n",
       "  </tbody>\n",
       "</table>\n",
       "</div>\n",
       "      <button class=\"colab-df-convert\" onclick=\"convertToInteractive('df-597bb4cc-044c-487f-a94e-cacfbcacfc5d')\"\n",
       "              title=\"Convert this dataframe to an interactive table.\"\n",
       "              style=\"display:none;\">\n",
       "        \n",
       "  <svg xmlns=\"http://www.w3.org/2000/svg\" height=\"24px\"viewBox=\"0 0 24 24\"\n",
       "       width=\"24px\">\n",
       "    <path d=\"M0 0h24v24H0V0z\" fill=\"none\"/>\n",
       "    <path d=\"M18.56 5.44l.94 2.06.94-2.06 2.06-.94-2.06-.94-.94-2.06-.94 2.06-2.06.94zm-11 1L8.5 8.5l.94-2.06 2.06-.94-2.06-.94L8.5 2.5l-.94 2.06-2.06.94zm10 10l.94 2.06.94-2.06 2.06-.94-2.06-.94-.94-2.06-.94 2.06-2.06.94z\"/><path d=\"M17.41 7.96l-1.37-1.37c-.4-.4-.92-.59-1.43-.59-.52 0-1.04.2-1.43.59L10.3 9.45l-7.72 7.72c-.78.78-.78 2.05 0 2.83L4 21.41c.39.39.9.59 1.41.59.51 0 1.02-.2 1.41-.59l7.78-7.78 2.81-2.81c.8-.78.8-2.07 0-2.86zM5.41 20L4 18.59l7.72-7.72 1.47 1.35L5.41 20z\"/>\n",
       "  </svg>\n",
       "      </button>\n",
       "      \n",
       "  <style>\n",
       "    .colab-df-container {\n",
       "      display:flex;\n",
       "      flex-wrap:wrap;\n",
       "      gap: 12px;\n",
       "    }\n",
       "\n",
       "    .colab-df-convert {\n",
       "      background-color: #E8F0FE;\n",
       "      border: none;\n",
       "      border-radius: 50%;\n",
       "      cursor: pointer;\n",
       "      display: none;\n",
       "      fill: #1967D2;\n",
       "      height: 32px;\n",
       "      padding: 0 0 0 0;\n",
       "      width: 32px;\n",
       "    }\n",
       "\n",
       "    .colab-df-convert:hover {\n",
       "      background-color: #E2EBFA;\n",
       "      box-shadow: 0px 1px 2px rgba(60, 64, 67, 0.3), 0px 1px 3px 1px rgba(60, 64, 67, 0.15);\n",
       "      fill: #174EA6;\n",
       "    }\n",
       "\n",
       "    [theme=dark] .colab-df-convert {\n",
       "      background-color: #3B4455;\n",
       "      fill: #D2E3FC;\n",
       "    }\n",
       "\n",
       "    [theme=dark] .colab-df-convert:hover {\n",
       "      background-color: #434B5C;\n",
       "      box-shadow: 0px 1px 3px 1px rgba(0, 0, 0, 0.15);\n",
       "      filter: drop-shadow(0px 1px 2px rgba(0, 0, 0, 0.3));\n",
       "      fill: #FFFFFF;\n",
       "    }\n",
       "  </style>\n",
       "\n",
       "      <script>\n",
       "        const buttonEl =\n",
       "          document.querySelector('#df-597bb4cc-044c-487f-a94e-cacfbcacfc5d button.colab-df-convert');\n",
       "        buttonEl.style.display =\n",
       "          google.colab.kernel.accessAllowed ? 'block' : 'none';\n",
       "\n",
       "        async function convertToInteractive(key) {\n",
       "          const element = document.querySelector('#df-597bb4cc-044c-487f-a94e-cacfbcacfc5d');\n",
       "          const dataTable =\n",
       "            await google.colab.kernel.invokeFunction('convertToInteractive',\n",
       "                                                     [key], {});\n",
       "          if (!dataTable) return;\n",
       "\n",
       "          const docLinkHtml = 'Like what you see? Visit the ' +\n",
       "            '<a target=\"_blank\" href=https://colab.research.google.com/notebooks/data_table.ipynb>data table notebook</a>'\n",
       "            + ' to learn more about interactive tables.';\n",
       "          element.innerHTML = '';\n",
       "          dataTable['output_type'] = 'display_data';\n",
       "          await google.colab.output.renderOutput(dataTable, element);\n",
       "          const docLink = document.createElement('div');\n",
       "          docLink.innerHTML = docLinkHtml;\n",
       "          element.appendChild(docLink);\n",
       "        }\n",
       "      </script>\n",
       "    </div>\n",
       "  </div>\n",
       "  "
      ],
      "text/plain": [
       "                              Accuracy  F1 Score    Recall  Precision  \\\n",
       "Multinomial Naive Bayes       0.750000  0.471263  0.818505   0.330888   \n",
       "Random Forest                 0.914891  0.693849  0.708541   0.679754   \n",
       "Support Vector Machine        0.894691  0.630774  0.660854   0.603314   \n",
       "AdaBoost Classifier           0.884325  0.619624  0.692171   0.560842   \n",
       "Gradient Boosting Classifier  0.906849  0.646962  0.627046   0.668184   \n",
       "\n",
       "                               ROC-AUC    PR-AUC  \n",
       "Multinomial Naive Bayes       0.869232  0.593425  \n",
       "Random Forest                 0.906924  0.726640  \n",
       "Support Vector Machine        0.882511  0.656044  \n",
       "AdaBoost Classifier           0.877634  0.625118  \n",
       "Gradient Boosting Classifier  0.863726  0.627523  "
      ]
     },
     "execution_count": 46,
     "metadata": {},
     "output_type": "execute_result"
    }
   ],
   "source": [
    "output.to_csv(\"OutputWith12to50perAUGBERTnew.csv\")\n",
    "output"
   ]
  },
  {
   "cell_type": "code",
   "execution_count": null,
   "metadata": {
    "colab": {
     "base_uri": "https://localhost:8080/",
     "height": 534
    },
    "id": "uiIY01N-RvHZ",
    "outputId": "d32db9b0-876d-4af9-f9ec-9222f82fea5c"
   },
   "outputs": [
    {
     "data": {
      "text/plain": [
       "<matplotlib.axes._subplots.AxesSubplot at 0x7f8c4e363990>"
      ]
     },
     "execution_count": 58,
     "metadata": {},
     "output_type": "execute_result"
    },
    {
     "data": {
      "image/png": "[encoded data removed]",
      "text/plain": [
       "<Figure size 842.4x595.44 with 1 Axes>"
      ]
     },
     "metadata": {},
     "output_type": "display_data"
    }
   ],
   "source": [
    "sns.set(rc={'figure.figsize':(11.7,8.27)})\n",
    "plt.title(\"Classification Metric of 12% to 50% NEW Hate Data using BERT Contexual Embedding\")\n",
    "sns.lineplot(data=output)"
   ]
  },
  {
   "cell_type": "code",
   "execution_count": null,
   "metadata": {
    "id": "_cFnP6npSOl8"
   },
   "outputs": [],
   "source": []
  }
 ],
 "metadata": {
  "accelerator": "GPU",
  "colab": {
   "collapsed_sections": [],
   "name": "LDA HS.ipynb",
   "provenance": []
  },
  "kernelspec": {
   "display_name": "Python 3 (ipykernel)",
   "language": "python",
   "name": "python3"
  },
  "language_info": {
   "codemirror_mode": {
    "name": "ipython",
    "version": 3
   },
   "file_extension": ".py",
   "mimetype": "text/x-python",
   "name": "python",
   "nbconvert_exporter": "python",
   "pygments_lexer": "ipython3",
   "version": "3.8.13"
  }
 },
 "nbformat": 4,
 "nbformat_minor": 1
}
