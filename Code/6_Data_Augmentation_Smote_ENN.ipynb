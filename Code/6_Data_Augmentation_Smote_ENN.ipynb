{
  "nbformat": 4,
  "nbformat_minor": 0,
  "metadata": {
    "colab": {
      "name": "Smote_ENN.ipynb",
      "provenance": [],
      "collapsed_sections": []
    },
    "kernelspec": {
      "name": "python3",
      "display_name": "Python 3"
    },
    "language_info": {
      "name": "python"
    },
    "accelerator": "GPU"
  },
  "cells": [
    {
      "cell_type": "markdown",
      "source": [
        "## Importing Libraries"
      ],
      "metadata": {
        "id": "-B4QsLLJzNUF"
      }
    },
    {
      "cell_type": "code",
      "source": [
        "import pandas as pd\n",
        "from sklearn import linear_model\n",
        "from sklearn.linear_model import LogisticRegression\n",
        "from sklearn.naive_bayes import MultinomialNB\n",
        "from sklearn.ensemble import RandomForestClassifier\n",
        "from sklearn.model_selection import train_test_split\n",
        "from sklearn.metrics import accuracy_score, confusion_matrix, precision_score, recall_score, f1_score, roc_auc_score, classification_report,balanced_accuracy_score, precision_recall_curve, plot_precision_recall_curve\n",
        "from sklearn.feature_extraction.text import TfidfVectorizer\n",
        "import matplotlib.pyplot as plt\n",
        "\n",
        "\n",
        "from collections import Counter\n",
        "import nltk\n",
        "from nltk.corpus import stopwords\n",
        "import string\n",
        "\n",
        "%reload_ext autoreload\n",
        "%autoreload 2\n",
        "import sys\n",
        "sys.path.append(\"../py\")\n",
        "#from utils import *\n",
        "\n",
        "from sklearn import linear_model, utils, svm\n",
        "from sklearn.utils import resample\n",
        "from imblearn.under_sampling import ClusterCentroids, EditedNearestNeighbours, RandomUnderSampler, TomekLinks, CondensedNearestNeighbour\n",
        "from imblearn.combine import SMOTETomek, SMOTEENN\n",
        "from sklearn.ensemble import GradientBoostingClassifier\n",
        "from sklearn.naive_bayes import MultinomialNB\n",
        "from sklearn.ensemble import RandomForestClassifier, AdaBoostClassifier\n",
        "from sklearn.tree import DecisionTreeClassifier"
      ],
      "metadata": {
        "id": "SSjCKE4FSFds"
      },
      "execution_count": null,
      "outputs": []
    },
    {
      "cell_type": "code",
      "source": [
        "from google.colab import drive\n",
        "drive.mount('/content/drive')"
      ],
      "metadata": {
        "colab": {
          "base_uri": "https://localhost:8080/"
        },
        "id": "prlsATsclaJU",
        "outputId": "381cac39-fee0-4b2e-e92d-539cc3633a0e"
      },
      "execution_count": null,
      "outputs": [
        {
          "output_type": "stream",
          "name": "stdout",
          "text": [
            "Mounted at /content/drive\n"
          ]
        }
      ]
    },
    {
      "cell_type": "code",
      "source": [
        "!cp /content/drive/MyDrive/TextExtractionCleanUP.py /content"
      ],
      "metadata": {
        "id": "-vzsDhgxloFl"
      },
      "execution_count": null,
      "outputs": []
    },
    {
      "cell_type": "code",
      "source": [
        "pip install autocorrect"
      ],
      "metadata": {
        "colab": {
          "base_uri": "https://localhost:8080/"
        },
        "id": "5nELD5lhltrr",
        "outputId": "37d9e557-ce9d-479d-86e6-4abce5773108"
      },
      "execution_count": null,
      "outputs": [
        {
          "output_type": "stream",
          "name": "stdout",
          "text": [
            "Looking in indexes: https://pypi.org/simple, https://us-python.pkg.dev/colab-wheels/public/simple/\n",
            "Collecting autocorrect\n",
            "  Downloading autocorrect-2.6.1.tar.gz (622 kB)\n",
            "\u001b[K     |████████████████████████████████| 622 kB 36.4 MB/s \n",
            "\u001b[?25hBuilding wheels for collected packages: autocorrect\n",
            "  Building wheel for autocorrect (setup.py) ... \u001b[?25l\u001b[?25hdone\n",
            "  Created wheel for autocorrect: filename=autocorrect-2.6.1-py3-none-any.whl size=622382 sha256=aa1caf5e3a111894739584e615acc8f42373b40763fe0e2d3a9d6ef0b81625d2\n",
            "  Stored in directory: /root/.cache/pip/wheels/54/d4/37/8244101ad50b0f7d9bffd93ce58ed7991ee1753b290923934b\n",
            "Successfully built autocorrect\n",
            "Installing collected packages: autocorrect\n",
            "Successfully installed autocorrect-2.6.1\n"
          ]
        }
      ]
    },
    {
      "cell_type": "code",
      "source": [
        "import TextExtractionCleanUP"
      ],
      "metadata": {
        "colab": {
          "base_uri": "https://localhost:8080/"
        },
        "id": "jkys2gP2lwq7",
        "outputId": "c007a36c-3314-4035-d91f-0ddac942a11e"
      },
      "execution_count": null,
      "outputs": [
        {
          "output_type": "stream",
          "name": "stderr",
          "text": [
            "[nltk_data] Downloading package stopwords to /root/nltk_data...\n",
            "[nltk_data]   Unzipping corpora/stopwords.zip.\n",
            "[nltk_data] Downloading package punkt to /root/nltk_data...\n",
            "[nltk_data]   Unzipping tokenizers/punkt.zip.\n",
            "[nltk_data] Downloading package wordnet to /root/nltk_data...\n"
          ]
        }
      ]
    },
    {
      "cell_type": "code",
      "source": [
        "df = pd.read_csv(\"/content/Final_hate.csv\")\n",
        "df"
      ],
      "metadata": {
        "colab": {
          "base_uri": "https://localhost:8080/",
          "height": 423
        },
        "id": "FvuUAiaXJnSW",
        "outputId": "e7907691-e071-4be7-aaaa-5a4ca03734bb"
      },
      "execution_count": null,
      "outputs": [
        {
          "output_type": "execute_result",
          "data": {
            "text/plain": [
              "        Unnamed: 0                                               Text  label\n",
              "0                0  RT @MailOnline: The Nazi death gas so horrific...      0\n",
              "1                1  Carlos Correa had gyalchester as his walkup mu...      0\n",
              "2                2  \"THE FORCE AWAKENS: A Bad Lip Reading\" (Featur...      0\n",
              "3                3  RT @HeeeyMonica: Papaya has to be the worst fr...      0\n",
              "4                4  @Pineaqples @DenialEsports btw I watched where...      0\n",
              "...            ...                                                ...    ...\n",
              "103216      103216  you's a muthaf***in lie &#8220;@LifeAsKing: @2...      0\n",
              "103217      103217  you've gone and broke the wrong heart baby, an...      0\n",
              "103218      103218  young buck wanna eat!!.. dat nigguh like I ain...      0\n",
              "103219      103219              youu got wild bitches tellin you lies      0\n",
              "103220      103220  ~~Ruffled | Ntac Eileen Dahlia - Beautiful col...      0\n",
              "\n",
              "[103221 rows x 3 columns]"
            ],
            "text/html": [
              "\n",
              "  <div id=\"df-f9acb2d2-af76-4147-8baa-9b85de8d9cbf\">\n",
              "    <div class=\"colab-df-container\">\n",
              "      <div>\n",
              "<style scoped>\n",
              "    .dataframe tbody tr th:only-of-type {\n",
              "        vertical-align: middle;\n",
              "    }\n",
              "\n",
              "    .dataframe tbody tr th {\n",
              "        vertical-align: top;\n",
              "    }\n",
              "\n",
              "    .dataframe thead th {\n",
              "        text-align: right;\n",
              "    }\n",
              "</style>\n",
              "<table border=\"1\" class=\"dataframe\">\n",
              "  <thead>\n",
              "    <tr style=\"text-align: right;\">\n",
              "      <th></th>\n",
              "      <th>Unnamed: 0</th>\n",
              "      <th>Text</th>\n",
              "      <th>label</th>\n",
              "    </tr>\n",
              "  </thead>\n",
              "  <tbody>\n",
              "    <tr>\n",
              "      <th>0</th>\n",
              "      <td>0</td>\n",
              "      <td>RT @MailOnline: The Nazi death gas so horrific...</td>\n",
              "      <td>0</td>\n",
              "    </tr>\n",
              "    <tr>\n",
              "      <th>1</th>\n",
              "      <td>1</td>\n",
              "      <td>Carlos Correa had gyalchester as his walkup mu...</td>\n",
              "      <td>0</td>\n",
              "    </tr>\n",
              "    <tr>\n",
              "      <th>2</th>\n",
              "      <td>2</td>\n",
              "      <td>\"THE FORCE AWAKENS: A Bad Lip Reading\" (Featur...</td>\n",
              "      <td>0</td>\n",
              "    </tr>\n",
              "    <tr>\n",
              "      <th>3</th>\n",
              "      <td>3</td>\n",
              "      <td>RT @HeeeyMonica: Papaya has to be the worst fr...</td>\n",
              "      <td>0</td>\n",
              "    </tr>\n",
              "    <tr>\n",
              "      <th>4</th>\n",
              "      <td>4</td>\n",
              "      <td>@Pineaqples @DenialEsports btw I watched where...</td>\n",
              "      <td>0</td>\n",
              "    </tr>\n",
              "    <tr>\n",
              "      <th>...</th>\n",
              "      <td>...</td>\n",
              "      <td>...</td>\n",
              "      <td>...</td>\n",
              "    </tr>\n",
              "    <tr>\n",
              "      <th>103216</th>\n",
              "      <td>103216</td>\n",
              "      <td>you's a muthaf***in lie &amp;#8220;@LifeAsKing: @2...</td>\n",
              "      <td>0</td>\n",
              "    </tr>\n",
              "    <tr>\n",
              "      <th>103217</th>\n",
              "      <td>103217</td>\n",
              "      <td>you've gone and broke the wrong heart baby, an...</td>\n",
              "      <td>0</td>\n",
              "    </tr>\n",
              "    <tr>\n",
              "      <th>103218</th>\n",
              "      <td>103218</td>\n",
              "      <td>young buck wanna eat!!.. dat nigguh like I ain...</td>\n",
              "      <td>0</td>\n",
              "    </tr>\n",
              "    <tr>\n",
              "      <th>103219</th>\n",
              "      <td>103219</td>\n",
              "      <td>youu got wild bitches tellin you lies</td>\n",
              "      <td>0</td>\n",
              "    </tr>\n",
              "    <tr>\n",
              "      <th>103220</th>\n",
              "      <td>103220</td>\n",
              "      <td>~~Ruffled | Ntac Eileen Dahlia - Beautiful col...</td>\n",
              "      <td>0</td>\n",
              "    </tr>\n",
              "  </tbody>\n",
              "</table>\n",
              "<p>103221 rows × 3 columns</p>\n",
              "</div>\n",
              "      <button class=\"colab-df-convert\" onclick=\"convertToInteractive('df-f9acb2d2-af76-4147-8baa-9b85de8d9cbf')\"\n",
              "              title=\"Convert this dataframe to an interactive table.\"\n",
              "              style=\"display:none;\">\n",
              "        \n",
              "  <svg xmlns=\"http://www.w3.org/2000/svg\" height=\"24px\"viewBox=\"0 0 24 24\"\n",
              "       width=\"24px\">\n",
              "    <path d=\"M0 0h24v24H0V0z\" fill=\"none\"/>\n",
              "    <path d=\"M18.56 5.44l.94 2.06.94-2.06 2.06-.94-2.06-.94-.94-2.06-.94 2.06-2.06.94zm-11 1L8.5 8.5l.94-2.06 2.06-.94-2.06-.94L8.5 2.5l-.94 2.06-2.06.94zm10 10l.94 2.06.94-2.06 2.06-.94-2.06-.94-.94-2.06-.94 2.06-2.06.94z\"/><path d=\"M17.41 7.96l-1.37-1.37c-.4-.4-.92-.59-1.43-.59-.52 0-1.04.2-1.43.59L10.3 9.45l-7.72 7.72c-.78.78-.78 2.05 0 2.83L4 21.41c.39.39.9.59 1.41.59.51 0 1.02-.2 1.41-.59l7.78-7.78 2.81-2.81c.8-.78.8-2.07 0-2.86zM5.41 20L4 18.59l7.72-7.72 1.47 1.35L5.41 20z\"/>\n",
              "  </svg>\n",
              "      </button>\n",
              "      \n",
              "  <style>\n",
              "    .colab-df-container {\n",
              "      display:flex;\n",
              "      flex-wrap:wrap;\n",
              "      gap: 12px;\n",
              "    }\n",
              "\n",
              "    .colab-df-convert {\n",
              "      background-color: #E8F0FE;\n",
              "      border: none;\n",
              "      border-radius: 50%;\n",
              "      cursor: pointer;\n",
              "      display: none;\n",
              "      fill: #1967D2;\n",
              "      height: 32px;\n",
              "      padding: 0 0 0 0;\n",
              "      width: 32px;\n",
              "    }\n",
              "\n",
              "    .colab-df-convert:hover {\n",
              "      background-color: #E2EBFA;\n",
              "      box-shadow: 0px 1px 2px rgba(60, 64, 67, 0.3), 0px 1px 3px 1px rgba(60, 64, 67, 0.15);\n",
              "      fill: #174EA6;\n",
              "    }\n",
              "\n",
              "    [theme=dark] .colab-df-convert {\n",
              "      background-color: #3B4455;\n",
              "      fill: #D2E3FC;\n",
              "    }\n",
              "\n",
              "    [theme=dark] .colab-df-convert:hover {\n",
              "      background-color: #434B5C;\n",
              "      box-shadow: 0px 1px 3px 1px rgba(0, 0, 0, 0.15);\n",
              "      filter: drop-shadow(0px 1px 2px rgba(0, 0, 0, 0.3));\n",
              "      fill: #FFFFFF;\n",
              "    }\n",
              "  </style>\n",
              "\n",
              "      <script>\n",
              "        const buttonEl =\n",
              "          document.querySelector('#df-f9acb2d2-af76-4147-8baa-9b85de8d9cbf button.colab-df-convert');\n",
              "        buttonEl.style.display =\n",
              "          google.colab.kernel.accessAllowed ? 'block' : 'none';\n",
              "\n",
              "        async function convertToInteractive(key) {\n",
              "          const element = document.querySelector('#df-f9acb2d2-af76-4147-8baa-9b85de8d9cbf');\n",
              "          const dataTable =\n",
              "            await google.colab.kernel.invokeFunction('convertToInteractive',\n",
              "                                                     [key], {});\n",
              "          if (!dataTable) return;\n",
              "\n",
              "          const docLinkHtml = 'Like what you see? Visit the ' +\n",
              "            '<a target=\"_blank\" href=https://colab.research.google.com/notebooks/data_table.ipynb>data table notebook</a>'\n",
              "            + ' to learn more about interactive tables.';\n",
              "          element.innerHTML = '';\n",
              "          dataTable['output_type'] = 'display_data';\n",
              "          await google.colab.output.renderOutput(dataTable, element);\n",
              "          const docLink = document.createElement('div');\n",
              "          docLink.innerHTML = docLinkHtml;\n",
              "          element.appendChild(docLink);\n",
              "        }\n",
              "      </script>\n",
              "    </div>\n",
              "  </div>\n",
              "  "
            ]
          },
          "metadata": {},
          "execution_count": 6
        }
      ]
    },
    {
      "cell_type": "markdown",
      "source": [
        "## Pre-Processing"
      ],
      "metadata": {
        "id": "H4uz5me9zTPO"
      }
    },
    {
      "cell_type": "code",
      "source": [
        "# Expansion of short form words\n",
        "df['Text'] = df['Text'].apply(lambda x: TextExtractionCleanUP.preprocess_english(x))\n",
        "TextExtractionCleanUP.preprocessing_method(df,'Text')\n",
        "# SpellCheck\n",
        "TextExtractionCleanUP.spellCheck(df,'Text')"
      ],
      "metadata": {
        "id": "1OV9mx6SmK_w"
      },
      "execution_count": null,
      "outputs": []
    },
    {
      "cell_type": "code",
      "source": [
        "df"
      ],
      "metadata": {
        "id": "v94nXDwbmPu4",
        "colab": {
          "base_uri": "https://localhost:8080/",
          "height": 423
        },
        "outputId": "cc5ac05a-5b57-4062-8f67-8c9923d0a32d"
      },
      "execution_count": null,
      "outputs": [
        {
          "output_type": "execute_result",
          "data": {
            "text/plain": [
              "        Unnamed: 0                                               Text  label\n",
              "0                0   nazi death gas horrific even hitler feared using      0\n",
              "1                1  carlos cornea gyalchester walkup music bad ass...      0\n",
              "2                2  force awakens bad lip reading featuring mark h...      0\n",
              "3                3                            papaya worst fruit ever      0\n",
              "4                4  btw watched watched pov stream boil feel retarded      0\n",
              "...            ...                                                ...    ...\n",
              "103216      103216  muthafin lie right tl trash mine bible scriptu...      0\n",
              "103217      103217    gone broke wrong heart baby drove redneck crazy      0\n",
              "103218      103218  young buck wanna eat dat nigguh like aint fuck...      0\n",
              "103219      103219                  you got wild pitches telling lies      0\n",
              "103220      103220  ruffled nta eileen dahlia beautiful color comb...      0\n",
              "\n",
              "[103221 rows x 3 columns]"
            ],
            "text/html": [
              "\n",
              "  <div id=\"df-261e7084-d2ff-4e49-9cd2-60d00b548849\">\n",
              "    <div class=\"colab-df-container\">\n",
              "      <div>\n",
              "<style scoped>\n",
              "    .dataframe tbody tr th:only-of-type {\n",
              "        vertical-align: middle;\n",
              "    }\n",
              "\n",
              "    .dataframe tbody tr th {\n",
              "        vertical-align: top;\n",
              "    }\n",
              "\n",
              "    .dataframe thead th {\n",
              "        text-align: right;\n",
              "    }\n",
              "</style>\n",
              "<table border=\"1\" class=\"dataframe\">\n",
              "  <thead>\n",
              "    <tr style=\"text-align: right;\">\n",
              "      <th></th>\n",
              "      <th>Unnamed: 0</th>\n",
              "      <th>Text</th>\n",
              "      <th>label</th>\n",
              "    </tr>\n",
              "  </thead>\n",
              "  <tbody>\n",
              "    <tr>\n",
              "      <th>0</th>\n",
              "      <td>0</td>\n",
              "      <td>nazi death gas horrific even hitler feared using</td>\n",
              "      <td>0</td>\n",
              "    </tr>\n",
              "    <tr>\n",
              "      <th>1</th>\n",
              "      <td>1</td>\n",
              "      <td>carlos cornea gyalchester walkup music bad ass...</td>\n",
              "      <td>0</td>\n",
              "    </tr>\n",
              "    <tr>\n",
              "      <th>2</th>\n",
              "      <td>2</td>\n",
              "      <td>force awakens bad lip reading featuring mark h...</td>\n",
              "      <td>0</td>\n",
              "    </tr>\n",
              "    <tr>\n",
              "      <th>3</th>\n",
              "      <td>3</td>\n",
              "      <td>papaya worst fruit ever</td>\n",
              "      <td>0</td>\n",
              "    </tr>\n",
              "    <tr>\n",
              "      <th>4</th>\n",
              "      <td>4</td>\n",
              "      <td>btw watched watched pov stream boil feel retarded</td>\n",
              "      <td>0</td>\n",
              "    </tr>\n",
              "    <tr>\n",
              "      <th>...</th>\n",
              "      <td>...</td>\n",
              "      <td>...</td>\n",
              "      <td>...</td>\n",
              "    </tr>\n",
              "    <tr>\n",
              "      <th>103216</th>\n",
              "      <td>103216</td>\n",
              "      <td>muthafin lie right tl trash mine bible scriptu...</td>\n",
              "      <td>0</td>\n",
              "    </tr>\n",
              "    <tr>\n",
              "      <th>103217</th>\n",
              "      <td>103217</td>\n",
              "      <td>gone broke wrong heart baby drove redneck crazy</td>\n",
              "      <td>0</td>\n",
              "    </tr>\n",
              "    <tr>\n",
              "      <th>103218</th>\n",
              "      <td>103218</td>\n",
              "      <td>young buck wanna eat dat nigguh like aint fuck...</td>\n",
              "      <td>0</td>\n",
              "    </tr>\n",
              "    <tr>\n",
              "      <th>103219</th>\n",
              "      <td>103219</td>\n",
              "      <td>you got wild pitches telling lies</td>\n",
              "      <td>0</td>\n",
              "    </tr>\n",
              "    <tr>\n",
              "      <th>103220</th>\n",
              "      <td>103220</td>\n",
              "      <td>ruffled nta eileen dahlia beautiful color comb...</td>\n",
              "      <td>0</td>\n",
              "    </tr>\n",
              "  </tbody>\n",
              "</table>\n",
              "<p>103221 rows × 3 columns</p>\n",
              "</div>\n",
              "      <button class=\"colab-df-convert\" onclick=\"convertToInteractive('df-261e7084-d2ff-4e49-9cd2-60d00b548849')\"\n",
              "              title=\"Convert this dataframe to an interactive table.\"\n",
              "              style=\"display:none;\">\n",
              "        \n",
              "  <svg xmlns=\"http://www.w3.org/2000/svg\" height=\"24px\"viewBox=\"0 0 24 24\"\n",
              "       width=\"24px\">\n",
              "    <path d=\"M0 0h24v24H0V0z\" fill=\"none\"/>\n",
              "    <path d=\"M18.56 5.44l.94 2.06.94-2.06 2.06-.94-2.06-.94-.94-2.06-.94 2.06-2.06.94zm-11 1L8.5 8.5l.94-2.06 2.06-.94-2.06-.94L8.5 2.5l-.94 2.06-2.06.94zm10 10l.94 2.06.94-2.06 2.06-.94-2.06-.94-.94-2.06-.94 2.06-2.06.94z\"/><path d=\"M17.41 7.96l-1.37-1.37c-.4-.4-.92-.59-1.43-.59-.52 0-1.04.2-1.43.59L10.3 9.45l-7.72 7.72c-.78.78-.78 2.05 0 2.83L4 21.41c.39.39.9.59 1.41.59.51 0 1.02-.2 1.41-.59l7.78-7.78 2.81-2.81c.8-.78.8-2.07 0-2.86zM5.41 20L4 18.59l7.72-7.72 1.47 1.35L5.41 20z\"/>\n",
              "  </svg>\n",
              "      </button>\n",
              "      \n",
              "  <style>\n",
              "    .colab-df-container {\n",
              "      display:flex;\n",
              "      flex-wrap:wrap;\n",
              "      gap: 12px;\n",
              "    }\n",
              "\n",
              "    .colab-df-convert {\n",
              "      background-color: #E8F0FE;\n",
              "      border: none;\n",
              "      border-radius: 50%;\n",
              "      cursor: pointer;\n",
              "      display: none;\n",
              "      fill: #1967D2;\n",
              "      height: 32px;\n",
              "      padding: 0 0 0 0;\n",
              "      width: 32px;\n",
              "    }\n",
              "\n",
              "    .colab-df-convert:hover {\n",
              "      background-color: #E2EBFA;\n",
              "      box-shadow: 0px 1px 2px rgba(60, 64, 67, 0.3), 0px 1px 3px 1px rgba(60, 64, 67, 0.15);\n",
              "      fill: #174EA6;\n",
              "    }\n",
              "\n",
              "    [theme=dark] .colab-df-convert {\n",
              "      background-color: #3B4455;\n",
              "      fill: #D2E3FC;\n",
              "    }\n",
              "\n",
              "    [theme=dark] .colab-df-convert:hover {\n",
              "      background-color: #434B5C;\n",
              "      box-shadow: 0px 1px 3px 1px rgba(0, 0, 0, 0.15);\n",
              "      filter: drop-shadow(0px 1px 2px rgba(0, 0, 0, 0.3));\n",
              "      fill: #FFFFFF;\n",
              "    }\n",
              "  </style>\n",
              "\n",
              "      <script>\n",
              "        const buttonEl =\n",
              "          document.querySelector('#df-261e7084-d2ff-4e49-9cd2-60d00b548849 button.colab-df-convert');\n",
              "        buttonEl.style.display =\n",
              "          google.colab.kernel.accessAllowed ? 'block' : 'none';\n",
              "\n",
              "        async function convertToInteractive(key) {\n",
              "          const element = document.querySelector('#df-261e7084-d2ff-4e49-9cd2-60d00b548849');\n",
              "          const dataTable =\n",
              "            await google.colab.kernel.invokeFunction('convertToInteractive',\n",
              "                                                     [key], {});\n",
              "          if (!dataTable) return;\n",
              "\n",
              "          const docLinkHtml = 'Like what you see? Visit the ' +\n",
              "            '<a target=\"_blank\" href=https://colab.research.google.com/notebooks/data_table.ipynb>data table notebook</a>'\n",
              "            + ' to learn more about interactive tables.';\n",
              "          element.innerHTML = '';\n",
              "          dataTable['output_type'] = 'display_data';\n",
              "          await google.colab.output.renderOutput(dataTable, element);\n",
              "          const docLink = document.createElement('div');\n",
              "          docLink.innerHTML = docLinkHtml;\n",
              "          element.appendChild(docLink);\n",
              "        }\n",
              "      </script>\n",
              "    </div>\n",
              "  </div>\n",
              "  "
            ]
          },
          "metadata": {},
          "execution_count": 8
        }
      ]
    },
    {
      "cell_type": "code",
      "source": [
        "df = df.fillna('')"
      ],
      "metadata": {
        "id": "GVcpvXScmTN0"
      },
      "execution_count": null,
      "outputs": []
    },
    {
      "cell_type": "code",
      "source": [
        "c = df.columns\n",
        "c"
      ],
      "metadata": {
        "colab": {
          "base_uri": "https://localhost:8080/"
        },
        "id": "4knT59qyQBM1",
        "outputId": "84bdafb8-4aa4-4a5e-c2e3-e1f688a0d5de"
      },
      "execution_count": null,
      "outputs": [
        {
          "output_type": "execute_result",
          "data": {
            "text/plain": [
              "Index(['Unnamed: 0', 'Text', 'label'], dtype='object')"
            ]
          },
          "metadata": {},
          "execution_count": 10
        }
      ]
    },
    {
      "cell_type": "code",
      "source": [
        "train = df['Text']\n",
        "test = df['label']"
      ],
      "metadata": {
        "id": "U9ErtdOrip6n"
      },
      "execution_count": null,
      "outputs": []
    },
    {
      "cell_type": "code",
      "source": [
        "nltk.download('punkt')"
      ],
      "metadata": {
        "colab": {
          "base_uri": "https://localhost:8080/"
        },
        "id": "0yxSwfgniywL",
        "outputId": "582f9188-1d54-44e1-d2c4-d0fb5a6b8e04"
      },
      "execution_count": null,
      "outputs": [
        {
          "output_type": "stream",
          "name": "stderr",
          "text": [
            "[nltk_data] Downloading package punkt to /root/nltk_data...\n",
            "[nltk_data]   Package punkt is already up-to-date!\n"
          ]
        },
        {
          "output_type": "execute_result",
          "data": {
            "text/plain": [
              "True"
            ]
          },
          "metadata": {},
          "execution_count": 12
        }
      ]
    },
    {
      "cell_type": "markdown",
      "source": [
        "## Train Test Split"
      ],
      "metadata": {
        "id": "k0mQ683nzWcc"
      }
    },
    {
      "cell_type": "code",
      "source": [
        "X_train, X_val, y_train, y_val = train_test_split(train, test, test_size=0.2, shuffle = True, random_state = 8)\n",
        "\n",
        "\n",
        "print(\"X_train shape: {}\".format(X_train.shape))\n",
        "print(\"X_val shape: {}\".format(X_val.shape))\n",
        "print(\"y_train shape: {}\".format(y_train.shape))\n",
        "print(\"y_val shape: {}\".format(y_val.shape))\n",
        "\n",
        "\n",
        "print(\"========================\")\n",
        "\n",
        "# Use the same function above for the validation set\n",
        "X_train, X_test, y_train, y_test = train_test_split(X_train, y_train, test_size=0.25, random_state= 8) # 0.25 x 0.8 = 0.2\n",
        "\n",
        "\n",
        "print(\"X_train shape: {}\".format(X_train.shape))\n",
        "print(\"y_train shape: {}\".format(y_train.shape))\n",
        "print(\"X_test shape: {}\".format(X_test.shape))\n",
        "print(\"y_test shape: {}\".format(y_test.shape))"
      ],
      "metadata": {
        "id": "zJTLILAljGD-",
        "colab": {
          "base_uri": "https://localhost:8080/"
        },
        "outputId": "01411d69-4c5f-46c7-c2c0-48c638c0a67e"
      },
      "execution_count": null,
      "outputs": [
        {
          "output_type": "stream",
          "name": "stdout",
          "text": [
            "X_train shape: (82576,)\n",
            "X_val shape: (20645,)\n",
            "y_train shape: (82576,)\n",
            "y_val shape: (20645,)\n",
            "========================\n",
            "X_train shape: (61932,)\n",
            "y_train shape: (61932,)\n",
            "X_test shape: (20644,)\n",
            "y_test shape: (20644,)\n"
          ]
        }
      ]
    },
    {
      "cell_type": "code",
      "source": [
        "X_train.to_frame()\n",
        "y_train.to_frame()\n",
        "# Making Training Data \n",
        "trainingData = pd.concat([X_train, y_train], axis=1, join='inner')\n",
        "trainingData"
      ],
      "metadata": {
        "colab": {
          "base_uri": "https://localhost:8080/",
          "height": 423
        },
        "id": "LT_94HngIchZ",
        "outputId": "c489167f-8817-402c-f0ec-b3a70973aafb"
      },
      "execution_count": null,
      "outputs": [
        {
          "output_type": "execute_result",
          "data": {
            "text/plain": [
              "                                                    Text  label\n",
              "10461  friend mine ton ga next speedway cannot seem g...      0\n",
              "23652  rhode island teen wants know year middle east ...      0\n",
              "47078  capped bust half dollar 50c pigs xf45 ef45 rar...      0\n",
              "82652                    bitch please dont get shot doug      0\n",
              "23789  look back americas challenges ahead hopeful fu...      0\n",
              "...                                                  ...    ...\n",
              "85668                      count nobody likes choke shit      0\n",
              "72142                               would link study afm      0\n",
              "4898   congrats well deserved one best 7s players aro...      0\n",
              "87450  everyone says letsmakeitawkward queer justmade...      0\n",
              "41547  showing us middle finger knows talk n actunlik...      0\n",
              "\n",
              "[61932 rows x 2 columns]"
            ],
            "text/html": [
              "\n",
              "  <div id=\"df-46bada4d-d3be-49e0-b50e-1f1bce0ef781\">\n",
              "    <div class=\"colab-df-container\">\n",
              "      <div>\n",
              "<style scoped>\n",
              "    .dataframe tbody tr th:only-of-type {\n",
              "        vertical-align: middle;\n",
              "    }\n",
              "\n",
              "    .dataframe tbody tr th {\n",
              "        vertical-align: top;\n",
              "    }\n",
              "\n",
              "    .dataframe thead th {\n",
              "        text-align: right;\n",
              "    }\n",
              "</style>\n",
              "<table border=\"1\" class=\"dataframe\">\n",
              "  <thead>\n",
              "    <tr style=\"text-align: right;\">\n",
              "      <th></th>\n",
              "      <th>Text</th>\n",
              "      <th>label</th>\n",
              "    </tr>\n",
              "  </thead>\n",
              "  <tbody>\n",
              "    <tr>\n",
              "      <th>10461</th>\n",
              "      <td>friend mine ton ga next speedway cannot seem g...</td>\n",
              "      <td>0</td>\n",
              "    </tr>\n",
              "    <tr>\n",
              "      <th>23652</th>\n",
              "      <td>rhode island teen wants know year middle east ...</td>\n",
              "      <td>0</td>\n",
              "    </tr>\n",
              "    <tr>\n",
              "      <th>47078</th>\n",
              "      <td>capped bust half dollar 50c pigs xf45 ef45 rar...</td>\n",
              "      <td>0</td>\n",
              "    </tr>\n",
              "    <tr>\n",
              "      <th>82652</th>\n",
              "      <td>bitch please dont get shot doug</td>\n",
              "      <td>0</td>\n",
              "    </tr>\n",
              "    <tr>\n",
              "      <th>23789</th>\n",
              "      <td>look back americas challenges ahead hopeful fu...</td>\n",
              "      <td>0</td>\n",
              "    </tr>\n",
              "    <tr>\n",
              "      <th>...</th>\n",
              "      <td>...</td>\n",
              "      <td>...</td>\n",
              "    </tr>\n",
              "    <tr>\n",
              "      <th>85668</th>\n",
              "      <td>count nobody likes choke shit</td>\n",
              "      <td>0</td>\n",
              "    </tr>\n",
              "    <tr>\n",
              "      <th>72142</th>\n",
              "      <td>would link study afm</td>\n",
              "      <td>0</td>\n",
              "    </tr>\n",
              "    <tr>\n",
              "      <th>4898</th>\n",
              "      <td>congrats well deserved one best 7s players aro...</td>\n",
              "      <td>0</td>\n",
              "    </tr>\n",
              "    <tr>\n",
              "      <th>87450</th>\n",
              "      <td>everyone says letsmakeitawkward queer justmade...</td>\n",
              "      <td>0</td>\n",
              "    </tr>\n",
              "    <tr>\n",
              "      <th>41547</th>\n",
              "      <td>showing us middle finger knows talk n actunlik...</td>\n",
              "      <td>0</td>\n",
              "    </tr>\n",
              "  </tbody>\n",
              "</table>\n",
              "<p>61932 rows × 2 columns</p>\n",
              "</div>\n",
              "      <button class=\"colab-df-convert\" onclick=\"convertToInteractive('df-46bada4d-d3be-49e0-b50e-1f1bce0ef781')\"\n",
              "              title=\"Convert this dataframe to an interactive table.\"\n",
              "              style=\"display:none;\">\n",
              "        \n",
              "  <svg xmlns=\"http://www.w3.org/2000/svg\" height=\"24px\"viewBox=\"0 0 24 24\"\n",
              "       width=\"24px\">\n",
              "    <path d=\"M0 0h24v24H0V0z\" fill=\"none\"/>\n",
              "    <path d=\"M18.56 5.44l.94 2.06.94-2.06 2.06-.94-2.06-.94-.94-2.06-.94 2.06-2.06.94zm-11 1L8.5 8.5l.94-2.06 2.06-.94-2.06-.94L8.5 2.5l-.94 2.06-2.06.94zm10 10l.94 2.06.94-2.06 2.06-.94-2.06-.94-.94-2.06-.94 2.06-2.06.94z\"/><path d=\"M17.41 7.96l-1.37-1.37c-.4-.4-.92-.59-1.43-.59-.52 0-1.04.2-1.43.59L10.3 9.45l-7.72 7.72c-.78.78-.78 2.05 0 2.83L4 21.41c.39.39.9.59 1.41.59.51 0 1.02-.2 1.41-.59l7.78-7.78 2.81-2.81c.8-.78.8-2.07 0-2.86zM5.41 20L4 18.59l7.72-7.72 1.47 1.35L5.41 20z\"/>\n",
              "  </svg>\n",
              "      </button>\n",
              "      \n",
              "  <style>\n",
              "    .colab-df-container {\n",
              "      display:flex;\n",
              "      flex-wrap:wrap;\n",
              "      gap: 12px;\n",
              "    }\n",
              "\n",
              "    .colab-df-convert {\n",
              "      background-color: #E8F0FE;\n",
              "      border: none;\n",
              "      border-radius: 50%;\n",
              "      cursor: pointer;\n",
              "      display: none;\n",
              "      fill: #1967D2;\n",
              "      height: 32px;\n",
              "      padding: 0 0 0 0;\n",
              "      width: 32px;\n",
              "    }\n",
              "\n",
              "    .colab-df-convert:hover {\n",
              "      background-color: #E2EBFA;\n",
              "      box-shadow: 0px 1px 2px rgba(60, 64, 67, 0.3), 0px 1px 3px 1px rgba(60, 64, 67, 0.15);\n",
              "      fill: #174EA6;\n",
              "    }\n",
              "\n",
              "    [theme=dark] .colab-df-convert {\n",
              "      background-color: #3B4455;\n",
              "      fill: #D2E3FC;\n",
              "    }\n",
              "\n",
              "    [theme=dark] .colab-df-convert:hover {\n",
              "      background-color: #434B5C;\n",
              "      box-shadow: 0px 1px 3px 1px rgba(0, 0, 0, 0.15);\n",
              "      filter: drop-shadow(0px 1px 2px rgba(0, 0, 0, 0.3));\n",
              "      fill: #FFFFFF;\n",
              "    }\n",
              "  </style>\n",
              "\n",
              "      <script>\n",
              "        const buttonEl =\n",
              "          document.querySelector('#df-46bada4d-d3be-49e0-b50e-1f1bce0ef781 button.colab-df-convert');\n",
              "        buttonEl.style.display =\n",
              "          google.colab.kernel.accessAllowed ? 'block' : 'none';\n",
              "\n",
              "        async function convertToInteractive(key) {\n",
              "          const element = document.querySelector('#df-46bada4d-d3be-49e0-b50e-1f1bce0ef781');\n",
              "          const dataTable =\n",
              "            await google.colab.kernel.invokeFunction('convertToInteractive',\n",
              "                                                     [key], {});\n",
              "          if (!dataTable) return;\n",
              "\n",
              "          const docLinkHtml = 'Like what you see? Visit the ' +\n",
              "            '<a target=\"_blank\" href=https://colab.research.google.com/notebooks/data_table.ipynb>data table notebook</a>'\n",
              "            + ' to learn more about interactive tables.';\n",
              "          element.innerHTML = '';\n",
              "          dataTable['output_type'] = 'display_data';\n",
              "          await google.colab.output.renderOutput(dataTable, element);\n",
              "          const docLink = document.createElement('div');\n",
              "          docLink.innerHTML = docLinkHtml;\n",
              "          element.appendChild(docLink);\n",
              "        }\n",
              "      </script>\n",
              "    </div>\n",
              "  </div>\n",
              "  "
            ]
          },
          "metadata": {},
          "execution_count": 14
        }
      ]
    },
    {
      "cell_type": "code",
      "source": [
        "X_train"
      ],
      "metadata": {
        "colab": {
          "base_uri": "https://localhost:8080/"
        },
        "id": "ulToVwg3IhOT",
        "outputId": "45d0d727-4489-4b0f-9a49-20bb1ca17ab6"
      },
      "execution_count": null,
      "outputs": [
        {
          "output_type": "execute_result",
          "data": {
            "text/plain": [
              "10461    friend mine ton ga next speedway cannot seem g...\n",
              "23652    rhode island teen wants know year middle east ...\n",
              "47078    capped bust half dollar 50c pigs xf45 ef45 rar...\n",
              "82652                      bitch please dont get shot doug\n",
              "23789    look back americas challenges ahead hopeful fu...\n",
              "                               ...                        \n",
              "85668                        count nobody likes choke shit\n",
              "72142                                 would link study afm\n",
              "4898     congrats well deserved one best 7s players aro...\n",
              "87450    everyone says letsmakeitawkward queer justmade...\n",
              "41547    showing us middle finger knows talk n actunlik...\n",
              "Name: Text, Length: 61932, dtype: object"
            ]
          },
          "metadata": {},
          "execution_count": 15
        }
      ]
    },
    {
      "cell_type": "code",
      "source": [
        "x = trainingData.groupby('label').size()\n",
        "x"
      ],
      "metadata": {
        "colab": {
          "base_uri": "https://localhost:8080/"
        },
        "id": "wunZXoNYInTv",
        "outputId": "e5e123d8-61ba-4c16-b18f-06a85d72158a"
      },
      "execution_count": null,
      "outputs": [
        {
          "output_type": "execute_result",
          "data": {
            "text/plain": [
              "label\n",
              "0    54543\n",
              "1     7389\n",
              "dtype: int64"
            ]
          },
          "metadata": {},
          "execution_count": 16
        }
      ]
    },
    {
      "cell_type": "code",
      "source": [
        "import seaborn as sns\n",
        "x = trainingData.label.value_counts()\n",
        "sns.set()\n",
        "explode = (0, 0.2)\n",
        "labels = [r'Not a Hate Speech','Hate Speech']\n",
        "x.plot(kind='pie', title='Data distribution in Training Part', figsize=[8,8],shadow=True, legend=True,\n",
        "       explode = explode,startangle=70,autopct=lambda p: '{:.2f}%\\n({:.0f})'.format(p,(p/100)*x.sum()))\n",
        "plt.legend(labels, loc=\"best\")\n",
        "plt.show()"
      ],
      "metadata": {
        "colab": {
          "base_uri": "https://localhost:8080/",
          "height": 482
        },
        "id": "5v4Baaw5M1Kn",
        "outputId": "a34a15f7-ae38-4741-c5ba-f3f4bfbf88fd"
      },
      "execution_count": null,
      "outputs": [
        {
          "output_type": "display_data",
          "data": {
            "text/plain": [
              "<Figure size 576x576 with 1 Axes>"
            ],
            "image/png": "[encoded data removed]"
          },
          "metadata": {}
        }
      ]
    },
    {
      "cell_type": "code",
      "source": [
        "import nltk\n",
        "nltk.download('omw-1.4')"
      ],
      "metadata": {
        "colab": {
          "base_uri": "https://localhost:8080/"
        },
        "id": "ZqJ6aKMNVXD8",
        "outputId": "eb691eb9-953f-4456-e9e7-894fbdf47543"
      },
      "execution_count": null,
      "outputs": [
        {
          "output_type": "stream",
          "name": "stderr",
          "text": [
            "[nltk_data] Downloading package omw-1.4 to /root/nltk_data...\n"
          ]
        },
        {
          "output_type": "execute_result",
          "data": {
            "text/plain": [
              "True"
            ]
          },
          "metadata": {},
          "execution_count": 18
        }
      ]
    },
    {
      "cell_type": "code",
      "source": [
        "# Expansion of short form words\n",
        "trainingData['Text'] = trainingData['Text'].apply(lambda x: TextExtractionCleanUP.preprocess_english(x))\n",
        "TextExtractionCleanUP.preprocessing_method(trainingData,'Text')\n",
        "# SpellCheck\n",
        "TextExtractionCleanUP.spellCheck(trainingData,'Text')\n",
        "# Lemmetize and tokenize\n",
        "trainingData['Text'] = trainingData['Text'].apply(TextExtractionCleanUP.lemmatize_Tokenize_text)\n",
        "trainingData['Text2'] = trainingData.Text.apply(lambda x: str(x)[1:-1]) \n",
        "trainingData"
      ],
      "metadata": {
        "colab": {
          "base_uri": "https://localhost:8080/",
          "height": 467
        },
        "id": "mwC9NeobQinp",
        "outputId": "9775acc9-dba2-4dda-acb8-f795e70608f0"
      },
      "execution_count": null,
      "outputs": [
        {
          "output_type": "execute_result",
          "data": {
            "text/plain": [
              "                                                    Text  label  \\\n",
              "10461  [friend, mine, ton, ga, next, speedway, cannot...      0   \n",
              "23652  [rhode, island, teen, want, know, year, middle...      0   \n",
              "47078  [capped, bust, half, dollar, 50c, pig, xf45, e...      0   \n",
              "82652             [bitch, please, dont, get, shot, doug]      0   \n",
              "23789  [look, back, america, challenge, ahead, hopefu...      0   \n",
              "...                                                  ...    ...   \n",
              "85668                 [count, nobody, like, choke, shit]      0   \n",
              "72142                          [would, link, study, afm]      0   \n",
              "4898   [congrats, well, deserved, one, best, 7, playe...      0   \n",
              "87450  [everyone, say, letsmakeitawkward, queer, just...      0   \n",
              "41547  [showing, u, middle, finger, know, talk, n, ac...      0   \n",
              "\n",
              "                                                   Text2  \n",
              "10461  'friend', 'mine', 'ton', 'ga', 'next', 'speedw...  \n",
              "23652  'rhode', 'island', 'teen', 'want', 'know', 'ye...  \n",
              "47078  'capped', 'bust', 'half', 'dollar', '50c', 'pi...  \n",
              "82652   'bitch', 'please', 'dont', 'get', 'shot', 'doug'  \n",
              "23789  'look', 'back', 'america', 'challenge', 'ahead...  \n",
              "...                                                  ...  \n",
              "85668         'count', 'nobody', 'like', 'choke', 'shit'  \n",
              "72142                    'would', 'link', 'study', 'afm'  \n",
              "4898   'congrats', 'well', 'deserved', 'one', 'best',...  \n",
              "87450  'everyone', 'say', 'letsmakeitawkward', 'queer...  \n",
              "41547  'showing', 'u', 'middle', 'finger', 'know', 't...  \n",
              "\n",
              "[61932 rows x 3 columns]"
            ],
            "text/html": [
              "\n",
              "  <div id=\"df-f503afdc-137f-41b1-8e3e-18e7ff2234ba\">\n",
              "    <div class=\"colab-df-container\">\n",
              "      <div>\n",
              "<style scoped>\n",
              "    .dataframe tbody tr th:only-of-type {\n",
              "        vertical-align: middle;\n",
              "    }\n",
              "\n",
              "    .dataframe tbody tr th {\n",
              "        vertical-align: top;\n",
              "    }\n",
              "\n",
              "    .dataframe thead th {\n",
              "        text-align: right;\n",
              "    }\n",
              "</style>\n",
              "<table border=\"1\" class=\"dataframe\">\n",
              "  <thead>\n",
              "    <tr style=\"text-align: right;\">\n",
              "      <th></th>\n",
              "      <th>Text</th>\n",
              "      <th>label</th>\n",
              "      <th>Text2</th>\n",
              "    </tr>\n",
              "  </thead>\n",
              "  <tbody>\n",
              "    <tr>\n",
              "      <th>10461</th>\n",
              "      <td>[friend, mine, ton, ga, next, speedway, cannot...</td>\n",
              "      <td>0</td>\n",
              "      <td>'friend', 'mine', 'ton', 'ga', 'next', 'speedw...</td>\n",
              "    </tr>\n",
              "    <tr>\n",
              "      <th>23652</th>\n",
              "      <td>[rhode, island, teen, want, know, year, middle...</td>\n",
              "      <td>0</td>\n",
              "      <td>'rhode', 'island', 'teen', 'want', 'know', 'ye...</td>\n",
              "    </tr>\n",
              "    <tr>\n",
              "      <th>47078</th>\n",
              "      <td>[capped, bust, half, dollar, 50c, pig, xf45, e...</td>\n",
              "      <td>0</td>\n",
              "      <td>'capped', 'bust', 'half', 'dollar', '50c', 'pi...</td>\n",
              "    </tr>\n",
              "    <tr>\n",
              "      <th>82652</th>\n",
              "      <td>[bitch, please, dont, get, shot, doug]</td>\n",
              "      <td>0</td>\n",
              "      <td>'bitch', 'please', 'dont', 'get', 'shot', 'doug'</td>\n",
              "    </tr>\n",
              "    <tr>\n",
              "      <th>23789</th>\n",
              "      <td>[look, back, america, challenge, ahead, hopefu...</td>\n",
              "      <td>0</td>\n",
              "      <td>'look', 'back', 'america', 'challenge', 'ahead...</td>\n",
              "    </tr>\n",
              "    <tr>\n",
              "      <th>...</th>\n",
              "      <td>...</td>\n",
              "      <td>...</td>\n",
              "      <td>...</td>\n",
              "    </tr>\n",
              "    <tr>\n",
              "      <th>85668</th>\n",
              "      <td>[count, nobody, like, choke, shit]</td>\n",
              "      <td>0</td>\n",
              "      <td>'count', 'nobody', 'like', 'choke', 'shit'</td>\n",
              "    </tr>\n",
              "    <tr>\n",
              "      <th>72142</th>\n",
              "      <td>[would, link, study, afm]</td>\n",
              "      <td>0</td>\n",
              "      <td>'would', 'link', 'study', 'afm'</td>\n",
              "    </tr>\n",
              "    <tr>\n",
              "      <th>4898</th>\n",
              "      <td>[congrats, well, deserved, one, best, 7, playe...</td>\n",
              "      <td>0</td>\n",
              "      <td>'congrats', 'well', 'deserved', 'one', 'best',...</td>\n",
              "    </tr>\n",
              "    <tr>\n",
              "      <th>87450</th>\n",
              "      <td>[everyone, say, letsmakeitawkward, queer, just...</td>\n",
              "      <td>0</td>\n",
              "      <td>'everyone', 'say', 'letsmakeitawkward', 'queer...</td>\n",
              "    </tr>\n",
              "    <tr>\n",
              "      <th>41547</th>\n",
              "      <td>[showing, u, middle, finger, know, talk, n, ac...</td>\n",
              "      <td>0</td>\n",
              "      <td>'showing', 'u', 'middle', 'finger', 'know', 't...</td>\n",
              "    </tr>\n",
              "  </tbody>\n",
              "</table>\n",
              "<p>61932 rows × 3 columns</p>\n",
              "</div>\n",
              "      <button class=\"colab-df-convert\" onclick=\"convertToInteractive('df-f503afdc-137f-41b1-8e3e-18e7ff2234ba')\"\n",
              "              title=\"Convert this dataframe to an interactive table.\"\n",
              "              style=\"display:none;\">\n",
              "        \n",
              "  <svg xmlns=\"http://www.w3.org/2000/svg\" height=\"24px\"viewBox=\"0 0 24 24\"\n",
              "       width=\"24px\">\n",
              "    <path d=\"M0 0h24v24H0V0z\" fill=\"none\"/>\n",
              "    <path d=\"M18.56 5.44l.94 2.06.94-2.06 2.06-.94-2.06-.94-.94-2.06-.94 2.06-2.06.94zm-11 1L8.5 8.5l.94-2.06 2.06-.94-2.06-.94L8.5 2.5l-.94 2.06-2.06.94zm10 10l.94 2.06.94-2.06 2.06-.94-2.06-.94-.94-2.06-.94 2.06-2.06.94z\"/><path d=\"M17.41 7.96l-1.37-1.37c-.4-.4-.92-.59-1.43-.59-.52 0-1.04.2-1.43.59L10.3 9.45l-7.72 7.72c-.78.78-.78 2.05 0 2.83L4 21.41c.39.39.9.59 1.41.59.51 0 1.02-.2 1.41-.59l7.78-7.78 2.81-2.81c.8-.78.8-2.07 0-2.86zM5.41 20L4 18.59l7.72-7.72 1.47 1.35L5.41 20z\"/>\n",
              "  </svg>\n",
              "      </button>\n",
              "      \n",
              "  <style>\n",
              "    .colab-df-container {\n",
              "      display:flex;\n",
              "      flex-wrap:wrap;\n",
              "      gap: 12px;\n",
              "    }\n",
              "\n",
              "    .colab-df-convert {\n",
              "      background-color: #E8F0FE;\n",
              "      border: none;\n",
              "      border-radius: 50%;\n",
              "      cursor: pointer;\n",
              "      display: none;\n",
              "      fill: #1967D2;\n",
              "      height: 32px;\n",
              "      padding: 0 0 0 0;\n",
              "      width: 32px;\n",
              "    }\n",
              "\n",
              "    .colab-df-convert:hover {\n",
              "      background-color: #E2EBFA;\n",
              "      box-shadow: 0px 1px 2px rgba(60, 64, 67, 0.3), 0px 1px 3px 1px rgba(60, 64, 67, 0.15);\n",
              "      fill: #174EA6;\n",
              "    }\n",
              "\n",
              "    [theme=dark] .colab-df-convert {\n",
              "      background-color: #3B4455;\n",
              "      fill: #D2E3FC;\n",
              "    }\n",
              "\n",
              "    [theme=dark] .colab-df-convert:hover {\n",
              "      background-color: #434B5C;\n",
              "      box-shadow: 0px 1px 3px 1px rgba(0, 0, 0, 0.15);\n",
              "      filter: drop-shadow(0px 1px 2px rgba(0, 0, 0, 0.3));\n",
              "      fill: #FFFFFF;\n",
              "    }\n",
              "  </style>\n",
              "\n",
              "      <script>\n",
              "        const buttonEl =\n",
              "          document.querySelector('#df-f503afdc-137f-41b1-8e3e-18e7ff2234ba button.colab-df-convert');\n",
              "        buttonEl.style.display =\n",
              "          google.colab.kernel.accessAllowed ? 'block' : 'none';\n",
              "\n",
              "        async function convertToInteractive(key) {\n",
              "          const element = document.querySelector('#df-f503afdc-137f-41b1-8e3e-18e7ff2234ba');\n",
              "          const dataTable =\n",
              "            await google.colab.kernel.invokeFunction('convertToInteractive',\n",
              "                                                     [key], {});\n",
              "          if (!dataTable) return;\n",
              "\n",
              "          const docLinkHtml = 'Like what you see? Visit the ' +\n",
              "            '<a target=\"_blank\" href=https://colab.research.google.com/notebooks/data_table.ipynb>data table notebook</a>'\n",
              "            + ' to learn more about interactive tables.';\n",
              "          element.innerHTML = '';\n",
              "          dataTable['output_type'] = 'display_data';\n",
              "          await google.colab.output.renderOutput(dataTable, element);\n",
              "          const docLink = document.createElement('div');\n",
              "          docLink.innerHTML = docLinkHtml;\n",
              "          element.appendChild(docLink);\n",
              "        }\n",
              "      </script>\n",
              "    </div>\n",
              "  </div>\n",
              "  "
            ]
          },
          "metadata": {},
          "execution_count": 19
        }
      ]
    },
    {
      "cell_type": "code",
      "source": [
        "X_train = trainingData['Text2']\n",
        "y_train = trainingData['label']"
      ],
      "metadata": {
        "id": "jHnl9dESTQtf"
      },
      "execution_count": null,
      "outputs": []
    },
    {
      "cell_type": "code",
      "source": [
        "X_train"
      ],
      "metadata": {
        "colab": {
          "base_uri": "https://localhost:8080/"
        },
        "id": "QoJf72xyXBau",
        "outputId": "024967d9-de2e-4e8e-cffd-e4d63eaea34f"
      },
      "execution_count": null,
      "outputs": [
        {
          "output_type": "execute_result",
          "data": {
            "text/plain": [
              "10461    'friend', 'mine', 'ton', 'ga', 'next', 'speedw...\n",
              "23652    'rhode', 'island', 'teen', 'want', 'know', 'ye...\n",
              "47078    'capped', 'bust', 'half', 'dollar', '50c', 'pi...\n",
              "82652     'bitch', 'please', 'dont', 'get', 'shot', 'doug'\n",
              "23789    'look', 'back', 'america', 'challenge', 'ahead...\n",
              "                               ...                        \n",
              "85668           'count', 'nobody', 'like', 'choke', 'shit'\n",
              "72142                      'would', 'link', 'study', 'afm'\n",
              "4898     'congrats', 'well', 'deserved', 'one', 'best',...\n",
              "87450    'everyone', 'say', 'letsmakeitawkward', 'queer...\n",
              "41547    'showing', 'u', 'middle', 'finger', 'know', 't...\n",
              "Name: Text2, Length: 61932, dtype: object"
            ]
          },
          "metadata": {},
          "execution_count": 21
        }
      ]
    },
    {
      "cell_type": "code",
      "source": [
        "print(\"X_train shape: {}\".format(X_train.shape))\n",
        "print(\"y_train shape: {}\".format(y_train.shape))\n",
        "print(\"X_test shape: {}\".format(X_test.shape))\n",
        "print(\"y_test shape: {}\".format(y_test.shape))"
      ],
      "metadata": {
        "colab": {
          "base_uri": "https://localhost:8080/"
        },
        "id": "NSkN9ph-RK8z",
        "outputId": "a9575bd4-928a-4cfe-8b10-5a4f37e1c3c9"
      },
      "execution_count": null,
      "outputs": [
        {
          "output_type": "stream",
          "name": "stdout",
          "text": [
            "X_train shape: (61932,)\n",
            "y_train shape: (61932,)\n",
            "X_test shape: (20644,)\n",
            "y_test shape: (20644,)\n"
          ]
        }
      ]
    },
    {
      "cell_type": "code",
      "source": [
        "# Now pre processing testing data\n",
        "testingData = pd.concat([X_test, y_test], axis=1, join='inner')\n",
        "testingData"
      ],
      "metadata": {
        "colab": {
          "base_uri": "https://localhost:8080/",
          "height": 423
        },
        "id": "c5YewQFcNHjd",
        "outputId": "19697bd9-fe3d-402c-abe7-29219053f0fe"
      },
      "execution_count": null,
      "outputs": [
        {
          "output_type": "execute_result",
          "data": {
            "text/plain": [
              "                                                    Text  label\n",
              "73340                                face_blowing_a_kiss      0\n",
              "79601                  real shit catch bitch game on8221      0\n",
              "51712                                                         1\n",
              "42148  added video playlist win trip star wars celebr...      0\n",
              "67645                                            randiio      0\n",
              "...                                                  ...    ...\n",
              "20640  richard amazing talent make us feel exactly ch...      0\n",
              "42488  updates appear cosmetic primarily confined tot...      0\n",
              "62160                                              blame      0\n",
              "61660  kat completely rank cow god annie annoying mr ...      0\n",
              "62704  sexist driver would drive stop every seconds o...      0\n",
              "\n",
              "[20644 rows x 2 columns]"
            ],
            "text/html": [
              "\n",
              "  <div id=\"df-f0997ef9-2b8b-490d-9741-d92ecf25da62\">\n",
              "    <div class=\"colab-df-container\">\n",
              "      <div>\n",
              "<style scoped>\n",
              "    .dataframe tbody tr th:only-of-type {\n",
              "        vertical-align: middle;\n",
              "    }\n",
              "\n",
              "    .dataframe tbody tr th {\n",
              "        vertical-align: top;\n",
              "    }\n",
              "\n",
              "    .dataframe thead th {\n",
              "        text-align: right;\n",
              "    }\n",
              "</style>\n",
              "<table border=\"1\" class=\"dataframe\">\n",
              "  <thead>\n",
              "    <tr style=\"text-align: right;\">\n",
              "      <th></th>\n",
              "      <th>Text</th>\n",
              "      <th>label</th>\n",
              "    </tr>\n",
              "  </thead>\n",
              "  <tbody>\n",
              "    <tr>\n",
              "      <th>73340</th>\n",
              "      <td>face_blowing_a_kiss</td>\n",
              "      <td>0</td>\n",
              "    </tr>\n",
              "    <tr>\n",
              "      <th>79601</th>\n",
              "      <td>real shit catch bitch game on8221</td>\n",
              "      <td>0</td>\n",
              "    </tr>\n",
              "    <tr>\n",
              "      <th>51712</th>\n",
              "      <td></td>\n",
              "      <td>1</td>\n",
              "    </tr>\n",
              "    <tr>\n",
              "      <th>42148</th>\n",
              "      <td>added video playlist win trip star wars celebr...</td>\n",
              "      <td>0</td>\n",
              "    </tr>\n",
              "    <tr>\n",
              "      <th>67645</th>\n",
              "      <td>randiio</td>\n",
              "      <td>0</td>\n",
              "    </tr>\n",
              "    <tr>\n",
              "      <th>...</th>\n",
              "      <td>...</td>\n",
              "      <td>...</td>\n",
              "    </tr>\n",
              "    <tr>\n",
              "      <th>20640</th>\n",
              "      <td>richard amazing talent make us feel exactly ch...</td>\n",
              "      <td>0</td>\n",
              "    </tr>\n",
              "    <tr>\n",
              "      <th>42488</th>\n",
              "      <td>updates appear cosmetic primarily confined tot...</td>\n",
              "      <td>0</td>\n",
              "    </tr>\n",
              "    <tr>\n",
              "      <th>62160</th>\n",
              "      <td>blame</td>\n",
              "      <td>0</td>\n",
              "    </tr>\n",
              "    <tr>\n",
              "      <th>61660</th>\n",
              "      <td>kat completely rank cow god annie annoying mr ...</td>\n",
              "      <td>0</td>\n",
              "    </tr>\n",
              "    <tr>\n",
              "      <th>62704</th>\n",
              "      <td>sexist driver would drive stop every seconds o...</td>\n",
              "      <td>0</td>\n",
              "    </tr>\n",
              "  </tbody>\n",
              "</table>\n",
              "<p>20644 rows × 2 columns</p>\n",
              "</div>\n",
              "      <button class=\"colab-df-convert\" onclick=\"convertToInteractive('df-f0997ef9-2b8b-490d-9741-d92ecf25da62')\"\n",
              "              title=\"Convert this dataframe to an interactive table.\"\n",
              "              style=\"display:none;\">\n",
              "        \n",
              "  <svg xmlns=\"http://www.w3.org/2000/svg\" height=\"24px\"viewBox=\"0 0 24 24\"\n",
              "       width=\"24px\">\n",
              "    <path d=\"M0 0h24v24H0V0z\" fill=\"none\"/>\n",
              "    <path d=\"M18.56 5.44l.94 2.06.94-2.06 2.06-.94-2.06-.94-.94-2.06-.94 2.06-2.06.94zm-11 1L8.5 8.5l.94-2.06 2.06-.94-2.06-.94L8.5 2.5l-.94 2.06-2.06.94zm10 10l.94 2.06.94-2.06 2.06-.94-2.06-.94-.94-2.06-.94 2.06-2.06.94z\"/><path d=\"M17.41 7.96l-1.37-1.37c-.4-.4-.92-.59-1.43-.59-.52 0-1.04.2-1.43.59L10.3 9.45l-7.72 7.72c-.78.78-.78 2.05 0 2.83L4 21.41c.39.39.9.59 1.41.59.51 0 1.02-.2 1.41-.59l7.78-7.78 2.81-2.81c.8-.78.8-2.07 0-2.86zM5.41 20L4 18.59l7.72-7.72 1.47 1.35L5.41 20z\"/>\n",
              "  </svg>\n",
              "      </button>\n",
              "      \n",
              "  <style>\n",
              "    .colab-df-container {\n",
              "      display:flex;\n",
              "      flex-wrap:wrap;\n",
              "      gap: 12px;\n",
              "    }\n",
              "\n",
              "    .colab-df-convert {\n",
              "      background-color: #E8F0FE;\n",
              "      border: none;\n",
              "      border-radius: 50%;\n",
              "      cursor: pointer;\n",
              "      display: none;\n",
              "      fill: #1967D2;\n",
              "      height: 32px;\n",
              "      padding: 0 0 0 0;\n",
              "      width: 32px;\n",
              "    }\n",
              "\n",
              "    .colab-df-convert:hover {\n",
              "      background-color: #E2EBFA;\n",
              "      box-shadow: 0px 1px 2px rgba(60, 64, 67, 0.3), 0px 1px 3px 1px rgba(60, 64, 67, 0.15);\n",
              "      fill: #174EA6;\n",
              "    }\n",
              "\n",
              "    [theme=dark] .colab-df-convert {\n",
              "      background-color: #3B4455;\n",
              "      fill: #D2E3FC;\n",
              "    }\n",
              "\n",
              "    [theme=dark] .colab-df-convert:hover {\n",
              "      background-color: #434B5C;\n",
              "      box-shadow: 0px 1px 3px 1px rgba(0, 0, 0, 0.15);\n",
              "      filter: drop-shadow(0px 1px 2px rgba(0, 0, 0, 0.3));\n",
              "      fill: #FFFFFF;\n",
              "    }\n",
              "  </style>\n",
              "\n",
              "      <script>\n",
              "        const buttonEl =\n",
              "          document.querySelector('#df-f0997ef9-2b8b-490d-9741-d92ecf25da62 button.colab-df-convert');\n",
              "        buttonEl.style.display =\n",
              "          google.colab.kernel.accessAllowed ? 'block' : 'none';\n",
              "\n",
              "        async function convertToInteractive(key) {\n",
              "          const element = document.querySelector('#df-f0997ef9-2b8b-490d-9741-d92ecf25da62');\n",
              "          const dataTable =\n",
              "            await google.colab.kernel.invokeFunction('convertToInteractive',\n",
              "                                                     [key], {});\n",
              "          if (!dataTable) return;\n",
              "\n",
              "          const docLinkHtml = 'Like what you see? Visit the ' +\n",
              "            '<a target=\"_blank\" href=https://colab.research.google.com/notebooks/data_table.ipynb>data table notebook</a>'\n",
              "            + ' to learn more about interactive tables.';\n",
              "          element.innerHTML = '';\n",
              "          dataTable['output_type'] = 'display_data';\n",
              "          await google.colab.output.renderOutput(dataTable, element);\n",
              "          const docLink = document.createElement('div');\n",
              "          docLink.innerHTML = docLinkHtml;\n",
              "          element.appendChild(docLink);\n",
              "        }\n",
              "      </script>\n",
              "    </div>\n",
              "  </div>\n",
              "  "
            ]
          },
          "metadata": {},
          "execution_count": 23
        }
      ]
    },
    {
      "cell_type": "code",
      "source": [
        "# Expansion of short form words\n",
        "testingData['Text'] = testingData['Text'].apply(lambda x: TextExtractionCleanUP.preprocess_english(x))\n",
        "TextExtractionCleanUP.preprocessing_method(testingData,'Text')\n",
        "# SpellCheck\n",
        "TextExtractionCleanUP.spellCheck(testingData,'Text')\n",
        "# Lemmetize and tokenize\n",
        "testingData['Text'] = testingData['Text'].apply(TextExtractionCleanUP.lemmatize_Tokenize_text)\n",
        "testingData['Text2'] = testingData.Text.apply(lambda x: str(x)[1:-1]) \n",
        "testingData"
      ],
      "metadata": {
        "colab": {
          "base_uri": "https://localhost:8080/",
          "height": 423
        },
        "id": "r4bv0a0qNUE0",
        "outputId": "d116ff7c-d6e6-45d7-aaa5-a049c504f00a"
      },
      "execution_count": null,
      "outputs": [
        {
          "output_type": "execute_result",
          "data": {
            "text/plain": [
              "                                                    Text  label  \\\n",
              "73340                              [face_blowing_a_kiss]      0   \n",
              "79601           [real, shit, catch, bitch, game, on8221]      0   \n",
              "51712                                                 []      1   \n",
              "42148  [added, video, playlist, win, trip, star, war,...      0   \n",
              "67645                                          [randiio]      0   \n",
              "...                                                  ...    ...   \n",
              "20640  [richard, amazing, talent, make, u, feel, exac...      0   \n",
              "42488  [update, appear, cosmetic, primarily, confined...      0   \n",
              "62160                                            [blame]      0   \n",
              "61660  [kat, completely, rank, cow, god, annie, annoy...      0   \n",
              "62704  [sexist, driver, would, drive, stop, every, se...      0   \n",
              "\n",
              "                                                   Text2  \n",
              "73340                              'face_blowing_a_kiss'  \n",
              "79601  'real', 'shit', 'catch', 'bitch', 'game', 'on8...  \n",
              "51712                                                     \n",
              "42148  'added', 'video', 'playlist', 'win', 'trip', '...  \n",
              "67645                                          'randiio'  \n",
              "...                                                  ...  \n",
              "20640  'richard', 'amazing', 'talent', 'make', 'u', '...  \n",
              "42488  'update', 'appear', 'cosmetic', 'primarily', '...  \n",
              "62160                                            'blame'  \n",
              "61660  'kat', 'completely', 'rank', 'cow', 'god', 'an...  \n",
              "62704  'sexist', 'driver', 'would', 'drive', 'stop', ...  \n",
              "\n",
              "[20644 rows x 3 columns]"
            ],
            "text/html": [
              "\n",
              "  <div id=\"df-b71146d8-b577-4b7a-92b8-d45eb1a4f448\">\n",
              "    <div class=\"colab-df-container\">\n",
              "      <div>\n",
              "<style scoped>\n",
              "    .dataframe tbody tr th:only-of-type {\n",
              "        vertical-align: middle;\n",
              "    }\n",
              "\n",
              "    .dataframe tbody tr th {\n",
              "        vertical-align: top;\n",
              "    }\n",
              "\n",
              "    .dataframe thead th {\n",
              "        text-align: right;\n",
              "    }\n",
              "</style>\n",
              "<table border=\"1\" class=\"dataframe\">\n",
              "  <thead>\n",
              "    <tr style=\"text-align: right;\">\n",
              "      <th></th>\n",
              "      <th>Text</th>\n",
              "      <th>label</th>\n",
              "      <th>Text2</th>\n",
              "    </tr>\n",
              "  </thead>\n",
              "  <tbody>\n",
              "    <tr>\n",
              "      <th>73340</th>\n",
              "      <td>[face_blowing_a_kiss]</td>\n",
              "      <td>0</td>\n",
              "      <td>'face_blowing_a_kiss'</td>\n",
              "    </tr>\n",
              "    <tr>\n",
              "      <th>79601</th>\n",
              "      <td>[real, shit, catch, bitch, game, on8221]</td>\n",
              "      <td>0</td>\n",
              "      <td>'real', 'shit', 'catch', 'bitch', 'game', 'on8...</td>\n",
              "    </tr>\n",
              "    <tr>\n",
              "      <th>51712</th>\n",
              "      <td>[]</td>\n",
              "      <td>1</td>\n",
              "      <td></td>\n",
              "    </tr>\n",
              "    <tr>\n",
              "      <th>42148</th>\n",
              "      <td>[added, video, playlist, win, trip, star, war,...</td>\n",
              "      <td>0</td>\n",
              "      <td>'added', 'video', 'playlist', 'win', 'trip', '...</td>\n",
              "    </tr>\n",
              "    <tr>\n",
              "      <th>67645</th>\n",
              "      <td>[randiio]</td>\n",
              "      <td>0</td>\n",
              "      <td>'randiio'</td>\n",
              "    </tr>\n",
              "    <tr>\n",
              "      <th>...</th>\n",
              "      <td>...</td>\n",
              "      <td>...</td>\n",
              "      <td>...</td>\n",
              "    </tr>\n",
              "    <tr>\n",
              "      <th>20640</th>\n",
              "      <td>[richard, amazing, talent, make, u, feel, exac...</td>\n",
              "      <td>0</td>\n",
              "      <td>'richard', 'amazing', 'talent', 'make', 'u', '...</td>\n",
              "    </tr>\n",
              "    <tr>\n",
              "      <th>42488</th>\n",
              "      <td>[update, appear, cosmetic, primarily, confined...</td>\n",
              "      <td>0</td>\n",
              "      <td>'update', 'appear', 'cosmetic', 'primarily', '...</td>\n",
              "    </tr>\n",
              "    <tr>\n",
              "      <th>62160</th>\n",
              "      <td>[blame]</td>\n",
              "      <td>0</td>\n",
              "      <td>'blame'</td>\n",
              "    </tr>\n",
              "    <tr>\n",
              "      <th>61660</th>\n",
              "      <td>[kat, completely, rank, cow, god, annie, annoy...</td>\n",
              "      <td>0</td>\n",
              "      <td>'kat', 'completely', 'rank', 'cow', 'god', 'an...</td>\n",
              "    </tr>\n",
              "    <tr>\n",
              "      <th>62704</th>\n",
              "      <td>[sexist, driver, would, drive, stop, every, se...</td>\n",
              "      <td>0</td>\n",
              "      <td>'sexist', 'driver', 'would', 'drive', 'stop', ...</td>\n",
              "    </tr>\n",
              "  </tbody>\n",
              "</table>\n",
              "<p>20644 rows × 3 columns</p>\n",
              "</div>\n",
              "      <button class=\"colab-df-convert\" onclick=\"convertToInteractive('df-b71146d8-b577-4b7a-92b8-d45eb1a4f448')\"\n",
              "              title=\"Convert this dataframe to an interactive table.\"\n",
              "              style=\"display:none;\">\n",
              "        \n",
              "  <svg xmlns=\"http://www.w3.org/2000/svg\" height=\"24px\"viewBox=\"0 0 24 24\"\n",
              "       width=\"24px\">\n",
              "    <path d=\"M0 0h24v24H0V0z\" fill=\"none\"/>\n",
              "    <path d=\"M18.56 5.44l.94 2.06.94-2.06 2.06-.94-2.06-.94-.94-2.06-.94 2.06-2.06.94zm-11 1L8.5 8.5l.94-2.06 2.06-.94-2.06-.94L8.5 2.5l-.94 2.06-2.06.94zm10 10l.94 2.06.94-2.06 2.06-.94-2.06-.94-.94-2.06-.94 2.06-2.06.94z\"/><path d=\"M17.41 7.96l-1.37-1.37c-.4-.4-.92-.59-1.43-.59-.52 0-1.04.2-1.43.59L10.3 9.45l-7.72 7.72c-.78.78-.78 2.05 0 2.83L4 21.41c.39.39.9.59 1.41.59.51 0 1.02-.2 1.41-.59l7.78-7.78 2.81-2.81c.8-.78.8-2.07 0-2.86zM5.41 20L4 18.59l7.72-7.72 1.47 1.35L5.41 20z\"/>\n",
              "  </svg>\n",
              "      </button>\n",
              "      \n",
              "  <style>\n",
              "    .colab-df-container {\n",
              "      display:flex;\n",
              "      flex-wrap:wrap;\n",
              "      gap: 12px;\n",
              "    }\n",
              "\n",
              "    .colab-df-convert {\n",
              "      background-color: #E8F0FE;\n",
              "      border: none;\n",
              "      border-radius: 50%;\n",
              "      cursor: pointer;\n",
              "      display: none;\n",
              "      fill: #1967D2;\n",
              "      height: 32px;\n",
              "      padding: 0 0 0 0;\n",
              "      width: 32px;\n",
              "    }\n",
              "\n",
              "    .colab-df-convert:hover {\n",
              "      background-color: #E2EBFA;\n",
              "      box-shadow: 0px 1px 2px rgba(60, 64, 67, 0.3), 0px 1px 3px 1px rgba(60, 64, 67, 0.15);\n",
              "      fill: #174EA6;\n",
              "    }\n",
              "\n",
              "    [theme=dark] .colab-df-convert {\n",
              "      background-color: #3B4455;\n",
              "      fill: #D2E3FC;\n",
              "    }\n",
              "\n",
              "    [theme=dark] .colab-df-convert:hover {\n",
              "      background-color: #434B5C;\n",
              "      box-shadow: 0px 1px 3px 1px rgba(0, 0, 0, 0.15);\n",
              "      filter: drop-shadow(0px 1px 2px rgba(0, 0, 0, 0.3));\n",
              "      fill: #FFFFFF;\n",
              "    }\n",
              "  </style>\n",
              "\n",
              "      <script>\n",
              "        const buttonEl =\n",
              "          document.querySelector('#df-b71146d8-b577-4b7a-92b8-d45eb1a4f448 button.colab-df-convert');\n",
              "        buttonEl.style.display =\n",
              "          google.colab.kernel.accessAllowed ? 'block' : 'none';\n",
              "\n",
              "        async function convertToInteractive(key) {\n",
              "          const element = document.querySelector('#df-b71146d8-b577-4b7a-92b8-d45eb1a4f448');\n",
              "          const dataTable =\n",
              "            await google.colab.kernel.invokeFunction('convertToInteractive',\n",
              "                                                     [key], {});\n",
              "          if (!dataTable) return;\n",
              "\n",
              "          const docLinkHtml = 'Like what you see? Visit the ' +\n",
              "            '<a target=\"_blank\" href=https://colab.research.google.com/notebooks/data_table.ipynb>data table notebook</a>'\n",
              "            + ' to learn more about interactive tables.';\n",
              "          element.innerHTML = '';\n",
              "          dataTable['output_type'] = 'display_data';\n",
              "          await google.colab.output.renderOutput(dataTable, element);\n",
              "          const docLink = document.createElement('div');\n",
              "          docLink.innerHTML = docLinkHtml;\n",
              "          element.appendChild(docLink);\n",
              "        }\n",
              "      </script>\n",
              "    </div>\n",
              "  </div>\n",
              "  "
            ]
          },
          "metadata": {},
          "execution_count": 24
        }
      ]
    },
    {
      "cell_type": "code",
      "source": [
        "X_test = testingData['Text2']\n",
        "y_test = testingData['label']"
      ],
      "metadata": {
        "id": "EAzVY2AKNrk3"
      },
      "execution_count": null,
      "outputs": []
    },
    {
      "cell_type": "code",
      "source": [
        "X_test"
      ],
      "metadata": {
        "colab": {
          "base_uri": "https://localhost:8080/"
        },
        "id": "mIqvdPInNuK6",
        "outputId": "1337abe7-6888-4ee3-de5e-d16534d52f44"
      },
      "execution_count": null,
      "outputs": [
        {
          "output_type": "execute_result",
          "data": {
            "text/plain": [
              "73340                                'face_blowing_a_kiss'\n",
              "79601    'real', 'shit', 'catch', 'bitch', 'game', 'on8...\n",
              "51712                                                     \n",
              "42148    'added', 'video', 'playlist', 'win', 'trip', '...\n",
              "67645                                            'randiio'\n",
              "                               ...                        \n",
              "20640    'richard', 'amazing', 'talent', 'make', 'u', '...\n",
              "42488    'update', 'appear', 'cosmetic', 'primarily', '...\n",
              "62160                                              'blame'\n",
              "61660    'kat', 'completely', 'rank', 'cow', 'god', 'an...\n",
              "62704    'sexist', 'driver', 'would', 'drive', 'stop', ...\n",
              "Name: Text2, Length: 20644, dtype: object"
            ]
          },
          "metadata": {},
          "execution_count": 26
        }
      ]
    },
    {
      "cell_type": "markdown",
      "source": [
        "## **Modeling**"
      ],
      "metadata": {
        "id": "owD-XKosORVl"
      }
    },
    {
      "cell_type": "code",
      "source": [
        "vec = TfidfVectorizer()\n",
        "tfidf_tr = vec.fit_transform(X_train)\n",
        "#vec = get_feature_names_out()\n",
        "tfidf_val = vec.transform(X_test)"
      ],
      "metadata": {
        "id": "VtRJdPybOQJx"
      },
      "execution_count": null,
      "outputs": []
    },
    {
      "cell_type": "code",
      "source": [
        "print(tfidf_tr.shape,tfidf_val.shape)"
      ],
      "metadata": {
        "colab": {
          "base_uri": "https://localhost:8080/"
        },
        "id": "6Q77LEOTPcw8",
        "outputId": "1180b8e6-a05e-437e-ea40-31b05404ddf5"
      },
      "execution_count": null,
      "outputs": [
        {
          "output_type": "stream",
          "name": "stdout",
          "text": [
            "(61932, 52487) (20644, 52487)\n"
          ]
        }
      ]
    },
    {
      "cell_type": "code",
      "source": [
        "print(tfidf_val)"
      ],
      "metadata": {
        "colab": {
          "base_uri": "https://localhost:8080/"
        },
        "id": "kjFDTHdlPgWV",
        "outputId": "cf0bb056-1341-4c13-a327-f8846561757c"
      },
      "execution_count": null,
      "outputs": [
        {
          "output_type": "stream",
          "name": "stdout",
          "text": [
            "  (0, 16609)\t1.0\n",
            "  (1, 41651)\t0.2915427312365346\n",
            "  (1, 37921)\t0.3456750471311509\n",
            "  (1, 33329)\t0.6793596116481384\n",
            "  (1, 19028)\t0.3219590120753789\n",
            "  (1, 8931)\t0.43164344385404607\n",
            "  (1, 6593)\t0.2097819049312252\n",
            "  (3, 50903)\t0.2542975627169736\n",
            "  (3, 49983)\t0.2948209939403746\n",
            "  (3, 49450)\t0.2399548251167816\n",
            "  (3, 47576)\t0.3400638210189212\n",
            "  (3, 43873)\t0.3135764914722437\n",
            "  (3, 35589)\t0.32956368220787297\n",
            "  (3, 16386)\t0.32224050980537366\n",
            "  (3, 15785)\t0.3164670013442298\n",
            "  (3, 9082)\t0.4059372468711552\n",
            "  (3, 2484)\t0.31539469959747174\n",
            "  (4, 37706)\t1.0\n",
            "  (5, 51761)\t0.35966192082579546\n",
            "  (5, 41437)\t0.43077324763091335\n",
            "  (5, 20843)\t0.36026376637320173\n",
            "  (5, 20242)\t0.44544985464107956\n",
            "  (5, 16927)\t0.3269278085378792\n",
            "  (5, 6118)\t0.4999803650913413\n",
            "  (6, 50103)\t0.2687973097198753\n",
            "  :\t:\n",
            "  (20640, 16484)\t0.3948185847741388\n",
            "  (20640, 11325)\t0.3608417703266197\n",
            "  (20640, 10847)\t0.4054860727837353\n",
            "  (20640, 4048)\t0.3411656380688211\n",
            "  (20641, 6834)\t1.0\n",
            "  (20642, 50168)\t0.17041299196617302\n",
            "  (20642, 48356)\t0.3322788899832635\n",
            "  (20642, 37727)\t0.266910159433673\n",
            "  (20642, 30880)\t0.1387769707345855\n",
            "  (20642, 25492)\t0.37849500813440823\n",
            "  (20642, 19839)\t0.1908665985580409\n",
            "  (20642, 11495)\t0.2800645093596809\n",
            "  (20642, 10695)\t0.2549802045805853\n",
            "  (20642, 3787)\t0.4503073270075321\n",
            "  (20642, 3762)\t0.4940989962650846\n",
            "  (20643, 51400)\t0.22401601549667055\n",
            "  (20643, 44194)\t0.266306288792066\n",
            "  (20643, 41299)\t0.2808352348381157\n",
            "  (20643, 40857)\t0.33851591207716736\n",
            "  (20643, 33521)\t0.31873175312142776\n",
            "  (20643, 26874)\t0.30438432471065435\n",
            "  (20643, 26542)\t0.40126530088936807\n",
            "  (20643, 16149)\t0.2702531640086096\n",
            "  (20643, 14455)\t0.374576838245901\n",
            "  (20643, 14449)\t0.3418159794576038\n"
          ]
        }
      ]
    },
    {
      "cell_type": "code",
      "source": [
        "nltk.download('stopwords')"
      ],
      "metadata": {
        "colab": {
          "base_uri": "https://localhost:8080/"
        },
        "id": "5mqY6p_CPlgW",
        "outputId": "1a74d8a2-1369-4b6d-9305-9e7f2d9b14c4"
      },
      "execution_count": null,
      "outputs": [
        {
          "output_type": "stream",
          "name": "stderr",
          "text": [
            "[nltk_data] Downloading package stopwords to /root/nltk_data...\n",
            "[nltk_data]   Package stopwords is already up-to-date!\n"
          ]
        },
        {
          "output_type": "execute_result",
          "data": {
            "text/plain": [
              "True"
            ]
          },
          "metadata": {},
          "execution_count": 30
        }
      ]
    },
    {
      "cell_type": "code",
      "source": [
        "import numpy as np\n",
        "import seaborn as sns\n",
        "from sklearn.metrics import precision_score, recall_score, accuracy_score, f1_score, auc, average_precision_score, confusion_matrix, roc_auc_score\n",
        "from tqdm import tqdm\n",
        "import re\n",
        "import nltk\n",
        "from nltk.stem.porter import PorterStemmer\n",
        "from textblob import Word\n",
        "import datetime\n",
        "import pandas as pd\n",
        "import requests\n",
        "import sys\n",
        "sys.path.append(\"../py\")\n",
        "\n",
        "import gensim\n",
        "from nltk.stem import WordNetLemmatizer\n",
        "from nltk.corpus import stopwords\n",
        "import matplotlib.pyplot as plt\n",
        "\n",
        "def accuracy(y, y_hat):\n",
        "    y_y_hat = list(zip(y, y_hat))\n",
        "    tp = sum([1 for i in y_y_hat if i[0] == 1 and i[1] == 1])\n",
        "    tn = sum([1 for i in y_y_hat if i[0] == 0 and i[1] == 0])\n",
        "    return (tp + tn) / float(len(y_y_hat))\n",
        "\n",
        "def f1(y, y_hat):\n",
        "    precision_score = precision(y, y_hat)\n",
        "    recall_score = recall(y, y_hat)\n",
        "    numerator = precision_score * recall_score\n",
        "    denominator = precision_score + recall_score\n",
        "    return 2 * (numerator / denominator)\n",
        "\n",
        "def precision(y, y_hat):\n",
        "    y_y_hat = list(zip(y, y_hat))\n",
        "    tp = sum([1 for i in y_y_hat if i[0] == 1 and i[1] == 1])\n",
        "    fp = sum([1 for i in y_y_hat if i[0] == 0 and i[1] == 1])\n",
        "    return tp / float(tp + fp)\n",
        "\n",
        "def recall(y, y_hat):\n",
        "    y_y_hat = list(zip(y, y_hat))\n",
        "    # Find True Positive\n",
        "    tp = sum([1 for i in y_y_hat if i[0] == 1 and i[1] == 1])\n",
        "    # Find False Negative\n",
        "    fn = sum([1 for i in y_y_hat if i[0] == 1 and i[1] == 0])\n",
        "    return tp / float(tp + fn)"
      ],
      "metadata": {
        "id": "ETQaKuDtSKPz"
      },
      "execution_count": null,
      "outputs": []
    },
    {
      "cell_type": "code",
      "source": [
        "print(tfidf_tr.shape)"
      ],
      "metadata": {
        "colab": {
          "base_uri": "https://localhost:8080/"
        },
        "id": "SukuyUM-V7hT",
        "outputId": "ce8504a8-6674-4d71-81b4-336a033abb52"
      },
      "execution_count": null,
      "outputs": [
        {
          "output_type": "stream",
          "name": "stdout",
          "text": [
            "(61932, 52487)\n"
          ]
        }
      ]
    },
    {
      "cell_type": "code",
      "source": [
        "print(tfidf_tr.shape,y_train.shape,tfidf_val.shape,y_test.shape)"
      ],
      "metadata": {
        "colab": {
          "base_uri": "https://localhost:8080/"
        },
        "id": "ky9DxqhmOCCU",
        "outputId": "d321e062-dc5c-4ceb-f27c-66bb4636d978"
      },
      "execution_count": null,
      "outputs": [
        {
          "output_type": "stream",
          "name": "stdout",
          "text": [
            "(61932, 52487) (61932,) (20644, 52487) (20644,)\n"
          ]
        }
      ]
    },
    {
      "cell_type": "code",
      "source": [
        "from sklearn.metrics import classification_report"
      ],
      "metadata": {
        "id": "vqTXYoGsVfFT"
      },
      "execution_count": null,
      "outputs": []
    },
    {
      "cell_type": "markdown",
      "source": [
        "# **SMOTE-ENN**"
      ],
      "metadata": {
        "id": "E_YjKrCIX4vc"
      }
    },
    {
      "cell_type": "code",
      "source": [
        "sme = SMOTEENN(sampling_strategy=\"minority\")\n",
        "X_tr_sme, y_tr_sme = sme.fit_resample(tfidf_tr, y_train)\n",
        "counter_sme = Counter(y_tr_sme)\n",
        "print(\"SMOTE-ENN: \", counter_sme)"
      ],
      "metadata": {
        "id": "AAf-xqGkX4C5",
        "colab": {
          "base_uri": "https://localhost:8080/"
        },
        "outputId": "95f4cb23-b29d-40e7-8ffe-6f6ece753cad"
      },
      "execution_count": null,
      "outputs": [
        {
          "output_type": "stream",
          "name": "stdout",
          "text": [
            "SMOTE-ENN:  Counter({1: 53737, 0: 4342})\n"
          ]
        }
      ]
    },
    {
      "cell_type": "code",
      "source": [
        "nb2 = MultinomialNB().fit(X_tr_sme, y_tr_sme)\n",
        "y_pr_nb2_val = nb2.predict(tfidf_val)\n",
        "print(classification_report(y_test, y_pr_nb2_val))"
      ],
      "metadata": {
        "id": "AkR463RsYJr1",
        "colab": {
          "base_uri": "https://localhost:8080/",
          "height": 522
        },
        "outputId": "613739fb-28f0-44a4-e9c0-5d80b5663183"
      },
      "execution_count": null,
      "outputs": [
        {
          "output_type": "stream",
          "name": "stdout",
          "text": [
            "Accuracy:  0.1423658205774075\n",
            "F1 Score:  0.21773516546635444\n",
            "ROC-AUC:  0.792326617313444\n",
            "Recall:  0.9963606955115245\n",
            "Precision:  0.12222222222222222\n",
            "PR-AUC:  0.3758744727430404\n",
            "              precision    recall  f1-score   support\n",
            "\n",
            "           0       0.98      0.03      0.05     18171\n",
            "           1       0.12      1.00      0.22      2473\n",
            "\n",
            "    accuracy                           0.14     20644\n",
            "   macro avg       0.55      0.51      0.13     20644\n",
            "weighted avg       0.88      0.14      0.07     20644\n",
            "\n"
          ]
        },
        {
          "output_type": "display_data",
          "data": {
            "text/plain": [
              "<Figure size 288x288 with 1 Axes>"
            ],
            "image/png": "[encoded data removed]"
          },
          "metadata": {}
        }
      ]
    },
    {
      "cell_type": "code",
      "source": [
        "rf2 = RandomForestClassifier(n_estimators=100).fit(X_tr_sme, y_tr_sme)\n",
        "y_pr_rf2_val = rf2.predict(tfidf_val)\n",
        "print(classification_report(y_test, y_pr_rf2_val))"
      ],
      "metadata": {
        "id": "4JiTBOqgaMx0",
        "colab": {
          "base_uri": "https://localhost:8080/",
          "height": 522
        },
        "outputId": "7b7de862-7ed1-452b-a8c3-5719e0b98d6f"
      },
      "execution_count": null,
      "outputs": [
        {
          "output_type": "stream",
          "name": "stdout",
          "text": [
            "Accuracy:  0.2644351869792676\n",
            "F1 Score:  0.2404081836826572\n",
            "ROC-AUC:  0.7401076082646856\n",
            "Recall:  0.9716942984229681\n",
            "Precision:  0.1371731932869049\n",
            "PR-AUC:  0.26513340129969715\n",
            "              precision    recall  f1-score   support\n",
            "\n",
            "           0       0.98      0.17      0.29     18171\n",
            "           1       0.14      0.97      0.24      2473\n",
            "\n",
            "    accuracy                           0.26     20644\n",
            "   macro avg       0.56      0.57      0.26     20644\n",
            "weighted avg       0.88      0.26      0.28     20644\n",
            "\n"
          ]
        },
        {
          "output_type": "display_data",
          "data": {
            "text/plain": [
              "<Figure size 288x288 with 1 Axes>"
            ],
            "image/png": "[encoded data removed]"
          },
          "metadata": {}
        }
      ]
    },
    {
      "cell_type": "code",
      "source": [
        "log2 = LogisticRegression().fit(X_tr_sme, y_tr_sme)\n",
        "y_pr_log2_val = log2.predict(tfidf_val)\n",
        "print(classification_report(y_test, y_pr_log2_val))"
      ],
      "metadata": {
        "id": "Is0B6k_naW_I",
        "colab": {
          "base_uri": "https://localhost:8080/",
          "height": 522
        },
        "outputId": "eccf3574-3e73-479d-be16-0dae63d2bd03"
      },
      "execution_count": null,
      "outputs": [
        {
          "output_type": "stream",
          "name": "stdout",
          "text": [
            "Accuracy:  0.20921333074985468\n",
            "F1 Score:  0.2302070071202905\n",
            "ROC-AUC:  0.8130440756204653\n",
            "Recall:  0.9870602507076426\n",
            "Precision:  0.13029785416889078\n",
            "PR-AUC:  0.5112568839308249\n",
            "              precision    recall  f1-score   support\n",
            "\n",
            "           0       0.98      0.10      0.19     18171\n",
            "           1       0.13      0.99      0.23      2473\n",
            "\n",
            "    accuracy                           0.21     20644\n",
            "   macro avg       0.56      0.55      0.21     20644\n",
            "weighted avg       0.88      0.21      0.19     20644\n",
            "\n"
          ]
        },
        {
          "output_type": "display_data",
          "data": {
            "text/plain": [
              "<Figure size 288x288 with 1 Axes>"
            ],
            "image/png": "[encoded data removed]"
          },
          "metadata": {}
        }
      ]
    },
    {
      "cell_type": "code",
      "source": [
        "svc2 = svm.LinearSVC(random_state=42).fit(X_tr_sme, y_tr_sme)\n",
        "y_pr_svc2_val = svc2.predict(tfidf_val)\n",
        "print(classification_report(y_test, y_pr_svc2_val))"
      ],
      "metadata": {
        "id": "uJ_WUnR6acQZ",
        "colab": {
          "base_uri": "https://localhost:8080/"
        },
        "outputId": "41423eb8-cfb6-4a35-d70b-36944fcae42b"
      },
      "execution_count": null,
      "outputs": [
        {
          "output_type": "stream",
          "name": "stdout",
          "text": [
            "Accuracy:  0.30066847510172445\n",
            "F1:  0.24819038691871065\n",
            "Recall:  0.9636069551152446\n",
            "Precision:  0.14243873281530187\n",
            "ROC-AUC:  0.7792771140802089\n",
            "PR-AUC:  0.38962641164310596\n",
            "              precision    recall  f1-score   support\n",
            "\n",
            "           0       0.98      0.21      0.35     18171\n",
            "           1       0.14      0.96      0.25      2473\n",
            "\n",
            "    accuracy                           0.30     20644\n",
            "   macro avg       0.56      0.59      0.30     20644\n",
            "weighted avg       0.88      0.30      0.33     20644\n",
            "\n"
          ]
        }
      ]
    },
    {
      "cell_type": "code",
      "source": [
        "abc2 = AdaBoostClassifier(\n",
        "    DecisionTreeClassifier(max_depth=1),\n",
        "    n_estimators=200\n",
        "    ).fit(X_tr_sme, y_tr_sme)\n",
        "y_pr_abc2_val = abc2.predict(tfidf_val)\n",
        "print(classification_report(y_test, y_pr_abc2_val))"
      ],
      "metadata": {
        "id": "2uqcPxmxagBf",
        "colab": {
          "base_uri": "https://localhost:8080/",
          "height": 522
        },
        "outputId": "b8ab2d99-12e2-4e99-af8c-27c21d06cd02"
      },
      "execution_count": null,
      "outputs": [
        {
          "output_type": "stream",
          "name": "stdout",
          "text": [
            "Accuracy:  0.3092423948847123\n",
            "F1 Score:  0.2510504201680672\n",
            "ROC-AUC:  0.8021552140142875\n",
            "Recall:  0.9664375252729478\n",
            "Precision:  0.14426269089153135\n",
            "PR-AUC:  0.33881758006758794\n",
            "              precision    recall  f1-score   support\n",
            "\n",
            "           0       0.98      0.22      0.36     18171\n",
            "           1       0.14      0.97      0.25      2473\n",
            "\n",
            "    accuracy                           0.31     20644\n",
            "   macro avg       0.56      0.59      0.31     20644\n",
            "weighted avg       0.88      0.31      0.35     20644\n",
            "\n"
          ]
        },
        {
          "output_type": "display_data",
          "data": {
            "text/plain": [
              "<Figure size 288x288 with 1 Axes>"
            ],
            "image/png": "[encoded data removed]"
          },
          "metadata": {}
        }
      ]
    },
    {
      "cell_type": "code",
      "source": [
        "gbc2 = GradientBoostingClassifier().fit(X_tr_sme, y_tr_sme)\n",
        "y_pr_gbc2_val = gbc2.predict(tfidf_val)\n",
        "print(classification_report(y_test, y_pr_gbc2_val))"
      ],
      "metadata": {
        "id": "9sX1C9C_ajJL",
        "colab": {
          "base_uri": "https://localhost:8080/",
          "height": 522
        },
        "outputId": "e0303afc-b156-41bd-dc08-c318103bf86f"
      },
      "execution_count": null,
      "outputs": [
        {
          "output_type": "stream",
          "name": "stdout",
          "text": [
            "Accuracy:  0.21042433636892074\n",
            "F1 Score:  0.22909572455542943\n",
            "ROC-AUC:  0.6889248526650147\n",
            "Recall:  0.9793772745653053\n",
            "Precision:  0.1297198864549301\n",
            "PR-AUC:  0.31941113638602175\n",
            "              precision    recall  f1-score   support\n",
            "\n",
            "           0       0.97      0.11      0.19     18171\n",
            "           1       0.13      0.98      0.23      2473\n",
            "\n",
            "    accuracy                           0.21     20644\n",
            "   macro avg       0.55      0.54      0.21     20644\n",
            "weighted avg       0.87      0.21      0.20     20644\n",
            "\n"
          ]
        },
        {
          "output_type": "display_data",
          "data": {
            "text/plain": [
              "<Figure size 288x288 with 1 Axes>"
            ],
            "image/png": "[encoded data removed]"
          },
          "metadata": {}
        }
      ]
    },
    {
      "cell_type": "code",
      "source": [
        "data2 = {'Accuracy': [accuracy(y_test, y_pr_nb2_val), \n",
        "                      accuracy(y_test, y_pr_rf2_val), \n",
        "                      accuracy(y_test, y_pr_log2_val), \n",
        "                      accuracy(y_test, y_pr_svc2_val),\n",
        "                      accuracy(y_test, y_pr_abc2_val),\n",
        "                      accuracy(y_test, y_pr_gbc2_val)],\n",
        "        'F1 Score': [f1(y_test, y_pr_nb2_val), \n",
        "                     f1(y_test, y_pr_rf2_val), \n",
        "                     f1(y_test, y_pr_log2_val), \n",
        "                     f1(y_test, y_pr_svc2_val),\n",
        "                     f1(y_test, y_pr_abc2_val),\n",
        "                     f1(y_test, y_pr_gbc2_val)],\n",
        "        'Recall': [recall(y_test, y_pr_nb2_val), \n",
        "                   recall(y_test, y_pr_rf2_val), \n",
        "                   recall(y_test, y_pr_log2_val),\n",
        "                   recall(y_test, y_pr_svc2_val),\n",
        "                   recall(y_test, y_pr_abc2_val),\n",
        "                   recall(y_test, y_pr_gbc2_val)],\n",
        "        'Precision': [precision(y_test, y_pr_nb2_val), \n",
        "                      precision(y_test, y_pr_rf2_val), \n",
        "                      precision(y_test, y_pr_log2_val),\n",
        "                      precision(y_test, y_pr_svc2_val),\n",
        "                      precision(y_test, y_pr_abc2_val),\n",
        "                      precision(y_test, y_pr_gbc2_val)]}\n",
        "metrics2 = pd.DataFrame(data=data2, index = ['SM_ENN Multinomial Naive Bayes', \n",
        "                                             'SM_ENN Random Forest',\n",
        "                                             'SM_ENN Logistic Regression',\n",
        "                                             'SM_ENN Support Vector Machine', \n",
        "                                             'SM_ENN AdaBoost Classifier', \n",
        "                                             'SM_ENN Gradient Boosting Classifier'])"
      ],
      "metadata": {
        "id": "amxm_5HeHHjq"
      },
      "execution_count": null,
      "outputs": []
    },
    {
      "cell_type": "code",
      "source": [
        "metrics2.to_csv(\"outputwithsmote.csv\")\n",
        "metrics2"
      ],
      "metadata": {
        "colab": {
          "base_uri": "https://localhost:8080/",
          "height": 281
        },
        "id": "enCShWQsJYMY",
        "outputId": "0af0ef7b-2cba-4170-c91f-810bca259d6c"
      },
      "execution_count": null,
      "outputs": [
        {
          "output_type": "execute_result",
          "data": {
            "text/plain": [
              "                                     Accuracy  F1 Score    Recall  Precision  \\\n",
              "SM_ENN Multinomial Naive Bayes       0.142366  0.217735  0.996361   0.122222   \n",
              "SM_ENN Random Forest                 0.264435  0.240408  0.971694   0.137173   \n",
              "SM_ENN Logistic Regression           0.209213  0.230207  0.987060   0.130298   \n",
              "SM_ENN Support Vector Machine        0.300668  0.248190  0.963607   0.142439   \n",
              "SM_ENN AdaBoost Classifier           0.309242  0.251050  0.966438   0.144263   \n",
              "SM_ENN Gradient Boosting Classifier  0.210424  0.229096  0.979377   0.129720   \n",
              "\n",
              "                                      ROC-AUC    PR-AUC  \n",
              "SM_ENN Multinomial Naive Bayes       0.792327  0.375874  \n",
              "SM_ENN Random Forest                 0.740108  0.265133  \n",
              "SM_ENN Logistic Regression           0.813044  0.511257  \n",
              "SM_ENN Support Vector Machine        0.779277  0.389626  \n",
              "SM_ENN AdaBoost Classifier           0.802155  0.338818  \n",
              "SM_ENN Gradient Boosting Classifier  0.688925  0.319411  "
            ],
            "text/html": [
              "\n",
              "  <div id=\"df-3cc137b5-5408-46a4-a25f-e902a7985895\">\n",
              "    <div class=\"colab-df-container\">\n",
              "      <div>\n",
              "<style scoped>\n",
              "    .dataframe tbody tr th:only-of-type {\n",
              "        vertical-align: middle;\n",
              "    }\n",
              "\n",
              "    .dataframe tbody tr th {\n",
              "        vertical-align: top;\n",
              "    }\n",
              "\n",
              "    .dataframe thead th {\n",
              "        text-align: right;\n",
              "    }\n",
              "</style>\n",
              "<table border=\"1\" class=\"dataframe\">\n",
              "  <thead>\n",
              "    <tr style=\"text-align: right;\">\n",
              "      <th></th>\n",
              "      <th>Accuracy</th>\n",
              "      <th>F1 Score</th>\n",
              "      <th>Recall</th>\n",
              "      <th>Precision</th>\n",
              "      <th>ROC-AUC</th>\n",
              "      <th>PR-AUC</th>\n",
              "    </tr>\n",
              "  </thead>\n",
              "  <tbody>\n",
              "    <tr>\n",
              "      <th>SM_ENN Multinomial Naive Bayes</th>\n",
              "      <td>0.142366</td>\n",
              "      <td>0.217735</td>\n",
              "      <td>0.996361</td>\n",
              "      <td>0.122222</td>\n",
              "      <td>0.792327</td>\n",
              "      <td>0.375874</td>\n",
              "    </tr>\n",
              "    <tr>\n",
              "      <th>SM_ENN Random Forest</th>\n",
              "      <td>0.264435</td>\n",
              "      <td>0.240408</td>\n",
              "      <td>0.971694</td>\n",
              "      <td>0.137173</td>\n",
              "      <td>0.740108</td>\n",
              "      <td>0.265133</td>\n",
              "    </tr>\n",
              "    <tr>\n",
              "      <th>SM_ENN Logistic Regression</th>\n",
              "      <td>0.209213</td>\n",
              "      <td>0.230207</td>\n",
              "      <td>0.987060</td>\n",
              "      <td>0.130298</td>\n",
              "      <td>0.813044</td>\n",
              "      <td>0.511257</td>\n",
              "    </tr>\n",
              "    <tr>\n",
              "      <th>SM_ENN Support Vector Machine</th>\n",
              "      <td>0.300668</td>\n",
              "      <td>0.248190</td>\n",
              "      <td>0.963607</td>\n",
              "      <td>0.142439</td>\n",
              "      <td>0.779277</td>\n",
              "      <td>0.389626</td>\n",
              "    </tr>\n",
              "    <tr>\n",
              "      <th>SM_ENN AdaBoost Classifier</th>\n",
              "      <td>0.309242</td>\n",
              "      <td>0.251050</td>\n",
              "      <td>0.966438</td>\n",
              "      <td>0.144263</td>\n",
              "      <td>0.802155</td>\n",
              "      <td>0.338818</td>\n",
              "    </tr>\n",
              "    <tr>\n",
              "      <th>SM_ENN Gradient Boosting Classifier</th>\n",
              "      <td>0.210424</td>\n",
              "      <td>0.229096</td>\n",
              "      <td>0.979377</td>\n",
              "      <td>0.129720</td>\n",
              "      <td>0.688925</td>\n",
              "      <td>0.319411</td>\n",
              "    </tr>\n",
              "  </tbody>\n",
              "</table>\n",
              "</div>\n",
              "      <button class=\"colab-df-convert\" onclick=\"convertToInteractive('df-3cc137b5-5408-46a4-a25f-e902a7985895')\"\n",
              "              title=\"Convert this dataframe to an interactive table.\"\n",
              "              style=\"display:none;\">\n",
              "        \n",
              "  <svg xmlns=\"http://www.w3.org/2000/svg\" height=\"24px\"viewBox=\"0 0 24 24\"\n",
              "       width=\"24px\">\n",
              "    <path d=\"M0 0h24v24H0V0z\" fill=\"none\"/>\n",
              "    <path d=\"M18.56 5.44l.94 2.06.94-2.06 2.06-.94-2.06-.94-.94-2.06-.94 2.06-2.06.94zm-11 1L8.5 8.5l.94-2.06 2.06-.94-2.06-.94L8.5 2.5l-.94 2.06-2.06.94zm10 10l.94 2.06.94-2.06 2.06-.94-2.06-.94-.94-2.06-.94 2.06-2.06.94z\"/><path d=\"M17.41 7.96l-1.37-1.37c-.4-.4-.92-.59-1.43-.59-.52 0-1.04.2-1.43.59L10.3 9.45l-7.72 7.72c-.78.78-.78 2.05 0 2.83L4 21.41c.39.39.9.59 1.41.59.51 0 1.02-.2 1.41-.59l7.78-7.78 2.81-2.81c.8-.78.8-2.07 0-2.86zM5.41 20L4 18.59l7.72-7.72 1.47 1.35L5.41 20z\"/>\n",
              "  </svg>\n",
              "      </button>\n",
              "      \n",
              "  <style>\n",
              "    .colab-df-container {\n",
              "      display:flex;\n",
              "      flex-wrap:wrap;\n",
              "      gap: 12px;\n",
              "    }\n",
              "\n",
              "    .colab-df-convert {\n",
              "      background-color: #E8F0FE;\n",
              "      border: none;\n",
              "      border-radius: 50%;\n",
              "      cursor: pointer;\n",
              "      display: none;\n",
              "      fill: #1967D2;\n",
              "      height: 32px;\n",
              "      padding: 0 0 0 0;\n",
              "      width: 32px;\n",
              "    }\n",
              "\n",
              "    .colab-df-convert:hover {\n",
              "      background-color: #E2EBFA;\n",
              "      box-shadow: 0px 1px 2px rgba(60, 64, 67, 0.3), 0px 1px 3px 1px rgba(60, 64, 67, 0.15);\n",
              "      fill: #174EA6;\n",
              "    }\n",
              "\n",
              "    [theme=dark] .colab-df-convert {\n",
              "      background-color: #3B4455;\n",
              "      fill: #D2E3FC;\n",
              "    }\n",
              "\n",
              "    [theme=dark] .colab-df-convert:hover {\n",
              "      background-color: #434B5C;\n",
              "      box-shadow: 0px 1px 3px 1px rgba(0, 0, 0, 0.15);\n",
              "      filter: drop-shadow(0px 1px 2px rgba(0, 0, 0, 0.3));\n",
              "      fill: #FFFFFF;\n",
              "    }\n",
              "  </style>\n",
              "\n",
              "      <script>\n",
              "        const buttonEl =\n",
              "          document.querySelector('#df-3cc137b5-5408-46a4-a25f-e902a7985895 button.colab-df-convert');\n",
              "        buttonEl.style.display =\n",
              "          google.colab.kernel.accessAllowed ? 'block' : 'none';\n",
              "\n",
              "        async function convertToInteractive(key) {\n",
              "          const element = document.querySelector('#df-3cc137b5-5408-46a4-a25f-e902a7985895');\n",
              "          const dataTable =\n",
              "            await google.colab.kernel.invokeFunction('convertToInteractive',\n",
              "                                                     [key], {});\n",
              "          if (!dataTable) return;\n",
              "\n",
              "          const docLinkHtml = 'Like what you see? Visit the ' +\n",
              "            '<a target=\"_blank\" href=https://colab.research.google.com/notebooks/data_table.ipynb>data table notebook</a>'\n",
              "            + ' to learn more about interactive tables.';\n",
              "          element.innerHTML = '';\n",
              "          dataTable['output_type'] = 'display_data';\n",
              "          await google.colab.output.renderOutput(dataTable, element);\n",
              "          const docLink = document.createElement('div');\n",
              "          docLink.innerHTML = docLinkHtml;\n",
              "          element.appendChild(docLink);\n",
              "        }\n",
              "      </script>\n",
              "    </div>\n",
              "  </div>\n",
              "  "
            ]
          },
          "metadata": {},
          "execution_count": 66
        }
      ]
    },
    {
      "cell_type": "code",
      "source": [
        ""
      ],
      "metadata": {
        "id": "tsbbp8T8F2kh"
      },
      "execution_count": null,
      "outputs": []
    }
  ]
}